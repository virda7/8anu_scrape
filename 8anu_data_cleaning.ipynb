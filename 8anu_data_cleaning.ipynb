{
 "cells": [
  {
   "cell_type": "markdown",
   "source": [
    "## Import libraries"
   ],
   "metadata": {
    "collapsed": false
   },
   "id": "69a81b6922806d56"
  },
  {
   "cell_type": "code",
   "execution_count": 1,
   "outputs": [],
   "source": [
    "import pandas as pd\n",
    "import numpy as np\n",
    "\n",
    "import jellyfish\n",
    "import seaborn as sns"
   ],
   "metadata": {
    "collapsed": false,
    "ExecuteTime": {
     "end_time": "2024-01-11T18:13:03.058968300Z",
     "start_time": "2024-01-11T18:13:02.977328200Z"
    }
   },
   "id": "5667db526e52da99"
  },
  {
   "cell_type": "markdown",
   "source": [
    "## Import database with raw info"
   ],
   "metadata": {
    "collapsed": false
   },
   "id": "7c218c4e6daf9ba1"
  },
  {
   "cell_type": "code",
   "execution_count": 2,
   "outputs": [
    {
     "data": {
      "text/plain": "  grade                 name         sector  ascents fos_ratio  \\\n0    7a  Freedom is a Battle  Trebenna West      781      66 %   \n1    7a              Karınca         Magara      699      55 %   \n2    7b       Lycian Highway  Trebenna West      645      70 %   \n3   6b+              Saxafon         Sarkit      591      66 %   \n4    6b              Nirvana         Magara      589      78 %   \n\n  recommendations  stars  \n0            10 %      3  \n1            16 %      4  \n2            13 %      4  \n3            20 %      4  \n4            10 %      3  ",
      "text/html": "<div>\n<style scoped>\n    .dataframe tbody tr th:only-of-type {\n        vertical-align: middle;\n    }\n\n    .dataframe tbody tr th {\n        vertical-align: top;\n    }\n\n    .dataframe thead th {\n        text-align: right;\n    }\n</style>\n<table border=\"1\" class=\"dataframe\">\n  <thead>\n    <tr style=\"text-align: right;\">\n      <th></th>\n      <th>grade</th>\n      <th>name</th>\n      <th>sector</th>\n      <th>ascents</th>\n      <th>fos_ratio</th>\n      <th>recommendations</th>\n      <th>stars</th>\n    </tr>\n  </thead>\n  <tbody>\n    <tr>\n      <th>0</th>\n      <td>7a</td>\n      <td>Freedom is a Battle</td>\n      <td>Trebenna West</td>\n      <td>781</td>\n      <td>66 %</td>\n      <td>10 %</td>\n      <td>3</td>\n    </tr>\n    <tr>\n      <th>1</th>\n      <td>7a</td>\n      <td>Karınca</td>\n      <td>Magara</td>\n      <td>699</td>\n      <td>55 %</td>\n      <td>16 %</td>\n      <td>4</td>\n    </tr>\n    <tr>\n      <th>2</th>\n      <td>7b</td>\n      <td>Lycian Highway</td>\n      <td>Trebenna West</td>\n      <td>645</td>\n      <td>70 %</td>\n      <td>13 %</td>\n      <td>4</td>\n    </tr>\n    <tr>\n      <th>3</th>\n      <td>6b+</td>\n      <td>Saxafon</td>\n      <td>Sarkit</td>\n      <td>591</td>\n      <td>66 %</td>\n      <td>20 %</td>\n      <td>4</td>\n    </tr>\n    <tr>\n      <th>4</th>\n      <td>6b</td>\n      <td>Nirvana</td>\n      <td>Magara</td>\n      <td>589</td>\n      <td>78 %</td>\n      <td>10 %</td>\n      <td>3</td>\n    </tr>\n  </tbody>\n</table>\n</div>"
     },
     "execution_count": 2,
     "metadata": {},
     "output_type": "execute_result"
    }
   ],
   "source": [
    "data_routes_raw = pd.read_csv('routes_info_raw.csv')\n",
    "data_routes_raw.head()"
   ],
   "metadata": {
    "collapsed": false,
    "ExecuteTime": {
     "end_time": "2024-01-11T18:13:03.138043800Z",
     "start_time": "2024-01-11T18:13:02.983770100Z"
    }
   },
   "id": "3d5cf0da410de419"
  },
  {
   "cell_type": "markdown",
   "source": [
    "## Cleaning sectors name"
   ],
   "metadata": {
    "collapsed": false
   },
   "id": "ab31a76b2e5b677c"
  },
  {
   "cell_type": "markdown",
   "source": [
    "List with sectors' name."
   ],
   "metadata": {
    "collapsed": false
   },
   "id": "e829283ea76740b9"
  },
  {
   "cell_type": "code",
   "execution_count": 3,
   "outputs": [
    {
     "data": {
      "text/plain": "['Akdeniz', 'Akyalar', 'Alaaddin', 'Alabalik', 'Alabalik Balcon']"
     },
     "execution_count": 3,
     "metadata": {},
     "output_type": "execute_result"
    }
   ],
   "source": [
    "list_sectors = (data_routes_raw['sector'].sort_values().unique()).tolist()\n",
    "list_sectors[:5]"
   ],
   "metadata": {
    "collapsed": false,
    "ExecuteTime": {
     "end_time": "2024-01-11T18:13:03.143043600Z",
     "start_time": "2024-01-11T18:13:02.997367100Z"
    }
   },
   "id": "2be5a6283ae184f4"
  },
  {
   "cell_type": "markdown",
   "source": [
    "### First step: searching misspells. Edge — 2 symbols. "
   ],
   "metadata": {
    "collapsed": false
   },
   "id": "a2092d40b040f507"
  },
  {
   "cell_type": "code",
   "execution_count": 4,
   "outputs": [],
   "source": [
    "df_sectors_similarity = pd.DataFrame(columns=list_sectors, index=list_sectors, dtype='float')"
   ],
   "metadata": {
    "collapsed": false,
    "ExecuteTime": {
     "end_time": "2024-01-11T18:13:03.156973800Z",
     "start_time": "2024-01-11T18:13:03.003405600Z"
    }
   },
   "id": "5007ee23d0c2017d"
  },
  {
   "cell_type": "markdown",
   "source": [
    "Using # levenshtein_distance — 2"
   ],
   "metadata": {
    "collapsed": false
   },
   "id": "5c3de9892b7e33aa"
  },
  {
   "cell_type": "code",
   "execution_count": 5,
   "outputs": [],
   "source": [
    "# levenshtein_distance — 2\n",
    "\n",
    "for i in range(len(list_sectors)):\n",
    "    for j in range(len(list_sectors)):\n",
    "        if i >= j:\n",
    "            df_sectors_similarity.iloc[i, j] = (\n",
    "                jellyfish.levenshtein_distance(\n",
    "                    list_sectors[i].lower(),\n",
    "                    list_sectors[j].lower())\n",
    "            )\n",
    "        else:\n",
    "            df_sectors_similarity.iloc[i, j] = np.nan"
   ],
   "metadata": {
    "collapsed": false,
    "ExecuteTime": {
     "end_time": "2024-01-11T18:13:03.538551100Z",
     "start_time": "2024-01-11T18:13:03.012168800Z"
    }
   },
   "id": "709a54ea48a8ca9e"
  },
  {
   "cell_type": "code",
   "execution_count": 6,
   "outputs": [
    {
     "data": {
      "text/plain": "                 Akdeniz  Akyalar  Alaaddin  Alabalik  Alabalik Balcon  \\\nAkdeniz              0.0      NaN       NaN       NaN              NaN   \nAkyalar              5.0      0.0       NaN       NaN              NaN   \nAlaaddin             6.0      6.0       0.0       NaN              NaN   \nAlabalik             6.0      5.0       4.0       0.0              NaN   \nAlabalik Balcon     13.0     11.0      10.0       7.0              0.0   \n\n                 Alabalik Balkon  Alabalik balkon 4  Alabalık Balkon 1  \\\nAkdeniz                      NaN                NaN                NaN   \nAkyalar                      NaN                NaN                NaN   \nAlaaddin                     NaN                NaN                NaN   \nAlabalik                     NaN                NaN                NaN   \nAlabalik Balcon              NaN                NaN                NaN   \n\n                 Alcyone  Alibalik  ...  leftcave  magara right  new  okuzini  \\\nAkdeniz              NaN       NaN  ...       NaN           NaN  NaN      NaN   \nAkyalar              NaN       NaN  ...       NaN           NaN  NaN      NaN   \nAlaaddin             NaN       NaN  ...       NaN           NaN  NaN      NaN   \nAlabalik             NaN       NaN  ...       NaN           NaN  NaN      NaN   \nAlabalik Balcon      NaN       NaN  ...       NaN           NaN  NaN      NaN   \n\n                 okuzini cave  rusgarli bahce  sincap 2  trabenna new  \\\nAkdeniz                   NaN             NaN       NaN           NaN   \nAkyalar                   NaN             NaN       NaN           NaN   \nAlaaddin                  NaN             NaN       NaN           NaN   \nAlabalik                  NaN             NaN       NaN           NaN   \nAlabalik Balcon           NaN             NaN       NaN           NaN   \n\n                 trebbana  trebenna middle  \nAkdeniz               NaN              NaN  \nAkyalar               NaN              NaN  \nAlaaddin              NaN              NaN  \nAlabalik              NaN              NaN  \nAlabalik Balcon       NaN              NaN  \n\n[5 rows x 143 columns]",
      "text/html": "<div>\n<style scoped>\n    .dataframe tbody tr th:only-of-type {\n        vertical-align: middle;\n    }\n\n    .dataframe tbody tr th {\n        vertical-align: top;\n    }\n\n    .dataframe thead th {\n        text-align: right;\n    }\n</style>\n<table border=\"1\" class=\"dataframe\">\n  <thead>\n    <tr style=\"text-align: right;\">\n      <th></th>\n      <th>Akdeniz</th>\n      <th>Akyalar</th>\n      <th>Alaaddin</th>\n      <th>Alabalik</th>\n      <th>Alabalik Balcon</th>\n      <th>Alabalik Balkon</th>\n      <th>Alabalik balkon 4</th>\n      <th>Alabalık Balkon 1</th>\n      <th>Alcyone</th>\n      <th>Alibalik</th>\n      <th>...</th>\n      <th>leftcave</th>\n      <th>magara right</th>\n      <th>new</th>\n      <th>okuzini</th>\n      <th>okuzini cave</th>\n      <th>rusgarli bahce</th>\n      <th>sincap 2</th>\n      <th>trabenna new</th>\n      <th>trebbana</th>\n      <th>trebenna middle</th>\n    </tr>\n  </thead>\n  <tbody>\n    <tr>\n      <th>Akdeniz</th>\n      <td>0.0</td>\n      <td>NaN</td>\n      <td>NaN</td>\n      <td>NaN</td>\n      <td>NaN</td>\n      <td>NaN</td>\n      <td>NaN</td>\n      <td>NaN</td>\n      <td>NaN</td>\n      <td>NaN</td>\n      <td>...</td>\n      <td>NaN</td>\n      <td>NaN</td>\n      <td>NaN</td>\n      <td>NaN</td>\n      <td>NaN</td>\n      <td>NaN</td>\n      <td>NaN</td>\n      <td>NaN</td>\n      <td>NaN</td>\n      <td>NaN</td>\n    </tr>\n    <tr>\n      <th>Akyalar</th>\n      <td>5.0</td>\n      <td>0.0</td>\n      <td>NaN</td>\n      <td>NaN</td>\n      <td>NaN</td>\n      <td>NaN</td>\n      <td>NaN</td>\n      <td>NaN</td>\n      <td>NaN</td>\n      <td>NaN</td>\n      <td>...</td>\n      <td>NaN</td>\n      <td>NaN</td>\n      <td>NaN</td>\n      <td>NaN</td>\n      <td>NaN</td>\n      <td>NaN</td>\n      <td>NaN</td>\n      <td>NaN</td>\n      <td>NaN</td>\n      <td>NaN</td>\n    </tr>\n    <tr>\n      <th>Alaaddin</th>\n      <td>6.0</td>\n      <td>6.0</td>\n      <td>0.0</td>\n      <td>NaN</td>\n      <td>NaN</td>\n      <td>NaN</td>\n      <td>NaN</td>\n      <td>NaN</td>\n      <td>NaN</td>\n      <td>NaN</td>\n      <td>...</td>\n      <td>NaN</td>\n      <td>NaN</td>\n      <td>NaN</td>\n      <td>NaN</td>\n      <td>NaN</td>\n      <td>NaN</td>\n      <td>NaN</td>\n      <td>NaN</td>\n      <td>NaN</td>\n      <td>NaN</td>\n    </tr>\n    <tr>\n      <th>Alabalik</th>\n      <td>6.0</td>\n      <td>5.0</td>\n      <td>4.0</td>\n      <td>0.0</td>\n      <td>NaN</td>\n      <td>NaN</td>\n      <td>NaN</td>\n      <td>NaN</td>\n      <td>NaN</td>\n      <td>NaN</td>\n      <td>...</td>\n      <td>NaN</td>\n      <td>NaN</td>\n      <td>NaN</td>\n      <td>NaN</td>\n      <td>NaN</td>\n      <td>NaN</td>\n      <td>NaN</td>\n      <td>NaN</td>\n      <td>NaN</td>\n      <td>NaN</td>\n    </tr>\n    <tr>\n      <th>Alabalik Balcon</th>\n      <td>13.0</td>\n      <td>11.0</td>\n      <td>10.0</td>\n      <td>7.0</td>\n      <td>0.0</td>\n      <td>NaN</td>\n      <td>NaN</td>\n      <td>NaN</td>\n      <td>NaN</td>\n      <td>NaN</td>\n      <td>...</td>\n      <td>NaN</td>\n      <td>NaN</td>\n      <td>NaN</td>\n      <td>NaN</td>\n      <td>NaN</td>\n      <td>NaN</td>\n      <td>NaN</td>\n      <td>NaN</td>\n      <td>NaN</td>\n      <td>NaN</td>\n    </tr>\n  </tbody>\n</table>\n<p>5 rows × 143 columns</p>\n</div>"
     },
     "execution_count": 6,
     "metadata": {},
     "output_type": "execute_result"
    }
   ],
   "source": [
    "df_sectors_similarity.head()"
   ],
   "metadata": {
    "collapsed": false,
    "ExecuteTime": {
     "end_time": "2024-01-11T18:13:03.551536300Z",
     "start_time": "2024-01-11T18:13:03.539550Z"
    }
   },
   "id": "3731d3fd819e0e80"
  },
  {
   "cell_type": "markdown",
   "source": [
    "Collecting similar pairs in tuple with levenshtein_distance value."
   ],
   "metadata": {
    "collapsed": false
   },
   "id": "1cec22a2858658c3"
  },
  {
   "cell_type": "code",
   "execution_count": 7,
   "outputs": [],
   "source": [
    "LOW_EDGE = 2\n",
    "\n",
    "jellyfish_filter = (df_sectors_similarity.values <= LOW_EDGE) & (df_sectors_similarity.values != 0)\n",
    "\n",
    "similar_pairs_leven_dist = [\n",
    "    (\n",
    "        df_sectors_similarity.index[x],\n",
    "        df_sectors_similarity.columns[y],\n",
    "        df_sectors_similarity.iloc[x, y]\n",
    "    )\n",
    "    for x, y in zip(*np.where(jellyfish_filter))\n",
    "]"
   ],
   "metadata": {
    "collapsed": false,
    "ExecuteTime": {
     "end_time": "2024-01-11T18:13:03.569099100Z",
     "start_time": "2024-01-11T18:13:03.551536300Z"
    }
   },
   "id": "f3bd9bb6035bbeea"
  },
  {
   "cell_type": "code",
   "execution_count": 8,
   "outputs": [
    {
     "data": {
      "text/plain": "[('Alabalik Balkon', 'Alabalik Balcon', 1.0),\n ('Alabalik balkon 4', 'Alabalik Balkon', 2.0),\n ('Alabalık Balkon 1', 'Alabalik balkon 4', 2.0),\n ('Alibalik', 'Alabalik', 1.0),\n ('Echoes sağ2', 'Echoes Sag', 2.0),\n ('Gizmo 1', 'Gizmo', 2.0),\n ('Gizmo 2', 'Gizmo', 2.0),\n ('Gizmo 2', 'Gizmo 1', 1.0),\n ('Gizmo 3', 'Gizmo', 2.0),\n ('Gizmo 3', 'Gizmo 1', 1.0),\n ('Gizmo 3', 'Gizmo 2', 1.0),\n ('Güzel Manzara', 'Günzel Manzara', 1.0),\n ('Kekik', 'Geyik', 2.0),\n ('Kulluin Teras', 'Kulluin Taras', 1.0),\n ('Küllüin', 'Küllin1', 2.0),\n ('Ottoman', 'Ottaman', 1.0),\n ('Rüzgarli Bahçe', 'Ruzgarli Bahce', 2.0),\n ('Rüzgarli Bahçe', 'Rüzgarl? Bahçe', 1.0),\n ('Sincap 3', 'Sincap', 2.0),\n ('Trebena', 'Trabenna', 2.0),\n ('Trebene', 'Trebena', 1.0),\n ('Trebenna', 'Trabenna', 1.0),\n ('Trebenna', 'Trebena', 1.0),\n ('Trebenna', 'Trebene', 2.0),\n ('Trebenna West', 'Trebena West', 1.0),\n ('Trebenna West', 'Trebenna Ost', 2.0),\n ('Trebenna West 2', 'Trebenna West', 2.0),\n ('Trebenna West 4', 'Trebenna West', 2.0),\n ('Trebenna West 4', 'Trebenna West 2', 1.0),\n ('Trebenna West Extension 3', 'Trebenna West Extension', 2.0),\n ('Trebenna West Extention 2', 'Trebenna West Extension 3', 2.0),\n ('Trebenna east', 'Trebenna Ost', 2.0),\n ('Trebenna east', 'Trebenna West', 2.0),\n ('Trebenna west 3', 'Trebenna West', 2.0),\n ('Trebenna west 3', 'Trebenna West 2', 1.0),\n ('Trebenna west 3', 'Trebenna West 4', 1.0),\n ('eches right', 'Echoes Rıght', 2.0),\n ('esek uctu', 'Esekuctu', 1.0),\n ('güzal mansara', 'Güzel Manzara', 2.0),\n ('güzel mansara', 'Günzel Manzara', 2.0),\n ('güzel mansara', 'Güzel Manzara', 1.0),\n ('güzel mansara', 'güzal mansara', 1.0),\n ('laboratuvar', 'Laboratuar', 1.0),\n ('leftcave', 'Left Cave', 1.0),\n ('okuzini', 'Oekuezini', 2.0),\n ('rusgarli bahce', 'Ruzgarli Bahce', 1.0),\n ('sincap 2', 'Sincap', 2.0),\n ('sincap 2', 'Sincap 3', 1.0),\n ('trabenna new', 'Trebenna new', 1.0),\n ('trebbana', 'Trebena', 2.0),\n ('trebbana', 'Trebenna', 2.0)]"
     },
     "execution_count": 8,
     "metadata": {},
     "output_type": "execute_result"
    }
   ],
   "source": [
    "similar_pairs_leven_dist"
   ],
   "metadata": {
    "collapsed": false,
    "ExecuteTime": {
     "end_time": "2024-01-11T18:13:03.580988500Z",
     "start_time": "2024-01-11T18:13:03.558765700Z"
    }
   },
   "id": "f8980afe7de27035"
  },
  {
   "cell_type": "code",
   "execution_count": 9,
   "outputs": [
    {
     "data": {
      "text/plain": "51"
     },
     "execution_count": 9,
     "metadata": {},
     "output_type": "execute_result"
    }
   ],
   "source": [
    "len(similar_pairs_leven_dist)"
   ],
   "metadata": {
    "collapsed": false,
    "ExecuteTime": {
     "end_time": "2024-01-11T18:13:03.580988500Z",
     "start_time": "2024-01-11T18:13:03.563623400Z"
    }
   },
   "id": "9aee847b56e68ba"
  },
  {
   "cell_type": "markdown",
   "source": [
    "Creating new df with columns for clean sectors' and routes' name."
   ],
   "metadata": {
    "collapsed": false
   },
   "id": "d29567c46c068ead"
  },
  {
   "cell_type": "code",
   "execution_count": 10,
   "outputs": [
    {
     "data": {
      "text/plain": "  grade                 name name_clean         sector sector_clean  ascents  \\\n0    7a  Freedom is a Battle       None  Trebenna West         None      781   \n1    7a              Karınca       None         Magara         None      699   \n2    7b       Lycian Highway       None  Trebenna West         None      645   \n3   6b+              Saxafon       None         Sarkit         None      591   \n4    6b              Nirvana       None         Magara         None      589   \n\n  fos_ratio recommendations  stars  \n0      66 %            10 %      3  \n1      55 %            16 %      4  \n2      70 %            13 %      4  \n3      66 %            20 %      4  \n4      78 %            10 %      3  ",
      "text/html": "<div>\n<style scoped>\n    .dataframe tbody tr th:only-of-type {\n        vertical-align: middle;\n    }\n\n    .dataframe tbody tr th {\n        vertical-align: top;\n    }\n\n    .dataframe thead th {\n        text-align: right;\n    }\n</style>\n<table border=\"1\" class=\"dataframe\">\n  <thead>\n    <tr style=\"text-align: right;\">\n      <th></th>\n      <th>grade</th>\n      <th>name</th>\n      <th>name_clean</th>\n      <th>sector</th>\n      <th>sector_clean</th>\n      <th>ascents</th>\n      <th>fos_ratio</th>\n      <th>recommendations</th>\n      <th>stars</th>\n    </tr>\n  </thead>\n  <tbody>\n    <tr>\n      <th>0</th>\n      <td>7a</td>\n      <td>Freedom is a Battle</td>\n      <td>None</td>\n      <td>Trebenna West</td>\n      <td>None</td>\n      <td>781</td>\n      <td>66 %</td>\n      <td>10 %</td>\n      <td>3</td>\n    </tr>\n    <tr>\n      <th>1</th>\n      <td>7a</td>\n      <td>Karınca</td>\n      <td>None</td>\n      <td>Magara</td>\n      <td>None</td>\n      <td>699</td>\n      <td>55 %</td>\n      <td>16 %</td>\n      <td>4</td>\n    </tr>\n    <tr>\n      <th>2</th>\n      <td>7b</td>\n      <td>Lycian Highway</td>\n      <td>None</td>\n      <td>Trebenna West</td>\n      <td>None</td>\n      <td>645</td>\n      <td>70 %</td>\n      <td>13 %</td>\n      <td>4</td>\n    </tr>\n    <tr>\n      <th>3</th>\n      <td>6b+</td>\n      <td>Saxafon</td>\n      <td>None</td>\n      <td>Sarkit</td>\n      <td>None</td>\n      <td>591</td>\n      <td>66 %</td>\n      <td>20 %</td>\n      <td>4</td>\n    </tr>\n    <tr>\n      <th>4</th>\n      <td>6b</td>\n      <td>Nirvana</td>\n      <td>None</td>\n      <td>Magara</td>\n      <td>None</td>\n      <td>589</td>\n      <td>78 %</td>\n      <td>10 %</td>\n      <td>3</td>\n    </tr>\n  </tbody>\n</table>\n</div>"
     },
     "execution_count": 10,
     "metadata": {},
     "output_type": "execute_result"
    }
   ],
   "source": [
    "data_routes_sector_clean = data_routes_raw.copy()\n",
    "data_routes_sector_clean.insert(loc=3, column='sector_clean', value=None)\n",
    "data_routes_sector_clean.insert(loc=2, column='name_clean', value=None)\n",
    "\n",
    "data_routes_sector_clean.head()"
   ],
   "metadata": {
    "collapsed": false,
    "ExecuteTime": {
     "end_time": "2024-01-11T18:13:03.607284900Z",
     "start_time": "2024-01-11T18:13:03.568098600Z"
    }
   },
   "id": "7cf7bd352e4f46f7"
  },
  {
   "cell_type": "markdown",
   "source": [
    "Function for changing wrong names. It will help us in the two steps."
   ],
   "metadata": {
    "collapsed": false
   },
   "id": "897f2f5ee19e2f6"
  },
  {
   "cell_type": "code",
   "execution_count": 11,
   "outputs": [],
   "source": [
    "def sector_name_revers (similar_pairs, column_name):\n",
    "    \"\"\"\n",
    "    Function for changing wrong names in sector's column.\n",
    "    :param similar_pairs: list of tuples with similar names of sectors\n",
    "    :return: None\n",
    "    \"\"\"\n",
    "    # Creating dictionary with 'wrong_value': ['true_value', ascents'_different]}\n",
    "\n",
    "    similar_pairs_dict = {}\n",
    "\n",
    "    for pair_sectors in similar_pairs:\n",
    "        x = pair_sectors[0]\n",
    "        y = pair_sectors[1]\n",
    "    \n",
    "        x_ascents = (\n",
    "            data_routes_sector_clean[data_routes_sector_clean[column_name] == x]['ascents']\n",
    "            .sum())\n",
    "        y_ascents = (\n",
    "            data_routes_sector_clean[data_routes_sector_clean[column_name] == y]['ascents']\n",
    "            .sum())\n",
    "    \n",
    "        difference = abs(x_ascents - y_ascents)\n",
    "        \n",
    "        # if x-name is more popular than y-name,\n",
    "        # it has more ascents, and we will remember in dict\n",
    "        # y-name as a key and x-name as right name\n",
    "    \n",
    "        if x_ascents > y_ascents:\n",
    "   \n",
    "            try:\n",
    "                # if dict already has this sector as a key,\n",
    "                # we should check more popular sectors name variation\n",
    "                \n",
    "                if difference > similar_pairs_dict[y][1]:\n",
    "                    similar_pairs_dict[y] = [x, difference]\n",
    "            except:\n",
    "                # if not, just write new key and value\n",
    "                \n",
    "                similar_pairs_dict[y] = [x, difference]\n",
    "    \n",
    "        else:\n",
    "    \n",
    "            try:\n",
    "                if difference > similar_pairs_dict[x][1]:\n",
    "                    similar_pairs_dict[x] = [y, difference]\n",
    "            except:\n",
    "                similar_pairs_dict[x] = [y, difference]\n",
    "                \n",
    "                \n",
    "        # cleaning-part of function\n",
    "\n",
    "        for index, row in data_routes_sector_clean.iterrows():\n",
    "            sector_old_name = row[column_name]\n",
    "        \n",
    "            if sector_old_name in similar_pairs_dict:\n",
    "                data_routes_sector_clean.loc[index, 'sector_clean'] = similar_pairs_dict[sector_old_name][0]\n",
    "            else:\n",
    "                data_routes_sector_clean.loc[index, 'sector_clean'] = sector_old_name\n",
    "        "
   ],
   "metadata": {
    "collapsed": false,
    "ExecuteTime": {
     "end_time": "2024-01-11T18:13:03.629263100Z",
     "start_time": "2024-01-11T18:13:03.579992Z"
    }
   },
   "id": "88c9855591c9ff14"
  },
  {
   "cell_type": "markdown",
   "source": [
    "Fill sector_clean column."
   ],
   "metadata": {
    "collapsed": false
   },
   "id": "ce18c7be4e3a0a17"
  },
  {
   "cell_type": "code",
   "execution_count": 12,
   "outputs": [],
   "source": [
    "# use function to find the most popular sectors name variation\n",
    "\n",
    "sector_name_revers(similar_pairs_leven_dist, 'sector')"
   ],
   "metadata": {
    "collapsed": false,
    "ExecuteTime": {
     "end_time": "2024-01-11T18:13:11.812601400Z",
     "start_time": "2024-01-11T18:13:03.581989500Z"
    }
   },
   "id": "89760cfb8b822183"
  },
  {
   "cell_type": "code",
   "execution_count": 13,
   "outputs": [
    {
     "data": {
      "text/plain": "  grade                 name name_clean         sector   sector_clean  \\\n0    7a  Freedom is a Battle       None  Trebenna West  Trebenna West   \n1    7a              Karınca       None         Magara         Magara   \n2    7b       Lycian Highway       None  Trebenna West  Trebenna West   \n3   6b+              Saxafon       None         Sarkit         Sarkit   \n4    6b              Nirvana       None         Magara         Magara   \n\n   ascents fos_ratio recommendations  stars  \n0      781      66 %            10 %      3  \n1      699      55 %            16 %      4  \n2      645      70 %            13 %      4  \n3      591      66 %            20 %      4  \n4      589      78 %            10 %      3  ",
      "text/html": "<div>\n<style scoped>\n    .dataframe tbody tr th:only-of-type {\n        vertical-align: middle;\n    }\n\n    .dataframe tbody tr th {\n        vertical-align: top;\n    }\n\n    .dataframe thead th {\n        text-align: right;\n    }\n</style>\n<table border=\"1\" class=\"dataframe\">\n  <thead>\n    <tr style=\"text-align: right;\">\n      <th></th>\n      <th>grade</th>\n      <th>name</th>\n      <th>name_clean</th>\n      <th>sector</th>\n      <th>sector_clean</th>\n      <th>ascents</th>\n      <th>fos_ratio</th>\n      <th>recommendations</th>\n      <th>stars</th>\n    </tr>\n  </thead>\n  <tbody>\n    <tr>\n      <th>0</th>\n      <td>7a</td>\n      <td>Freedom is a Battle</td>\n      <td>None</td>\n      <td>Trebenna West</td>\n      <td>Trebenna West</td>\n      <td>781</td>\n      <td>66 %</td>\n      <td>10 %</td>\n      <td>3</td>\n    </tr>\n    <tr>\n      <th>1</th>\n      <td>7a</td>\n      <td>Karınca</td>\n      <td>None</td>\n      <td>Magara</td>\n      <td>Magara</td>\n      <td>699</td>\n      <td>55 %</td>\n      <td>16 %</td>\n      <td>4</td>\n    </tr>\n    <tr>\n      <th>2</th>\n      <td>7b</td>\n      <td>Lycian Highway</td>\n      <td>None</td>\n      <td>Trebenna West</td>\n      <td>Trebenna West</td>\n      <td>645</td>\n      <td>70 %</td>\n      <td>13 %</td>\n      <td>4</td>\n    </tr>\n    <tr>\n      <th>3</th>\n      <td>6b+</td>\n      <td>Saxafon</td>\n      <td>None</td>\n      <td>Sarkit</td>\n      <td>Sarkit</td>\n      <td>591</td>\n      <td>66 %</td>\n      <td>20 %</td>\n      <td>4</td>\n    </tr>\n    <tr>\n      <th>4</th>\n      <td>6b</td>\n      <td>Nirvana</td>\n      <td>None</td>\n      <td>Magara</td>\n      <td>Magara</td>\n      <td>589</td>\n      <td>78 %</td>\n      <td>10 %</td>\n      <td>3</td>\n    </tr>\n  </tbody>\n</table>\n</div>"
     },
     "execution_count": 13,
     "metadata": {},
     "output_type": "execute_result"
    }
   ],
   "source": [
    "data_routes_sector_clean.head()"
   ],
   "metadata": {
    "collapsed": false,
    "ExecuteTime": {
     "end_time": "2024-01-11T18:13:11.830482700Z",
     "start_time": "2024-01-11T18:13:11.813602800Z"
    }
   },
   "id": "47c9b8cff40086f1"
  },
  {
   "cell_type": "markdown",
   "source": [
    "### Second step: counting Jaro-Winkler Similarity. Edge — 85%. \n"
   ],
   "metadata": {
    "collapsed": false
   },
   "id": "f9d755fb0d6a2aba"
  },
  {
   "cell_type": "markdown",
   "source": [
    "Cross table with sectors' name and their similarity percent."
   ],
   "metadata": {
    "collapsed": false
   },
   "id": "7e393a3d1b5fbf1a"
  },
  {
   "cell_type": "code",
   "execution_count": 14,
   "outputs": [],
   "source": [
    "df_sectors_similarity = pd.DataFrame(columns=list_sectors, index=list_sectors, dtype='float')"
   ],
   "metadata": {
    "collapsed": false,
    "ExecuteTime": {
     "end_time": "2024-01-11T18:13:11.831482200Z",
     "start_time": "2024-01-11T18:13:11.821487500Z"
    }
   },
   "id": "73a6a41d4c04f15e"
  },
  {
   "cell_type": "markdown",
   "source": [
    "Using # Jaro-Winkler Similarity — 85%"
   ],
   "metadata": {
    "collapsed": false
   },
   "id": "10da42be9af3c7a3"
  },
  {
   "cell_type": "code",
   "execution_count": 15,
   "outputs": [],
   "source": [
    "# Jaro-Winkler Similarity — 85%\n",
    "\n",
    "for i in range(len(list_sectors)):\n",
    "    for j in range(len(list_sectors)):\n",
    "        if i >= j:\n",
    "            df_sectors_similarity.iloc[i, j] = (\n",
    "                jellyfish.jaro_winkler_similarity(\n",
    "                    list_sectors[i].lower(),\n",
    "                    list_sectors[j].lower())\n",
    "            )\n",
    "        else:\n",
    "            df_sectors_similarity.iloc[i, j] = np.nan"
   ],
   "metadata": {
    "collapsed": false,
    "ExecuteTime": {
     "end_time": "2024-01-11T18:13:12.430984200Z",
     "start_time": "2024-01-11T18:13:11.826481900Z"
    }
   },
   "id": "5c975147109ad1b0"
  },
  {
   "cell_type": "code",
   "execution_count": 16,
   "outputs": [
    {
     "data": {
      "text/plain": "                  Akdeniz   Akyalar  Alaaddin  Alabalik  Alabalik Balcon  \\\nAkdeniz          1.000000       NaN       NaN       NaN              NaN   \nAkyalar          0.523810  1.000000       NaN       NaN              NaN   \nAlaaddin         0.607143  0.607143  1.000000       NaN              NaN   \nAlabalik         0.511905  0.607143  0.825000  1.000000              NaN   \nAlabalik Balcon  0.431746  0.615873  0.652778  0.906667              1.0   \n\n                 Alabalik Balkon  Alabalik balkon 4  Alabalık Balkon 1  \\\nAkdeniz                      NaN                NaN                NaN   \nAkyalar                      NaN                NaN                NaN   \nAlaaddin                     NaN                NaN                NaN   \nAlabalik                     NaN                NaN                NaN   \nAlabalik Balcon              NaN                NaN                NaN   \n\n                 Alcyone  Alibalik  ...  leftcave  magara right  new  okuzini  \\\nAkdeniz              NaN       NaN  ...       NaN           NaN  NaN      NaN   \nAkyalar              NaN       NaN  ...       NaN           NaN  NaN      NaN   \nAlaaddin             NaN       NaN  ...       NaN           NaN  NaN      NaN   \nAlabalik             NaN       NaN  ...       NaN           NaN  NaN      NaN   \nAlabalik Balcon      NaN       NaN  ...       NaN           NaN  NaN      NaN   \n\n                 okuzini cave  rusgarli bahce  sincap 2  trabenna new  \\\nAkdeniz                   NaN             NaN       NaN           NaN   \nAkyalar                   NaN             NaN       NaN           NaN   \nAlaaddin                  NaN             NaN       NaN           NaN   \nAlabalik                  NaN             NaN       NaN           NaN   \nAlabalik Balcon           NaN             NaN       NaN           NaN   \n\n                 trebbana  trebenna middle  \nAkdeniz               NaN              NaN  \nAkyalar               NaN              NaN  \nAlaaddin              NaN              NaN  \nAlabalik              NaN              NaN  \nAlabalik Balcon       NaN              NaN  \n\n[5 rows x 143 columns]",
      "text/html": "<div>\n<style scoped>\n    .dataframe tbody tr th:only-of-type {\n        vertical-align: middle;\n    }\n\n    .dataframe tbody tr th {\n        vertical-align: top;\n    }\n\n    .dataframe thead th {\n        text-align: right;\n    }\n</style>\n<table border=\"1\" class=\"dataframe\">\n  <thead>\n    <tr style=\"text-align: right;\">\n      <th></th>\n      <th>Akdeniz</th>\n      <th>Akyalar</th>\n      <th>Alaaddin</th>\n      <th>Alabalik</th>\n      <th>Alabalik Balcon</th>\n      <th>Alabalik Balkon</th>\n      <th>Alabalik balkon 4</th>\n      <th>Alabalık Balkon 1</th>\n      <th>Alcyone</th>\n      <th>Alibalik</th>\n      <th>...</th>\n      <th>leftcave</th>\n      <th>magara right</th>\n      <th>new</th>\n      <th>okuzini</th>\n      <th>okuzini cave</th>\n      <th>rusgarli bahce</th>\n      <th>sincap 2</th>\n      <th>trabenna new</th>\n      <th>trebbana</th>\n      <th>trebenna middle</th>\n    </tr>\n  </thead>\n  <tbody>\n    <tr>\n      <th>Akdeniz</th>\n      <td>1.000000</td>\n      <td>NaN</td>\n      <td>NaN</td>\n      <td>NaN</td>\n      <td>NaN</td>\n      <td>NaN</td>\n      <td>NaN</td>\n      <td>NaN</td>\n      <td>NaN</td>\n      <td>NaN</td>\n      <td>...</td>\n      <td>NaN</td>\n      <td>NaN</td>\n      <td>NaN</td>\n      <td>NaN</td>\n      <td>NaN</td>\n      <td>NaN</td>\n      <td>NaN</td>\n      <td>NaN</td>\n      <td>NaN</td>\n      <td>NaN</td>\n    </tr>\n    <tr>\n      <th>Akyalar</th>\n      <td>0.523810</td>\n      <td>1.000000</td>\n      <td>NaN</td>\n      <td>NaN</td>\n      <td>NaN</td>\n      <td>NaN</td>\n      <td>NaN</td>\n      <td>NaN</td>\n      <td>NaN</td>\n      <td>NaN</td>\n      <td>...</td>\n      <td>NaN</td>\n      <td>NaN</td>\n      <td>NaN</td>\n      <td>NaN</td>\n      <td>NaN</td>\n      <td>NaN</td>\n      <td>NaN</td>\n      <td>NaN</td>\n      <td>NaN</td>\n      <td>NaN</td>\n    </tr>\n    <tr>\n      <th>Alaaddin</th>\n      <td>0.607143</td>\n      <td>0.607143</td>\n      <td>1.000000</td>\n      <td>NaN</td>\n      <td>NaN</td>\n      <td>NaN</td>\n      <td>NaN</td>\n      <td>NaN</td>\n      <td>NaN</td>\n      <td>NaN</td>\n      <td>...</td>\n      <td>NaN</td>\n      <td>NaN</td>\n      <td>NaN</td>\n      <td>NaN</td>\n      <td>NaN</td>\n      <td>NaN</td>\n      <td>NaN</td>\n      <td>NaN</td>\n      <td>NaN</td>\n      <td>NaN</td>\n    </tr>\n    <tr>\n      <th>Alabalik</th>\n      <td>0.511905</td>\n      <td>0.607143</td>\n      <td>0.825000</td>\n      <td>1.000000</td>\n      <td>NaN</td>\n      <td>NaN</td>\n      <td>NaN</td>\n      <td>NaN</td>\n      <td>NaN</td>\n      <td>NaN</td>\n      <td>...</td>\n      <td>NaN</td>\n      <td>NaN</td>\n      <td>NaN</td>\n      <td>NaN</td>\n      <td>NaN</td>\n      <td>NaN</td>\n      <td>NaN</td>\n      <td>NaN</td>\n      <td>NaN</td>\n      <td>NaN</td>\n    </tr>\n    <tr>\n      <th>Alabalik Balcon</th>\n      <td>0.431746</td>\n      <td>0.615873</td>\n      <td>0.652778</td>\n      <td>0.906667</td>\n      <td>1.0</td>\n      <td>NaN</td>\n      <td>NaN</td>\n      <td>NaN</td>\n      <td>NaN</td>\n      <td>NaN</td>\n      <td>...</td>\n      <td>NaN</td>\n      <td>NaN</td>\n      <td>NaN</td>\n      <td>NaN</td>\n      <td>NaN</td>\n      <td>NaN</td>\n      <td>NaN</td>\n      <td>NaN</td>\n      <td>NaN</td>\n      <td>NaN</td>\n    </tr>\n  </tbody>\n</table>\n<p>5 rows × 143 columns</p>\n</div>"
     },
     "execution_count": 16,
     "metadata": {},
     "output_type": "execute_result"
    }
   ],
   "source": [
    "df_sectors_similarity.head()"
   ],
   "metadata": {
    "collapsed": false,
    "ExecuteTime": {
     "end_time": "2024-01-11T18:13:12.446299Z",
     "start_time": "2024-01-11T18:13:12.430984200Z"
    }
   },
   "id": "873ea2147795feda"
  },
  {
   "cell_type": "markdown",
   "source": [
    "Collecting similar pairs in tipple with jaro_winkler_similarity value."
   ],
   "metadata": {
    "collapsed": false
   },
   "id": "cd3aca6a07982673"
  },
  {
   "cell_type": "code",
   "execution_count": 17,
   "outputs": [],
   "source": [
    "LOW_EDGE = 0.85\n",
    "\n",
    "jellyfish_filter = (df_sectors_similarity.values >= LOW_EDGE) & (df_sectors_similarity.values != 1)\n",
    "\n",
    "similar_pairs_jw_similarity = [\n",
    "    (\n",
    "        df_sectors_similarity.index[x],\n",
    "        df_sectors_similarity.columns[y],\n",
    "        df_sectors_similarity.iloc[x, y]\n",
    "    )\n",
    "    for x, y in zip(*np.where(jellyfish_filter))\n",
    "]"
   ],
   "metadata": {
    "collapsed": false,
    "ExecuteTime": {
     "end_time": "2024-01-11T18:13:12.459905600Z",
     "start_time": "2024-01-11T18:13:12.447298900Z"
    }
   },
   "id": "c9ccd5c8d0c406ea"
  },
  {
   "cell_type": "code",
   "execution_count": 18,
   "outputs": [
    {
     "data": {
      "text/plain": "[('Alabalik Balcon', 'Alabalik', 0.9066666666666666),\n ('Alabalik Balkon', 'Alabalik', 0.9066666666666666),\n ('Alabalik Balkon', 'Alabalik Balcon', 0.9733333333333334),\n ('Alabalik balkon 4', 'Alabalik', 0.8941176470588236),\n ('Alabalik balkon 4', 'Alabalik Balcon', 0.9513725490196078),\n ('Alabalik balkon 4', 'Alabalik Balkon', 0.9764705882352941),\n ('Alabalık Balkon 1', 'Alabalik', 0.8573529411764705),\n ('Alabalık Balkon 1', 'Alabalik Balcon', 0.9262745098039216),\n ('Alabalık Balkon 1', 'Alabalik Balkon', 0.9513725490196078),\n ('Alabalık Balkon 1', 'Alabalik balkon 4', 0.9529411764705882),\n ('Alibalik', 'Alabalik', 0.8952380952380953),\n ('Anatolia Right', 'Anatolia', 0.9142857142857143),\n ('Anatolia Sag', 'Anatolia', 0.9333333333333333),\n ('Anatolia Sag', 'Anatolia Right', 0.9095238095238095),\n ('Antalya', 'Anatolia', 0.8507936507936509),\n ('Cesme Sol (Left)', 'Cesme', 0.8625),\n ('Dragonfly', 'Dragon', 0.9333333333333333),\n ('Echoes Rıght', 'Echoes', 0.9),\n ('Echoes Sag', 'Echoes', 0.92),\n ('Echoes Sag', 'Echoes Rıght', 0.8933333333333334),\n ('Echoes extention', 'Echoes', 0.875),\n ('Echoes sağ2', 'Echoes', 0.9090909090909091),\n ('Echoes sağ2', 'Echoes Sag', 0.9436363636363637),\n ('Geyik bayiri', 'Geyik', 0.8833333333333334),\n ('Gizmo 1', 'Gizmo', 0.9428571428571428),\n ('Gizmo 2', 'Gizmo', 0.9428571428571428),\n ('Gizmo 2', 'Gizmo 1', 0.9428571428571428),\n ('Gizmo 3', 'Gizmo', 0.9428571428571428),\n ('Gizmo 3', 'Gizmo 1', 0.9428571428571428),\n ('Gizmo 3', 'Gizmo 2', 0.9428571428571428),\n ('Güzel Manzara', 'Günzel Manzara', 0.9194139194139195),\n ('Heart left', 'Heart', 0.9),\n ('Hearth/Left cave', 'Heart', 0.8625),\n ('Hearth/Left cave', 'Heart left', 0.885),\n ('Kanyon left', 'Kanyon', 0.9090909090909091),\n ('Kanyon sol', 'Kanyon', 0.92),\n ('Kanyon sol', 'Kanyon left', 0.9054545454545454),\n ('Kebap Left', 'Kebap', 0.9),\n ('Kulluin Teras', 'Kulluin Taras', 0.9525641025641025),\n ('Kulluin4', 'Kulluin Taras', 0.8826923076923077),\n ('Kulluin4', 'Kulluin Teras', 0.8826923076923077),\n ('Küllüin', 'Küllin1', 0.9428571428571428),\n ('Külüin Terras', 'Kulluin Teras', 0.8615384615384616),\n ('Left Cave Left', 'Left Cave', 0.9285714285714286),\n ('Ottoman', 'Ottaman', 0.8944444444444445),\n ('Ottoman left', 'Ottoman', 0.9166666666666667),\n ('Ruzgarli Left', 'Ruzgarli Bahce', 0.8967032967032967),\n ('Rüzgarl? Bahçe', 'Ruzgarli Bahce', 0.8714285714285714),\n ('Rüzgarli Bahce Right', 'Ruzgarli Bahce', 0.8735714285714287),\n ('Rüzgarli Bahce Right', 'Rüzgarl? Bahçe', 0.8914285714285715),\n ('Rüzgarli Bahçe', 'Ruzgarli Bahce', 0.9142857142857143),\n ('Rüzgarli Bahçe', 'Rüzgarl? Bahçe', 0.9714285714285714),\n ('Rüzgarli Bahçe', 'Rüzgarli Bahce Right', 0.9157142857142857),\n ('Rüzgarlı Bahçe Left', 'Rüzgarl? Bahçe', 0.9225563909774437),\n ('Rüzgarlı Bahçe Left', 'Rüzgarli Bahce Right', 0.8873684210526316),\n ('Rüzgarlı Bahçe Left', 'Rüzgarli Bahçe', 0.9225563909774437),\n ('Rüzgazli', 'Rüzgarli Bahçe', 0.875),\n ('Sarkit Left', 'Sarkit', 0.9090909090909091),\n ('Sarkit Sol', 'Sarkit', 0.92),\n ('Sarkit Sol', 'Sarkit Left', 0.9054545454545454),\n ('Sarkit Sol (Left)', 'Sarkit', 0.8705882352941177),\n ('Sarkit Sol (Left)', 'Sarkit Left', 0.9294117647058824),\n ('Sarkit Sol (Left)', 'Sarkit Sol', 0.9176470588235295),\n ('Sincap 3', 'Sincap', 0.95),\n ('Teras Left', 'Heart left', 0.8962962962962964),\n ('Teras Left', 'Teras', 0.9),\n ('Teras Right', 'Teras', 0.890909090909091),\n ('Teras Right', 'Teras Left', 0.8672727272727273),\n ('Top Alanı sağ', 'Top Alanı', 0.9384615384615385),\n ('Trebena', 'Trabenna', 0.8507936507936509),\n ('Trebena West', 'Trebena', 0.9166666666666667),\n ('Trebene', 'Trebena', 0.9428571428571428),\n ('Trebene', 'Trebena West', 0.9166666666666667),\n ('Trebenna', 'Trabenna', 0.8952380952380953),\n ('Trebenna', 'Trebena', 0.975),\n ('Trebenna', 'Trebena West', 0.8916666666666667),\n ('Trebenna', 'Trebene', 0.9214285714285715),\n ('Trebenna Ost', 'Trebena', 0.9166666666666667),\n ('Trebenna Ost', 'Trebena West', 0.9333333333333333),\n ('Trebenna Ost', 'Trebene', 0.8714285714285714),\n ('Trebenna Ost', 'Trebenna', 0.9333333333333333),\n ('Trebenna West', 'Trebena', 0.9076923076923077),\n ('Trebenna West', 'Trebena West', 0.9846153846153847),\n ('Trebenna West', 'Trebene', 0.9076923076923077),\n ('Trebenna West', 'Trebenna', 0.9230769230769231),\n ('Trebenna West', 'Trebenna Ost', 0.9525641025641025),\n ('Trebenna West - Raki', 'Trebena', 0.87),\n ('Trebenna West - Raki', 'Trebena West', 0.92),\n ('Trebenna West - Raki', 'Trebene', 0.87),\n ('Trebenna West - Raki', 'Trebenna', 0.88),\n ('Trebenna West - Raki', 'Trebenna Ost', 0.8933333333333334),\n ('Trebenna West - Raki', 'Trebenna West', 0.9299999999999999),\n ('Trebenna West 2', 'Trebena', 0.8933333333333334),\n ('Trebenna West 2', 'Trebena West', 0.96),\n ('Trebenna West 2', 'Trebene', 0.8933333333333334),\n ('Trebenna West 2', 'Trebenna', 0.9066666666666666),\n ('Trebenna West 2', 'Trebenna Ost', 0.9299999999999999),\n ('Trebenna West 2', 'Trebenna West', 0.9733333333333334),\n ('Trebenna West 2', 'Trebenna West - Raki', 0.9266666666666666),\n ('Trebenna West 4', 'Trebena', 0.8933333333333334),\n ('Trebenna West 4', 'Trebena West', 0.96),\n ('Trebenna West 4', 'Trebene', 0.8933333333333334),\n ('Trebenna West 4', 'Trebenna', 0.9066666666666666),\n ('Trebenna West 4', 'Trebenna Ost', 0.9299999999999999),\n ('Trebenna West 4', 'Trebenna West', 0.9733333333333334),\n ('Trebenna West 4', 'Trebenna West - Raki', 0.9266666666666666),\n ('Trebenna West 4', 'Trebenna West 2', 0.9733333333333334),\n ('Trebenna West Extension', 'Trebena', 0.8608695652173913),\n ('Trebenna West Extension', 'Trebena West', 0.9043478260869565),\n ('Trebenna West Extension', 'Trebene', 0.8608695652173913),\n ('Trebenna West Extension', 'Trebenna', 0.8695652173913043),\n ('Trebenna West Extension', 'Trebenna Ost', 0.8789855072463768),\n ('Trebenna West Extension', 'Trebenna West', 0.9130434782608695),\n ('Trebenna West Extension', 'Trebenna West - Raki', 0.8804347826086958),\n ('Trebenna West Extension', 'Trebenna West 2', 0.9084057971014493),\n ('Trebenna West Extension', 'Trebenna West 4', 0.9084057971014493),\n ('Trebenna West Extension 3', 'Trebena', 0.8560000000000001),\n ('Trebenna West Extension 3', 'Trebena West', 0.896),\n ('Trebenna West Extension 3', 'Trebene', 0.8560000000000001),\n ('Trebenna West Extension 3', 'Trebenna', 0.8640000000000001),\n ('Trebenna West Extension 3', 'Trebenna Ost', 0.8713333333333333),\n ('Trebenna West Extension 3', 'Trebenna West', 0.904),\n ('Trebenna West Extension 3', 'Trebenna West - Raki', 0.8755),\n ('Trebenna West Extension 3', 'Trebenna West 2', 0.8986666666666666),\n ('Trebenna West Extension 3', 'Trebenna West 4', 0.8986666666666666),\n ('Trebenna West Extension 3', 'Trebenna West Extension', 0.984),\n ('Trebenna West Extention 2', 'Trebena', 0.8560000000000001),\n ('Trebenna West Extention 2', 'Trebena West', 0.896),\n ('Trebenna West Extention 2', 'Trebene', 0.8560000000000001),\n ('Trebenna West Extention 2', 'Trebenna', 0.8640000000000001),\n ('Trebenna West Extention 2', 'Trebenna Ost', 0.8713333333333333),\n ('Trebenna West Extention 2', 'Trebenna West', 0.904),\n ('Trebenna West Extention 2', 'Trebenna West - Raki', 0.8755),\n ('Trebenna West Extention 2', 'Trebenna West 2', 0.92),\n ('Trebenna West Extention 2', 'Trebenna West 4', 0.8986666666666666),\n ('Trebenna West Extention 2', 'Trebenna West Extension', 0.967304347826087),\n ('Trebenna West Extention 2', 'Trebenna West Extension 3', 0.968),\n ('Trebenna West Orta', 'Trebena', 0.8777777777777778),\n ('Trebenna West Orta', 'Trebena West', 0.9333333333333333),\n ('Trebenna West Orta', 'Trebene', 0.8777777777777778),\n ('Trebenna West Orta', 'Trebenna', 0.888888888888889),\n ('Trebenna West Orta', 'Trebenna Ost', 0.9166666666666666),\n ('Trebenna West Orta', 'Trebenna West', 0.9444444444444444),\n ('Trebenna West Orta', 'Trebenna West - Raki', 0.9377777777777778),\n ('Trebenna West Orta', 'Trebenna West 2', 0.9422222222222223),\n ('Trebenna West Orta', 'Trebenna West 4', 0.9422222222222223),\n ('Trebenna West Orta', 'Trebenna West Extension', 0.9044082125603865),\n ('Trebenna West Orta', 'Trebenna West Extension 3', 0.8932777777777778),\n ('Trebenna West Orta', 'Trebenna West Extention 2', 0.8932777777777778),\n ('Trebenna West left', 'Trebena', 0.8777777777777778),\n ('Trebenna West left', 'Trebena West', 0.9333333333333333),\n ('Trebenna West left', 'Trebene', 0.8777777777777778),\n ('Trebenna West left', 'Trebenna', 0.888888888888889),\n ('Trebenna West left', 'Trebenna Ost', 0.9055555555555556),\n ('Trebenna West left', 'Trebenna West', 0.9444444444444444),\n ('Trebenna West left', 'Trebenna West - Raki', 0.8955555555555555),\n ('Trebenna West left', 'Trebenna West 2', 0.9422222222222223),\n ('Trebenna West left', 'Trebenna West 4', 0.9422222222222223),\n ('Trebenna West left', 'Trebenna West Extension', 0.9169082125603865),\n ('Trebenna West left', 'Trebenna West Extension 3', 0.9057777777777778),\n ('Trebenna West left', 'Trebenna West Extention 2', 0.9057777777777778),\n ('Trebenna West left', 'Trebenna West Orta', 0.9333333333333333),\n ('Trebenna West/Right', 'Trebena', 0.8736842105263157),\n ('Trebenna West/Right', 'Trebena West', 0.9263157894736842),\n ('Trebenna West/Right', 'Trebene', 0.8736842105263157),\n ('Trebenna West/Right', 'Trebenna', 0.8842105263157894),\n ('Trebenna West/Right', 'Trebenna Ost', 0.8991228070175439),\n ('Trebenna West/Right', 'Trebenna West', 0.9368421052631579),\n ('Trebenna West/Right', 'Trebenna West - Raki', 0.9078947368421053),\n ('Trebenna West/Right', 'Trebenna West 2', 0.9101754385964912),\n ('Trebenna West/Right', 'Trebenna West 4', 0.9101754385964912),\n ('Trebenna West/Right', 'Trebenna West Extension', 0.8749961861174675),\n ('Trebenna West/Right', 'Trebenna West Extension 3', 0.864561403508772),\n ('Trebenna West/Right', 'Trebenna West Extention 2', 0.864561403508772),\n ('Trebenna West/Right', 'Trebenna West Orta', 0.9245614035087719),\n ('Trebenna West/Right', 'Trebenna West left', 0.9029239766081871),\n ('Trebenna east', 'Trabenna', 0.8641025641025641),\n ('Trebenna east', 'Trebena', 0.9076923076923077),\n ('Trebenna east', 'Trebena West', 0.9525641025641025),\n ('Trebenna east', 'Trebene', 0.9076923076923077),\n ('Trebenna east', 'Trebenna', 0.9230769230769231),\n ('Trebenna east', 'Trebenna Ost', 0.9525641025641025),\n ('Trebenna east', 'Trebenna West', 0.9692307692307692),\n ('Trebenna east', 'Trebenna West - Raki', 0.9146153846153846),\n ('Trebenna east', 'Trebenna West 2', 0.9446153846153846),\n ('Trebenna east', 'Trebenna West 4', 0.9446153846153846),\n ('Trebenna east', 'Trebenna West Extension', 0.8889632107023411),\n ('Trebenna east', 'Trebenna West Extension 3', 0.8806153846153846),\n ('Trebenna east', 'Trebenna West Extention 2', 0.8806153846153846),\n ('Trebenna east', 'Trebenna West Orta', 0.9290598290598291),\n ('Trebenna east', 'Trebenna West left', 0.917948717948718),\n ('Trebenna east', 'Trebenna West/Right', 0.9109311740890689),\n ('Trebenna new', 'Trebena', 0.9166666666666667),\n ('Trebenna new', 'Trebena West', 0.9133333333333333),\n ('Trebenna new', 'Trebene', 0.9166666666666667),\n ('Trebenna new', 'Trebenna', 0.9333333333333333),\n ('Trebenna new', 'Trebenna Ost', 0.9),\n ('Trebenna new', 'Trebenna West', 0.9343822843822843),\n ('Trebenna new', 'Trebenna West - Raki', 0.8751515151515152),\n ('Trebenna new', 'Trebenna West 2', 0.9118181818181819),\n ('Trebenna new', 'Trebenna West 4', 0.9118181818181819),\n ('Trebenna new', 'Trebenna West Extension', 0.8876811594202898),\n ('Trebenna new', 'Trebenna West Extension 3', 0.8793333333333333),\n ('Trebenna new', 'Trebenna West Extention 2', 0.8793333333333333),\n ('Trebenna new', 'Trebenna West Orta', 0.8873737373737374),\n ('Trebenna new', 'Trebenna West left', 0.8873737373737374),\n ('Trebenna new', 'Trebenna West/Right', 0.8809409888357257),\n ('Trebenna new', 'Trebenna east', 0.9205128205128206),\n ('Trebenna right', 'Teras Right', 0.857012987012987),\n ('Trebenna right', 'Trebena', 0.9),\n ('Trebenna right', 'Trebena West', 0.8785714285714286),\n ('Trebenna right', 'Trebene', 0.8571428571428571),\n ('Trebenna right', 'Trebenna', 0.9142857142857143),\n ('Trebenna right', 'Trebenna Ost', 0.9095238095238095),\n ('Trebenna right', 'Trebenna West', 0.8967032967032967),\n ('Trebenna right', 'Trebenna West - Raki', 0.8747619047619047),\n ('Trebenna right', 'Trebenna West 2', 0.8761904761904762),\n ('Trebenna right', 'Trebenna West 4', 0.8761904761904762),\n ('Trebenna right', 'Trebenna West Orta', 0.8611832611832613),\n ('Trebenna right', 'Trebenna West left', 0.853968253968254),\n ('Trebenna right', 'Trebenna West/Right', 0.9187969924812031),\n ('Trebenna right', 'Trebenna east', 0.8967032967032967),\n ('Trebenna right', 'Trebenna new', 0.8785714285714286),\n ('Trebenna west 3', 'Trebena', 0.8933333333333334),\n ('Trebenna west 3', 'Trebena West', 0.96),\n ('Trebenna west 3', 'Trebene', 0.8933333333333334),\n ('Trebenna west 3', 'Trebenna', 0.9066666666666666),\n ('Trebenna west 3', 'Trebenna Ost', 0.9299999999999999),\n ('Trebenna west 3', 'Trebenna West', 0.9733333333333334),\n ('Trebenna west 3', 'Trebenna West - Raki', 0.9266666666666666),\n ('Trebenna west 3', 'Trebenna West 2', 0.9733333333333334),\n ('Trebenna west 3', 'Trebenna West 4', 0.9733333333333334),\n ('Trebenna west 3', 'Trebenna West Extension', 0.9084057971014493),\n ('Trebenna west 3', 'Trebenna West Extension 3', 0.92),\n ('Trebenna west 3', 'Trebenna West Extention 2', 0.8986666666666666),\n ('Trebenna west 3', 'Trebenna West Orta', 0.9422222222222223),\n ('Trebenna west 3', 'Trebenna West left', 0.9422222222222223),\n ('Trebenna west 3', 'Trebenna West/Right', 0.9101754385964912),\n ('Trebenna west 3', 'Trebenna east', 0.9446153846153846),\n ('Trebenna west 3', 'Trebenna new', 0.9118181818181819),\n ('Trebenna west 3', 'Trebenna right', 0.8761904761904762),\n ('Trebenna west orta/middle', 'Trebena', 0.8560000000000001),\n ('Trebenna west orta/middle', 'Trebena West', 0.896),\n ('Trebenna west orta/middle', 'Trebene', 0.8560000000000001),\n ('Trebenna west orta/middle', 'Trebenna', 0.8640000000000001),\n ('Trebenna west orta/middle', 'Trebenna Ost', 0.8793333333333333),\n ('Trebenna west orta/middle', 'Trebenna West', 0.904),\n ('Trebenna west orta/middle', 'Trebenna West - Raki', 0.906),\n ('Trebenna west orta/middle', 'Trebenna West 2', 0.8986666666666666),\n ('Trebenna west orta/middle', 'Trebenna West 4', 0.8986666666666666),\n ('Trebenna west orta/middle', 'Trebenna West Extension', 0.8894106280193237),\n ('Trebenna west orta/middle',\n  'Trebenna West Extension 3',\n  0.8768888888888888),\n ('Trebenna west orta/middle',\n  'Trebenna West Extention 2',\n  0.8768888888888888),\n ('Trebenna west orta/middle', 'Trebenna West Orta', 0.944),\n ('Trebenna west orta/middle', 'Trebenna West left', 0.913124183006536),\n ('Trebenna west orta/middle', 'Trebenna West/Right', 0.8914179566563467),\n ('Trebenna west orta/middle', 'Trebenna east', 0.8886153846153846),\n ('Trebenna west orta/middle', 'Trebenna new', 0.8531515151515151),\n ('Trebenna west orta/middle', 'Trebenna right', 0.8507619047619047),\n ('Trebenna west orta/middle', 'Trebenna west 3', 0.8986666666666666),\n ('Trebenna west sol', 'Trebena', 0.8823529411764706),\n ('Trebenna west sol', 'Trebena West', 0.9411764705882353),\n ('Trebenna west sol', 'Trebene', 0.8823529411764706),\n ('Trebenna west sol', 'Trebenna', 0.8941176470588236),\n ('Trebenna west sol', 'Trebenna Ost', 0.9245098039215687),\n ('Trebenna west sol', 'Trebenna West', 0.9529411764705882),\n ('Trebenna west sol', 'Trebenna West - Raki', 0.9047058823529411),\n ('Trebenna west sol', 'Trebenna West 2', 0.9513725490196078),\n ('Trebenna west sol', 'Trebenna West 4', 0.9513725490196078),\n ('Trebenna west sol', 'Trebenna West Extension', 0.9273657289002557),\n ('Trebenna west sol', 'Trebenna West Extension 3', 0.916235294117647),\n ('Trebenna west sol', 'Trebenna West Extention 2', 0.8964705882352941),\n ('Trebenna west sol', 'Trebenna West Orta', 0.9431372549019608),\n ('Trebenna west sol', 'Trebenna West left', 0.9431372549019608),\n ('Trebenna west sol', 'Trebenna West/Right', 0.8897832817337461),\n ('Trebenna west sol', 'Trebenna east', 0.92579185520362),\n ('Trebenna west sol', 'Trebenna new', 0.8945632798573975),\n ('Trebenna west sol', 'Trebenna right', 0.8605042016806722),\n ('Trebenna west sol', 'Trebenna west 3', 0.9513725490196078),\n ('Trebenna west sol', 'Trebenna west orta/middle', 0.916235294117647),\n ('Trebenna/Patagonya', 'Trebena', 0.8777777777777778),\n ('Trebenna/Patagonya', 'Trebenna', 0.888888888888889),\n ('Trebenna/Patagonya', 'Trebenna Ost', 0.8577777777777778),\n ('Trebenna/Patagonya', 'Trebenna east', 0.864957264957265),\n ('Trebenna/Patagonya', 'Trebenna new', 0.85),\n ('Türkisch Standart', 'Turkish Standard', 0.9095588235294116),\n ('Yenicay', 'Yeni Kanyon', 0.8805194805194805),\n ('eches right', 'Echoes Rıght', 0.9398989898989898),\n ('esek uctu', 'Esekuctu', 0.9777777777777777),\n ('güzal mansara', 'Günzel Manzara', 0.8533466533466534),\n ('güzel mansara', 'Günzel Manzara', 0.8747252747252747),\n ('güzel mansara', 'Güzel Manzara', 0.9692307692307692),\n ('güzel mansara', 'güzal mansara', 0.8863247863247864),\n ('laboratuvar', 'Laboratuar', 0.9818181818181818),\n ('leftcave', 'Left Cave', 0.9777777777777777),\n ('leftcave', 'Left Cave Left', 0.9142857142857143),\n ('magara right', 'Magara', 0.9),\n ('okuzini', 'Oekuezini', 0.9333333333333333),\n ('okuzini cave', 'okuzini', 0.9166666666666667),\n ('rusgarli bahce', 'Ruzgarli Bahce', 0.9619047619047619),\n ('rusgarli bahce', 'Rüzgarli Bahçe', 0.8714285714285714),\n ('sincap 2', 'Sincap', 0.95),\n ('sincap 2', 'Sincap 3', 0.95),\n ('trabenna new', 'Trabenna', 0.9333333333333333),\n ('trabenna new', 'Trebenna new', 0.9313131313131312),\n ('trebbana', 'Trabenna', 0.8952380952380953),\n ('trebbana', 'Trebena', 0.8880952380952382),\n ('trebbana', 'Trebene', 0.8678571428571429),\n ('trebbana', 'Trebenna', 0.8666666666666667),\n ('trebbana', 'Trebenna east', 0.8541208791208791),\n ('trebenna middle', 'Trebena', 0.8933333333333334),\n ('trebenna middle', 'Trebena West', 0.87),\n ('trebenna middle', 'Trebene', 0.8514285714285714),\n ('trebenna middle', 'Trebenna', 0.9066666666666666),\n ('trebenna middle', 'Trebenna Ost', 0.87),\n ('trebenna middle', 'Trebenna West', 0.8871794871794872),\n ('trebenna middle', 'Trebenna West 2', 0.8666666666666666),\n ('trebenna middle', 'Trebenna West 4', 0.8666666666666666),\n ('trebenna middle', 'Trebenna West left', 0.8507070707070707),\n ('trebenna middle', 'Trebenna east', 0.8871794871794872),\n ('trebenna middle', 'Trebenna new', 0.9),\n ('trebenna middle', 'Trebenna right', 0.8761904761904762),\n ('trebenna middle', 'Trebenna west 3', 0.8666666666666666),\n ('trebenna middle', 'Trebenna west orta/middle', 0.8933333333333334),\n ('trebenna middle', 'Trebenna west sol', 0.8578966131907309)]"
     },
     "execution_count": 18,
     "metadata": {},
     "output_type": "execute_result"
    }
   ],
   "source": [
    "similar_pairs_jw_similarity"
   ],
   "metadata": {
    "collapsed": false,
    "ExecuteTime": {
     "end_time": "2024-01-11T18:13:12.527292100Z",
     "start_time": "2024-01-11T18:13:12.456910100Z"
    }
   },
   "id": "1d7548fd7c7585a2"
  },
  {
   "cell_type": "code",
   "execution_count": 19,
   "outputs": [
    {
     "data": {
      "text/plain": "325"
     },
     "execution_count": 19,
     "metadata": {},
     "output_type": "execute_result"
    }
   ],
   "source": [
    "len(similar_pairs_jw_similarity)"
   ],
   "metadata": {
    "collapsed": false,
    "ExecuteTime": {
     "end_time": "2024-01-11T18:13:12.528292700Z",
     "start_time": "2024-01-11T18:13:12.469906400Z"
    }
   },
   "id": "5cbbf5b61f3f65a1"
  },
  {
   "cell_type": "markdown",
   "source": [
    "Fill sector_clean column."
   ],
   "metadata": {
    "collapsed": false
   },
   "id": "4cb7c50e734973ae"
  },
  {
   "cell_type": "code",
   "execution_count": 20,
   "outputs": [],
   "source": [
    "sector_name_revers(similar_pairs_jw_similarity, column_name='sector_clean')"
   ],
   "metadata": {
    "collapsed": false,
    "ExecuteTime": {
     "end_time": "2024-01-11T18:14:14.124414800Z",
     "start_time": "2024-01-11T18:13:22.211158900Z"
    }
   },
   "id": "905627ce43648dc1"
  },
  {
   "cell_type": "code",
   "execution_count": 21,
   "outputs": [
    {
     "data": {
      "text/plain": "  grade                 name name_clean         sector   sector_clean  \\\n0    7a  Freedom is a Battle       None  Trebenna West  Trebenna West   \n1    7a              Karınca       None         Magara         Magara   \n2    7b       Lycian Highway       None  Trebenna West  Trebenna West   \n3   6b+              Saxafon       None         Sarkit         Sarkit   \n4    6b              Nirvana       None         Magara         Magara   \n\n   ascents fos_ratio recommendations  stars  \n0      781      66 %            10 %      3  \n1      699      55 %            16 %      4  \n2      645      70 %            13 %      4  \n3      591      66 %            20 %      4  \n4      589      78 %            10 %      3  ",
      "text/html": "<div>\n<style scoped>\n    .dataframe tbody tr th:only-of-type {\n        vertical-align: middle;\n    }\n\n    .dataframe tbody tr th {\n        vertical-align: top;\n    }\n\n    .dataframe thead th {\n        text-align: right;\n    }\n</style>\n<table border=\"1\" class=\"dataframe\">\n  <thead>\n    <tr style=\"text-align: right;\">\n      <th></th>\n      <th>grade</th>\n      <th>name</th>\n      <th>name_clean</th>\n      <th>sector</th>\n      <th>sector_clean</th>\n      <th>ascents</th>\n      <th>fos_ratio</th>\n      <th>recommendations</th>\n      <th>stars</th>\n    </tr>\n  </thead>\n  <tbody>\n    <tr>\n      <th>0</th>\n      <td>7a</td>\n      <td>Freedom is a Battle</td>\n      <td>None</td>\n      <td>Trebenna West</td>\n      <td>Trebenna West</td>\n      <td>781</td>\n      <td>66 %</td>\n      <td>10 %</td>\n      <td>3</td>\n    </tr>\n    <tr>\n      <th>1</th>\n      <td>7a</td>\n      <td>Karınca</td>\n      <td>None</td>\n      <td>Magara</td>\n      <td>Magara</td>\n      <td>699</td>\n      <td>55 %</td>\n      <td>16 %</td>\n      <td>4</td>\n    </tr>\n    <tr>\n      <th>2</th>\n      <td>7b</td>\n      <td>Lycian Highway</td>\n      <td>None</td>\n      <td>Trebenna West</td>\n      <td>Trebenna West</td>\n      <td>645</td>\n      <td>70 %</td>\n      <td>13 %</td>\n      <td>4</td>\n    </tr>\n    <tr>\n      <th>3</th>\n      <td>6b+</td>\n      <td>Saxafon</td>\n      <td>None</td>\n      <td>Sarkit</td>\n      <td>Sarkit</td>\n      <td>591</td>\n      <td>66 %</td>\n      <td>20 %</td>\n      <td>4</td>\n    </tr>\n    <tr>\n      <th>4</th>\n      <td>6b</td>\n      <td>Nirvana</td>\n      <td>None</td>\n      <td>Magara</td>\n      <td>Magara</td>\n      <td>589</td>\n      <td>78 %</td>\n      <td>10 %</td>\n      <td>3</td>\n    </tr>\n  </tbody>\n</table>\n</div>"
     },
     "execution_count": 21,
     "metadata": {},
     "output_type": "execute_result"
    }
   ],
   "source": [
    "data_routes_sector_clean.head()"
   ],
   "metadata": {
    "collapsed": false,
    "ExecuteTime": {
     "end_time": "2024-01-11T18:14:31.307444700Z",
     "start_time": "2024-01-11T18:14:31.303368400Z"
    }
   },
   "id": "80ef9292127c2267"
  },
  {
   "cell_type": "markdown",
   "source": [
    "Check our progress."
   ],
   "metadata": {
    "collapsed": false
   },
   "id": "b4f9ad5d4a7112d3"
  },
  {
   "cell_type": "code",
   "execution_count": 22,
   "outputs": [
    {
     "name": "stdout",
     "output_type": "stream",
     "text": [
      "Sectors before cleaning: 143\n",
      "Sectors after cleaning: 65\n"
     ]
    }
   ],
   "source": [
    "print(\n",
    "    f\"Sectors before cleaning: {data_routes_sector_clean['sector'].nunique()}\\n\"\n",
    "    f\"Sectors after cleaning: {data_routes_sector_clean['sector_clean'].nunique()}\"\n",
    ")"
   ],
   "metadata": {
    "collapsed": false,
    "ExecuteTime": {
     "end_time": "2024-01-11T18:14:43.178785600Z",
     "start_time": "2024-01-11T18:14:43.169254800Z"
    }
   },
   "id": "73091781e0be69aa"
  },
  {
   "cell_type": "markdown",
   "source": [
    "Save sector_clean_name in file."
   ],
   "metadata": {
    "collapsed": false
   },
   "id": "7eb48cd6a90cd68e"
  },
  {
   "cell_type": "code",
   "execution_count": 23,
   "outputs": [],
   "source": [
    "data_routes_sector_clean.to_csv('routes_info_sector_clean.csv', encoding='utf-8', index=False)"
   ],
   "metadata": {
    "collapsed": false,
    "ExecuteTime": {
     "end_time": "2024-01-11T18:15:59.689203800Z",
     "start_time": "2024-01-11T18:15:59.655300800Z"
    }
   },
   "id": "2ef6e0d0983547a8"
  }
 ],
 "metadata": {
  "kernelspec": {
   "display_name": "Python 3",
   "language": "python",
   "name": "python3"
  },
  "language_info": {
   "codemirror_mode": {
    "name": "ipython",
    "version": 2
   },
   "file_extension": ".py",
   "mimetype": "text/x-python",
   "name": "python",
   "nbconvert_exporter": "python",
   "pygments_lexer": "ipython2",
   "version": "2.7.6"
  }
 },
 "nbformat": 4,
 "nbformat_minor": 5
}
