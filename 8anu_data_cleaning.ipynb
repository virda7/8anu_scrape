{
 "cells": [
  {
   "cell_type": "markdown",
   "source": [
    "### Import libraries"
   ],
   "metadata": {
    "collapsed": false
   },
   "id": "69a81b6922806d56"
  },
  {
   "cell_type": "code",
   "execution_count": 22,
   "outputs": [],
   "source": [
    "import pandas as pd\n",
    "import numpy as np\n",
    "\n",
    "import jellyfish\n",
    "import seaborn as sns"
   ],
   "metadata": {
    "collapsed": false,
    "ExecuteTime": {
     "end_time": "2024-01-10T12:13:12.865544200Z",
     "start_time": "2024-01-10T12:13:09.823792400Z"
    }
   },
   "id": "5667db526e52da99"
  },
  {
   "cell_type": "code",
   "execution_count": 100,
   "outputs": [
    {
     "data": {
      "text/plain": "  grade                 name         sector  ascents fos_ratio  \\\n0    7a  Freedom is a Battle  Trebenna West      781      66 %   \n1    7a              Karınca         Magara      699      55 %   \n2    7b       Lycian Highway  Trebenna West      645      70 %   \n3   6b+              Saxafon         Sarkit      591      66 %   \n4    6b              Nirvana         Magara      589      78 %   \n\n  recommendations  stars  \n0            10 %      3  \n1            16 %      4  \n2            13 %      4  \n3            20 %      4  \n4            10 %      3  ",
      "text/html": "<div>\n<style scoped>\n    .dataframe tbody tr th:only-of-type {\n        vertical-align: middle;\n    }\n\n    .dataframe tbody tr th {\n        vertical-align: top;\n    }\n\n    .dataframe thead th {\n        text-align: right;\n    }\n</style>\n<table border=\"1\" class=\"dataframe\">\n  <thead>\n    <tr style=\"text-align: right;\">\n      <th></th>\n      <th>grade</th>\n      <th>name</th>\n      <th>sector</th>\n      <th>ascents</th>\n      <th>fos_ratio</th>\n      <th>recommendations</th>\n      <th>stars</th>\n    </tr>\n  </thead>\n  <tbody>\n    <tr>\n      <th>0</th>\n      <td>7a</td>\n      <td>Freedom is a Battle</td>\n      <td>Trebenna West</td>\n      <td>781</td>\n      <td>66 %</td>\n      <td>10 %</td>\n      <td>3</td>\n    </tr>\n    <tr>\n      <th>1</th>\n      <td>7a</td>\n      <td>Karınca</td>\n      <td>Magara</td>\n      <td>699</td>\n      <td>55 %</td>\n      <td>16 %</td>\n      <td>4</td>\n    </tr>\n    <tr>\n      <th>2</th>\n      <td>7b</td>\n      <td>Lycian Highway</td>\n      <td>Trebenna West</td>\n      <td>645</td>\n      <td>70 %</td>\n      <td>13 %</td>\n      <td>4</td>\n    </tr>\n    <tr>\n      <th>3</th>\n      <td>6b+</td>\n      <td>Saxafon</td>\n      <td>Sarkit</td>\n      <td>591</td>\n      <td>66 %</td>\n      <td>20 %</td>\n      <td>4</td>\n    </tr>\n    <tr>\n      <th>4</th>\n      <td>6b</td>\n      <td>Nirvana</td>\n      <td>Magara</td>\n      <td>589</td>\n      <td>78 %</td>\n      <td>10 %</td>\n      <td>3</td>\n    </tr>\n  </tbody>\n</table>\n</div>"
     },
     "execution_count": 100,
     "metadata": {},
     "output_type": "execute_result"
    }
   ],
   "source": [
    "data_routes_raw = pd.read_csv('routes_info_raw.csv')\n",
    "data_routes_raw.head()"
   ],
   "metadata": {
    "collapsed": false,
    "ExecuteTime": {
     "end_time": "2024-01-10T14:09:58.638526700Z",
     "start_time": "2024-01-10T14:09:58.580046300Z"
    }
   },
   "id": "3d5cf0da410de419"
  },
  {
   "cell_type": "code",
   "execution_count": 102,
   "outputs": [
    {
     "data": {
      "text/plain": "['Akdeniz', 'Akyalar', 'Alaaddin', 'Alabalik', 'Alabalik Balcon']"
     },
     "execution_count": 102,
     "metadata": {},
     "output_type": "execute_result"
    }
   ],
   "source": [
    "list_sectors = (data_routes_raw['sector'].sort_values().unique()).tolist()\n",
    "list_sectors[:5]"
   ],
   "metadata": {
    "collapsed": false,
    "ExecuteTime": {
     "end_time": "2024-01-10T14:10:15.992984800Z",
     "start_time": "2024-01-10T14:10:15.986959300Z"
    }
   },
   "id": "2be5a6283ae184f4"
  },
  {
   "cell_type": "code",
   "execution_count": 75,
   "outputs": [],
   "source": [
    "df_sectors_similarity = pd.DataFrame(columns=list_sectors, index=list_sectors, dtype='float')"
   ],
   "metadata": {
    "collapsed": false,
    "ExecuteTime": {
     "end_time": "2024-01-10T13:00:27.968482300Z",
     "start_time": "2024-01-10T13:00:27.958000600Z"
    }
   },
   "id": "5007ee23d0c2017d"
  },
  {
   "cell_type": "code",
   "execution_count": 97,
   "outputs": [],
   "source": [
    "for i in range(len(list_sectors)):\n",
    "    for j in range(len(list_sectors)):\n",
    "        if i >= j:\n",
    "            df_sectors_similarity.iloc[i, j] = (\n",
    "                jellyfish.jaro_similarity(\n",
    "                    list_sectors[i].lower(), \n",
    "                    list_sectors[j].lower())\n",
    "            )\n",
    "        else:\n",
    "            df_sectors_similarity.iloc[i, j] = np.nan"
   ],
   "metadata": {
    "collapsed": false,
    "ExecuteTime": {
     "end_time": "2024-01-10T14:02:45.424667800Z",
     "start_time": "2024-01-10T14:02:44.939708300Z"
    }
   },
   "id": "9eb551947393f7f2"
  },
  {
   "cell_type": "code",
   "execution_count": 98,
   "outputs": [
    {
     "data": {
      "text/plain": "                  Akdeniz   Akyalar  Alaaddin  Alabalik  Alabalik Balcon  \\\nAkdeniz          1.000000       NaN       NaN       NaN              NaN   \nAkyalar          0.523810  1.000000       NaN       NaN              NaN   \nAlaaddin         0.607143  0.607143  1.000000       NaN              NaN   \nAlabalik         0.511905  0.607143  0.750000  1.000000              NaN   \nAlabalik Balcon  0.431746  0.615873  0.652778  0.844444         1.000000   \n...                   ...       ...       ...       ...              ...   \nrusgarli bahce   0.476190  0.452381  0.529762  0.594048         0.560317   \nsincap 2         0.422619  0.422619  0.416667  0.416667         0.413889   \ntrabenna new     0.559524  0.448413  0.430556  0.430556         0.516667   \ntrebbana         0.511905  0.511905  0.500000  0.472222         0.422222   \ntrebenna middle  0.542857  0.306349  0.505556  0.413889         0.422222   \n\n                 Alabalik Balkon  Alabalik balkon 4  Alabalık Balkon 1  \\\nAkdeniz                      NaN                NaN                NaN   \nAkyalar                      NaN                NaN                NaN   \nAlaaddin                     NaN                NaN                NaN   \nAlabalik                     NaN                NaN                NaN   \nAlabalik Balcon              NaN                NaN                NaN   \n...                          ...                ...                ...   \nrusgarli bahce          0.498413           0.482726           0.483754   \nsincap 2                0.413889           0.406046           0.455882   \ntrabenna new            0.516667           0.503595           0.503595   \ntrebbana                0.422222           0.411765           0.411765   \ntrebenna middle         0.422222           0.409150           0.417320   \n\n                  Alcyone  Alibalik  ...  leftcave  magara right       new  \\\nAkdeniz               NaN       NaN  ...       NaN           NaN       NaN   \nAkyalar               NaN       NaN  ...       NaN           NaN       NaN   \nAlaaddin              NaN       NaN  ...       NaN           NaN       NaN   \nAlabalik              NaN       NaN  ...       NaN           NaN       NaN   \nAlabalik Balcon       NaN       NaN  ...       NaN           NaN       NaN   \n...                   ...       ...  ...       ...           ...       ...   \nrusgarli bahce   0.476190  0.660714  ...  0.418651      0.621032  0.000000   \nsincap 2         0.345238  0.500000  ...  0.500000      0.472222  0.486111   \ntrabenna new     0.448413  0.541667  ...  0.527778      0.472222  0.444444   \ntrebbana         0.422619  0.500000  ...  0.472222      0.430556  0.486111   \ntrebenna middle  0.306349  0.525000  ...  0.422222      0.450000  0.433333   \n\n                  okuzini  okuzini cave  rusgarli bahce  sincap 2  \\\nAkdeniz               NaN           NaN             NaN       NaN   \nAkyalar               NaN           NaN             NaN       NaN   \nAlaaddin              NaN           NaN             NaN       NaN   \nAlabalik              NaN           NaN             NaN       NaN   \nAlabalik Balcon       NaN           NaN             NaN       NaN   \n...                   ...           ...             ...       ...   \nrusgarli bahce   0.476190      0.531746        1.000000       NaN   \nsincap 2         0.511905      0.613889        0.511905  1.000000   \ntrabenna new     0.408730      0.472222        0.587302  0.430556   \ntrebbana         0.422619      0.305556        0.511905  0.416667   \ntrebenna middle  0.306349      0.516667        0.553968  0.525000   \n\n                 trabenna new  trebbana  trebenna middle  \nAkdeniz                   NaN       NaN              NaN  \nAkyalar                   NaN       NaN              NaN  \nAlaaddin                  NaN       NaN              NaN  \nAlabalik                  NaN       NaN              NaN  \nAlabalik Balcon           NaN       NaN              NaN  \n...                       ...       ...              ...  \nrusgarli bahce            NaN       NaN              NaN  \nsincap 2                  NaN       NaN              NaN  \ntrabenna new         1.000000       NaN              NaN  \ntrebbana             0.771825  1.000000              NaN  \ntrebenna middle      0.746296  0.661111              1.0  \n\n[143 rows x 143 columns]",
      "text/html": "<div>\n<style scoped>\n    .dataframe tbody tr th:only-of-type {\n        vertical-align: middle;\n    }\n\n    .dataframe tbody tr th {\n        vertical-align: top;\n    }\n\n    .dataframe thead th {\n        text-align: right;\n    }\n</style>\n<table border=\"1\" class=\"dataframe\">\n  <thead>\n    <tr style=\"text-align: right;\">\n      <th></th>\n      <th>Akdeniz</th>\n      <th>Akyalar</th>\n      <th>Alaaddin</th>\n      <th>Alabalik</th>\n      <th>Alabalik Balcon</th>\n      <th>Alabalik Balkon</th>\n      <th>Alabalik balkon 4</th>\n      <th>Alabalık Balkon 1</th>\n      <th>Alcyone</th>\n      <th>Alibalik</th>\n      <th>...</th>\n      <th>leftcave</th>\n      <th>magara right</th>\n      <th>new</th>\n      <th>okuzini</th>\n      <th>okuzini cave</th>\n      <th>rusgarli bahce</th>\n      <th>sincap 2</th>\n      <th>trabenna new</th>\n      <th>trebbana</th>\n      <th>trebenna middle</th>\n    </tr>\n  </thead>\n  <tbody>\n    <tr>\n      <th>Akdeniz</th>\n      <td>1.000000</td>\n      <td>NaN</td>\n      <td>NaN</td>\n      <td>NaN</td>\n      <td>NaN</td>\n      <td>NaN</td>\n      <td>NaN</td>\n      <td>NaN</td>\n      <td>NaN</td>\n      <td>NaN</td>\n      <td>...</td>\n      <td>NaN</td>\n      <td>NaN</td>\n      <td>NaN</td>\n      <td>NaN</td>\n      <td>NaN</td>\n      <td>NaN</td>\n      <td>NaN</td>\n      <td>NaN</td>\n      <td>NaN</td>\n      <td>NaN</td>\n    </tr>\n    <tr>\n      <th>Akyalar</th>\n      <td>0.523810</td>\n      <td>1.000000</td>\n      <td>NaN</td>\n      <td>NaN</td>\n      <td>NaN</td>\n      <td>NaN</td>\n      <td>NaN</td>\n      <td>NaN</td>\n      <td>NaN</td>\n      <td>NaN</td>\n      <td>...</td>\n      <td>NaN</td>\n      <td>NaN</td>\n      <td>NaN</td>\n      <td>NaN</td>\n      <td>NaN</td>\n      <td>NaN</td>\n      <td>NaN</td>\n      <td>NaN</td>\n      <td>NaN</td>\n      <td>NaN</td>\n    </tr>\n    <tr>\n      <th>Alaaddin</th>\n      <td>0.607143</td>\n      <td>0.607143</td>\n      <td>1.000000</td>\n      <td>NaN</td>\n      <td>NaN</td>\n      <td>NaN</td>\n      <td>NaN</td>\n      <td>NaN</td>\n      <td>NaN</td>\n      <td>NaN</td>\n      <td>...</td>\n      <td>NaN</td>\n      <td>NaN</td>\n      <td>NaN</td>\n      <td>NaN</td>\n      <td>NaN</td>\n      <td>NaN</td>\n      <td>NaN</td>\n      <td>NaN</td>\n      <td>NaN</td>\n      <td>NaN</td>\n    </tr>\n    <tr>\n      <th>Alabalik</th>\n      <td>0.511905</td>\n      <td>0.607143</td>\n      <td>0.750000</td>\n      <td>1.000000</td>\n      <td>NaN</td>\n      <td>NaN</td>\n      <td>NaN</td>\n      <td>NaN</td>\n      <td>NaN</td>\n      <td>NaN</td>\n      <td>...</td>\n      <td>NaN</td>\n      <td>NaN</td>\n      <td>NaN</td>\n      <td>NaN</td>\n      <td>NaN</td>\n      <td>NaN</td>\n      <td>NaN</td>\n      <td>NaN</td>\n      <td>NaN</td>\n      <td>NaN</td>\n    </tr>\n    <tr>\n      <th>Alabalik Balcon</th>\n      <td>0.431746</td>\n      <td>0.615873</td>\n      <td>0.652778</td>\n      <td>0.844444</td>\n      <td>1.000000</td>\n      <td>NaN</td>\n      <td>NaN</td>\n      <td>NaN</td>\n      <td>NaN</td>\n      <td>NaN</td>\n      <td>...</td>\n      <td>NaN</td>\n      <td>NaN</td>\n      <td>NaN</td>\n      <td>NaN</td>\n      <td>NaN</td>\n      <td>NaN</td>\n      <td>NaN</td>\n      <td>NaN</td>\n      <td>NaN</td>\n      <td>NaN</td>\n    </tr>\n    <tr>\n      <th>...</th>\n      <td>...</td>\n      <td>...</td>\n      <td>...</td>\n      <td>...</td>\n      <td>...</td>\n      <td>...</td>\n      <td>...</td>\n      <td>...</td>\n      <td>...</td>\n      <td>...</td>\n      <td>...</td>\n      <td>...</td>\n      <td>...</td>\n      <td>...</td>\n      <td>...</td>\n      <td>...</td>\n      <td>...</td>\n      <td>...</td>\n      <td>...</td>\n      <td>...</td>\n      <td>...</td>\n    </tr>\n    <tr>\n      <th>rusgarli bahce</th>\n      <td>0.476190</td>\n      <td>0.452381</td>\n      <td>0.529762</td>\n      <td>0.594048</td>\n      <td>0.560317</td>\n      <td>0.498413</td>\n      <td>0.482726</td>\n      <td>0.483754</td>\n      <td>0.476190</td>\n      <td>0.660714</td>\n      <td>...</td>\n      <td>0.418651</td>\n      <td>0.621032</td>\n      <td>0.000000</td>\n      <td>0.476190</td>\n      <td>0.531746</td>\n      <td>1.000000</td>\n      <td>NaN</td>\n      <td>NaN</td>\n      <td>NaN</td>\n      <td>NaN</td>\n    </tr>\n    <tr>\n      <th>sincap 2</th>\n      <td>0.422619</td>\n      <td>0.422619</td>\n      <td>0.416667</td>\n      <td>0.416667</td>\n      <td>0.413889</td>\n      <td>0.413889</td>\n      <td>0.406046</td>\n      <td>0.455882</td>\n      <td>0.345238</td>\n      <td>0.500000</td>\n      <td>...</td>\n      <td>0.500000</td>\n      <td>0.472222</td>\n      <td>0.486111</td>\n      <td>0.511905</td>\n      <td>0.613889</td>\n      <td>0.511905</td>\n      <td>1.000000</td>\n      <td>NaN</td>\n      <td>NaN</td>\n      <td>NaN</td>\n    </tr>\n    <tr>\n      <th>trabenna new</th>\n      <td>0.559524</td>\n      <td>0.448413</td>\n      <td>0.430556</td>\n      <td>0.430556</td>\n      <td>0.516667</td>\n      <td>0.516667</td>\n      <td>0.503595</td>\n      <td>0.503595</td>\n      <td>0.448413</td>\n      <td>0.541667</td>\n      <td>...</td>\n      <td>0.527778</td>\n      <td>0.472222</td>\n      <td>0.444444</td>\n      <td>0.408730</td>\n      <td>0.472222</td>\n      <td>0.587302</td>\n      <td>0.430556</td>\n      <td>1.000000</td>\n      <td>NaN</td>\n      <td>NaN</td>\n    </tr>\n    <tr>\n      <th>trebbana</th>\n      <td>0.511905</td>\n      <td>0.511905</td>\n      <td>0.500000</td>\n      <td>0.472222</td>\n      <td>0.422222</td>\n      <td>0.422222</td>\n      <td>0.411765</td>\n      <td>0.411765</td>\n      <td>0.422619</td>\n      <td>0.500000</td>\n      <td>...</td>\n      <td>0.472222</td>\n      <td>0.430556</td>\n      <td>0.486111</td>\n      <td>0.422619</td>\n      <td>0.305556</td>\n      <td>0.511905</td>\n      <td>0.416667</td>\n      <td>0.771825</td>\n      <td>1.000000</td>\n      <td>NaN</td>\n    </tr>\n    <tr>\n      <th>trebenna middle</th>\n      <td>0.542857</td>\n      <td>0.306349</td>\n      <td>0.505556</td>\n      <td>0.413889</td>\n      <td>0.422222</td>\n      <td>0.422222</td>\n      <td>0.409150</td>\n      <td>0.417320</td>\n      <td>0.306349</td>\n      <td>0.525000</td>\n      <td>...</td>\n      <td>0.422222</td>\n      <td>0.450000</td>\n      <td>0.433333</td>\n      <td>0.306349</td>\n      <td>0.516667</td>\n      <td>0.553968</td>\n      <td>0.525000</td>\n      <td>0.746296</td>\n      <td>0.661111</td>\n      <td>1.0</td>\n    </tr>\n  </tbody>\n</table>\n<p>143 rows × 143 columns</p>\n</div>"
     },
     "execution_count": 98,
     "metadata": {},
     "output_type": "execute_result"
    }
   ],
   "source": [
    "df_sectors_similarity"
   ],
   "metadata": {
    "collapsed": false,
    "ExecuteTime": {
     "end_time": "2024-01-10T14:02:46.761651700Z",
     "start_time": "2024-01-10T14:02:46.747358900Z"
    }
   },
   "id": "5d733e0167d39dfc"
  },
  {
   "cell_type": "code",
   "execution_count": 105,
   "outputs": [],
   "source": [
    "jellyfish_filter = (df_sectors_similarity.values > 0.9) & (df_sectors_similarity.values != 1)\n",
    "\n",
    "similar_pairs = [\n",
    "    [\n",
    "        df_sectors_similarity.index[x], \n",
    "        df_sectors_similarity.columns[y], \n",
    "        df_sectors_similarity.iloc[x, y]\n",
    "    ] \n",
    "    for x, y in zip(*np.where(jellyfish_filter))\n",
    "]"
   ],
   "metadata": {
    "collapsed": false,
    "ExecuteTime": {
     "end_time": "2024-01-10T14:17:52.541800500Z",
     "start_time": "2024-01-10T14:17:52.526653Z"
    }
   },
   "id": "fdefd1199313c85c"
  },
  {
   "cell_type": "code",
   "execution_count": 106,
   "outputs": [
    {
     "data": {
      "text/plain": "[['Alabalik Balkon', 'Alabalik Balcon', 0.9555555555555556],\n ['Alabalik balkon 4', 'Alabalik Balcon', 0.918954248366013],\n ['Alabalik balkon 4', 'Alabalik Balkon', 0.9607843137254902],\n ['Alabalık Balkon 1', 'Alabalik Balkon', 0.918954248366013],\n ['Alabalık Balkon 1', 'Alabalik balkon 4', 0.9215686274509803],\n ['Echoes sağ2', 'Echoes Sag', 0.9060606060606061],\n ['Gizmo 1', 'Gizmo', 0.9047619047619048],\n ['Gizmo 2', 'Gizmo', 0.9047619047619048],\n ['Gizmo 2', 'Gizmo 1', 0.9047619047619048],\n ['Gizmo 3', 'Gizmo', 0.9047619047619048],\n ['Gizmo 3', 'Gizmo 1', 0.9047619047619048],\n ['Gizmo 3', 'Gizmo 2', 0.9047619047619048],\n ['Kulluin Teras', 'Kulluin Taras', 0.9209401709401709],\n ['Küllüin', 'Küllin1', 0.9047619047619048],\n ['Rüzgarli Bahçe', 'Ruzgarli Bahce', 0.9047619047619048],\n ['Rüzgarli Bahçe', 'Rüzgarl? Bahçe', 0.9523809523809524],\n ['Sincap 3', 'Sincap', 0.9166666666666666],\n ['Trebene', 'Trebena', 0.9047619047619048],\n ['Trebenna', 'Trebena', 0.9583333333333334],\n ['Trebenna West', 'Trebena West', 0.9743589743589745],\n ['Trebenna West', 'Trebenna Ost', 0.9209401709401709],\n ['Trebenna West 2', 'Trebena West', 0.9333333333333332],\n ['Trebenna West 2', 'Trebenna West', 0.9555555555555556],\n ['Trebenna West 4', 'Trebena West', 0.9333333333333332],\n ['Trebenna West 4', 'Trebenna West', 0.9555555555555556],\n ['Trebenna West 4', 'Trebenna West 2', 0.9555555555555556],\n ['Trebenna West Extension 3', 'Trebenna West Extension', 0.9733333333333333],\n ['Trebenna West Extention 2', 'Trebenna West Extension', 0.9455072463768116],\n ['Trebenna West Extention 2',\n  'Trebenna West Extension 3',\n  0.9466666666666667],\n ['Trebenna West Orta', 'Trebenna West', 0.9074074074074074],\n ['Trebenna West Orta', 'Trebenna West 2', 0.9037037037037038],\n ['Trebenna West Orta', 'Trebenna West 4', 0.9037037037037038],\n ['Trebenna West left', 'Trebenna West', 0.9074074074074074],\n ['Trebenna West left', 'Trebenna West 2', 0.9037037037037038],\n ['Trebenna West left', 'Trebenna West 4', 0.9037037037037038],\n ['Trebenna east', 'Trebena West', 0.9209401709401709],\n ['Trebenna east', 'Trebenna Ost', 0.9209401709401709],\n ['Trebenna east', 'Trebenna West', 0.9487179487179488],\n ['Trebenna east', 'Trebenna West 2', 0.9076923076923077],\n ['Trebenna east', 'Trebenna West 4', 0.9076923076923077],\n ['Trebenna west 3', 'Trebena West', 0.9333333333333332],\n ['Trebenna west 3', 'Trebenna West', 0.9555555555555556],\n ['Trebenna west 3', 'Trebenna West 2', 0.9555555555555556],\n ['Trebenna west 3', 'Trebenna West 4', 0.9555555555555556],\n ['Trebenna west 3', 'Trebenna West Orta', 0.9037037037037038],\n ['Trebenna west 3', 'Trebenna West left', 0.9037037037037038],\n ['Trebenna west 3', 'Trebenna east', 0.9076923076923077],\n ['Trebenna west orta/middle', 'Trebenna West Orta', 0.9066666666666666],\n ['Trebenna west sol', 'Trebena West', 0.9019607843137255],\n ['Trebenna west sol', 'Trebenna West', 0.9215686274509803],\n ['Trebenna west sol', 'Trebenna West 2', 0.918954248366013],\n ['Trebenna west sol', 'Trebenna West 4', 0.918954248366013],\n ['Trebenna west sol', 'Trebenna West Orta', 0.9052287581699346],\n ['Trebenna west sol', 'Trebenna West left', 0.9052287581699346],\n ['Trebenna west sol', 'Trebenna west 3', 0.918954248366013],\n ['eches right', 'Echoes Rıght', 0.914141414141414],\n ['esek uctu', 'Esekuctu', 0.9629629629629629],\n ['güzel mansara', 'Güzel Manzara', 0.9487179487179488],\n ['laboratuvar', 'Laboratuar', 0.9696969696969697],\n ['leftcave', 'Left Cave', 0.9629629629629629],\n ['okuzini', 'Oekuezini', 0.9259259259259259],\n ['rusgarli bahce', 'Ruzgarli Bahce', 0.9523809523809524],\n ['sincap 2', 'Sincap', 0.9166666666666666],\n ['sincap 2', 'Sincap 3', 0.9166666666666666],\n ['trabenna new', 'Trebenna new', 0.914141414141414]]"
     },
     "execution_count": 106,
     "metadata": {},
     "output_type": "execute_result"
    }
   ],
   "source": [
    "similar_pairs"
   ],
   "metadata": {
    "collapsed": false,
    "ExecuteTime": {
     "end_time": "2024-01-10T14:19:29.905567500Z",
     "start_time": "2024-01-10T14:19:29.893463900Z"
    }
   },
   "id": "5eba7deeef98b810"
  },
  {
   "cell_type": "code",
   "execution_count": null,
   "outputs": [],
   "source": [],
   "metadata": {
    "collapsed": false
   },
   "id": "56f7e2503af69d3f"
  }
 ],
 "metadata": {
  "kernelspec": {
   "display_name": "Python 3",
   "language": "python",
   "name": "python3"
  },
  "language_info": {
   "codemirror_mode": {
    "name": "ipython",
    "version": 2
   },
   "file_extension": ".py",
   "mimetype": "text/x-python",
   "name": "python",
   "nbconvert_exporter": "python",
   "pygments_lexer": "ipython2",
   "version": "2.7.6"
  }
 },
 "nbformat": 4,
 "nbformat_minor": 5
}
