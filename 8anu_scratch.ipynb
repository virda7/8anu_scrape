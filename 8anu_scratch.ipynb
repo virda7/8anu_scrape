{
 "cells": [
  {
   "cell_type": "code",
   "execution_count": 23,
   "outputs": [],
   "source": [
    "import pandas as pd\n",
    "\n",
    "from bs4 import BeautifulSoup\n",
    "import time\n",
    "from selenium import webdriver"
   ],
   "metadata": {
    "collapsed": false,
    "ExecuteTime": {
     "end_time": "2024-01-09T10:16:15.301671900Z",
     "start_time": "2024-01-09T10:16:15.301671900Z"
    }
   },
   "id": "c5df7f0082a16385"
  },
  {
   "cell_type": "markdown",
   "source": [
    "Use Selenium to open sourse."
   ],
   "metadata": {
    "collapsed": false
   },
   "id": "543db6c8d8c7ab75"
  },
  {
   "cell_type": "code",
   "execution_count": 14,
   "outputs": [],
   "source": [
    "driver = webdriver.Chrome()"
   ],
   "metadata": {
    "collapsed": false,
    "ExecuteTime": {
     "end_time": "2024-01-09T09:13:14.650608100Z",
     "start_time": "2024-01-09T09:13:11.569028700Z"
    }
   },
   "id": "ba4e7f90988ea136"
  },
  {
   "cell_type": "code",
   "execution_count": 15,
   "outputs": [],
   "source": [
    "url = 'https://www.8a.nu/crags/sportclimbing/turkey/geyik-bayiri/routes'"
   ],
   "metadata": {
    "collapsed": false,
    "ExecuteTime": {
     "end_time": "2024-01-09T09:13:24.063476Z",
     "start_time": "2024-01-09T09:13:24.063476Z"
    }
   },
   "id": "53d31b40810af312"
  },
  {
   "cell_type": "code",
   "execution_count": 16,
   "outputs": [],
   "source": [
    "driver.get(url)"
   ],
   "metadata": {
    "collapsed": false,
    "ExecuteTime": {
     "end_time": "2024-01-09T09:13:51.052181600Z",
     "start_time": "2024-01-09T09:13:49.933932100Z"
    }
   },
   "id": "6bda094ae2f7dc10"
  },
  {
   "cell_type": "markdown",
   "source": [
    "Create dataframe for saving parsing info."
   ],
   "metadata": {
    "collapsed": false
   },
   "id": "45ff12ddcb50ce91"
  },
  {
   "cell_type": "code",
   "execution_count": 102,
   "outputs": [
    {
     "data": {
      "text/plain": "Empty DataFrame\nColumns: [grade, name, sector, ascents, fos_ratio, recommendations, stars]\nIndex: []",
      "text/html": "<div>\n<style scoped>\n    .dataframe tbody tr th:only-of-type {\n        vertical-align: middle;\n    }\n\n    .dataframe tbody tr th {\n        vertical-align: top;\n    }\n\n    .dataframe thead th {\n        text-align: right;\n    }\n</style>\n<table border=\"1\" class=\"dataframe\">\n  <thead>\n    <tr style=\"text-align: right;\">\n      <th></th>\n      <th>grade</th>\n      <th>name</th>\n      <th>sector</th>\n      <th>ascents</th>\n      <th>fos_ratio</th>\n      <th>recommendations</th>\n      <th>stars</th>\n    </tr>\n  </thead>\n  <tbody>\n  </tbody>\n</table>\n</div>"
     },
     "execution_count": 102,
     "metadata": {},
     "output_type": "execute_result"
    }
   ],
   "source": [
    "data_container = pd.DataFrame(\n",
    "    columns = ['grade',\n",
    "               'name',\n",
    "               'sector',\n",
    "               'ascents',\n",
    "               'fos_ratio',\n",
    "               'recommendations',\n",
    "               'stars']\n",
    ")\n",
    "\n",
    "data_container"
   ],
   "metadata": {
    "collapsed": false,
    "ExecuteTime": {
     "end_time": "2024-01-09T14:18:46.553871700Z",
     "start_time": "2024-01-09T14:18:46.522096400Z"
    }
   },
   "id": "f6f30cc0a8c90da1"
  },
  {
   "cell_type": "markdown",
   "source": [
    "Use BeautifulSoup for parsing."
   ],
   "metadata": {
    "collapsed": false
   },
   "id": "7934411b5e460192"
  },
  {
   "cell_type": "code",
   "execution_count": 24,
   "outputs": [],
   "source": [
    "# add our page into soup of html objects\n",
    "html = driver.page_source\n",
    "soup = BeautifulSoup(html)"
   ],
   "metadata": {
    "collapsed": false,
    "ExecuteTime": {
     "start_time": "2024-01-09T10:33:09.542264Z"
    }
   },
   "id": "4bd71fa012b04a2e"
  },
  {
   "cell_type": "code",
   "execution_count": 103,
   "outputs": [],
   "source": [
    "# take whole table from page\n",
    "elem_full_table = soup.find('table', class_='main-table zlags-table').find('tbody').find_all('tr')"
   ],
   "metadata": {
    "collapsed": false,
    "ExecuteTime": {
     "end_time": "2024-01-09T14:18:52.701929600Z",
     "start_time": "2024-01-09T14:18:52.701929600Z"
    }
   },
   "id": "d1ec8295e1cca46e"
  },
  {
   "cell_type": "code",
   "execution_count": 104,
   "outputs": [],
   "source": [
    "# take one <tr> ond save routes info\n",
    "for item in elem_full_table:\n",
    "    grade = item.find('div', class_='grade').get_text()\n",
    "    name = item.find('p', class_='name-link').get_text()\n",
    "    sector = item.find('p', class_='sub-link').find_next('a').find_next('a').get_text()\n",
    "    ascents = item.find(class_='col-ascents number').get_text()\n",
    "    fos_ratio = item.find(class_='col-ratio').get_text()\n",
    "    recommendations = item.find(class_='col-recommend').get_text()\n",
    "    \n",
    "    # count of stars of the route\n",
    "    stars = item.find(class_='star-rating').find_all('label', class_='is-selected')\n",
    "\n",
    "    new_row =\\\n",
    "        {'grade': grade.strip(),\n",
    "         'name': name.strip(),\n",
    "         'sector': sector.strip(),\n",
    "         'ascents': ascents.strip(),\n",
    "         'fos_ratio': fos_ratio.strip(),\n",
    "         'recommendations': recommendations.strip(),\n",
    "         'stars': len(stars)}\n",
    "    \n",
    "    # rewrite data in dataframe\n",
    "    data_container = pd.concat(\n",
    "        [data_container, pd.DataFrame([new_row])], ignore_index=True\n",
    "    )"
   ],
   "metadata": {
    "collapsed": false,
    "ExecuteTime": {
     "end_time": "2024-01-09T14:18:56.933313100Z",
     "start_time": "2024-01-09T14:18:56.904176400Z"
    }
   },
   "id": "6d59eeeaec5c74c4"
  },
  {
   "cell_type": "code",
   "execution_count": 105,
   "outputs": [
    {
     "data": {
      "text/plain": "   grade                     name            sector ascents fos_ratio  \\\n0     7a      Freedom is a Battle     Trebenna West     781      66 %   \n1     7a                  Karınca            Magara     699      55 %   \n2     7b           Lycian Highway     Trebenna West     645      70 %   \n3    6b+                  Saxafon            Sarkit     591      66 %   \n4     6b                  Nirvana            Magara     589      78 %   \n5    7b+               Black Moon         Left Cave     568      36 %   \n6    6c+               Rocket Man         Left Cave     566      71 %   \n7     7a              Imagination            Sarkit     548      78 %   \n8     7b             Diplomarbeit     Trebenna West     516      30 %   \n9     7b      Rattle Snake Saloon     Trebenna West     515      42 %   \n10    7a  Terazi lastik jimnastik     Trebenna West     491      66 %   \n11    7a           Sucker Punched     Trebenna West     479      55 %   \n12    7c        No Money no dance     Trebenna West     461      56 %   \n13    7a     10 years anniversary            Magara     460      54 %   \n14    6c            Latte Tsunami     Trebenna West     446      72 %   \n15    7b               Greek Gift     Trebenna West     430      49 %   \n16   6b+         Turkish standard  Turkish Standard     424      75 %   \n17    7a                 Bartabas           Mevlana     415      69 %   \n18   6c+          Mission to Mars  Turkish Standard     414      71 %   \n19   7a+                    Amele            Magara     409      51 %   \n\n   recommendations stars  \n0             10 %     3  \n1             16 %     4  \n2             13 %     4  \n3             20 %     4  \n4             10 %     3  \n5             20 %     4  \n6             16 %     4  \n7              6 %     3  \n8             17 %     4  \n9             10 %     3  \n10            12 %     3  \n11             7 %     3  \n12            13 %     4  \n13             8 %     3  \n14             7 %     3  \n15            15 %     4  \n16            16 %     4  \n17            12 %     4  \n18            11 %     3  \n19             9 %     3  ",
      "text/html": "<div>\n<style scoped>\n    .dataframe tbody tr th:only-of-type {\n        vertical-align: middle;\n    }\n\n    .dataframe tbody tr th {\n        vertical-align: top;\n    }\n\n    .dataframe thead th {\n        text-align: right;\n    }\n</style>\n<table border=\"1\" class=\"dataframe\">\n  <thead>\n    <tr style=\"text-align: right;\">\n      <th></th>\n      <th>grade</th>\n      <th>name</th>\n      <th>sector</th>\n      <th>ascents</th>\n      <th>fos_ratio</th>\n      <th>recommendations</th>\n      <th>stars</th>\n    </tr>\n  </thead>\n  <tbody>\n    <tr>\n      <th>0</th>\n      <td>7a</td>\n      <td>Freedom is a Battle</td>\n      <td>Trebenna West</td>\n      <td>781</td>\n      <td>66 %</td>\n      <td>10 %</td>\n      <td>3</td>\n    </tr>\n    <tr>\n      <th>1</th>\n      <td>7a</td>\n      <td>Karınca</td>\n      <td>Magara</td>\n      <td>699</td>\n      <td>55 %</td>\n      <td>16 %</td>\n      <td>4</td>\n    </tr>\n    <tr>\n      <th>2</th>\n      <td>7b</td>\n      <td>Lycian Highway</td>\n      <td>Trebenna West</td>\n      <td>645</td>\n      <td>70 %</td>\n      <td>13 %</td>\n      <td>4</td>\n    </tr>\n    <tr>\n      <th>3</th>\n      <td>6b+</td>\n      <td>Saxafon</td>\n      <td>Sarkit</td>\n      <td>591</td>\n      <td>66 %</td>\n      <td>20 %</td>\n      <td>4</td>\n    </tr>\n    <tr>\n      <th>4</th>\n      <td>6b</td>\n      <td>Nirvana</td>\n      <td>Magara</td>\n      <td>589</td>\n      <td>78 %</td>\n      <td>10 %</td>\n      <td>3</td>\n    </tr>\n    <tr>\n      <th>5</th>\n      <td>7b+</td>\n      <td>Black Moon</td>\n      <td>Left Cave</td>\n      <td>568</td>\n      <td>36 %</td>\n      <td>20 %</td>\n      <td>4</td>\n    </tr>\n    <tr>\n      <th>6</th>\n      <td>6c+</td>\n      <td>Rocket Man</td>\n      <td>Left Cave</td>\n      <td>566</td>\n      <td>71 %</td>\n      <td>16 %</td>\n      <td>4</td>\n    </tr>\n    <tr>\n      <th>7</th>\n      <td>7a</td>\n      <td>Imagination</td>\n      <td>Sarkit</td>\n      <td>548</td>\n      <td>78 %</td>\n      <td>6 %</td>\n      <td>3</td>\n    </tr>\n    <tr>\n      <th>8</th>\n      <td>7b</td>\n      <td>Diplomarbeit</td>\n      <td>Trebenna West</td>\n      <td>516</td>\n      <td>30 %</td>\n      <td>17 %</td>\n      <td>4</td>\n    </tr>\n    <tr>\n      <th>9</th>\n      <td>7b</td>\n      <td>Rattle Snake Saloon</td>\n      <td>Trebenna West</td>\n      <td>515</td>\n      <td>42 %</td>\n      <td>10 %</td>\n      <td>3</td>\n    </tr>\n    <tr>\n      <th>10</th>\n      <td>7a</td>\n      <td>Terazi lastik jimnastik</td>\n      <td>Trebenna West</td>\n      <td>491</td>\n      <td>66 %</td>\n      <td>12 %</td>\n      <td>3</td>\n    </tr>\n    <tr>\n      <th>11</th>\n      <td>7a</td>\n      <td>Sucker Punched</td>\n      <td>Trebenna West</td>\n      <td>479</td>\n      <td>55 %</td>\n      <td>7 %</td>\n      <td>3</td>\n    </tr>\n    <tr>\n      <th>12</th>\n      <td>7c</td>\n      <td>No Money no dance</td>\n      <td>Trebenna West</td>\n      <td>461</td>\n      <td>56 %</td>\n      <td>13 %</td>\n      <td>4</td>\n    </tr>\n    <tr>\n      <th>13</th>\n      <td>7a</td>\n      <td>10 years anniversary</td>\n      <td>Magara</td>\n      <td>460</td>\n      <td>54 %</td>\n      <td>8 %</td>\n      <td>3</td>\n    </tr>\n    <tr>\n      <th>14</th>\n      <td>6c</td>\n      <td>Latte Tsunami</td>\n      <td>Trebenna West</td>\n      <td>446</td>\n      <td>72 %</td>\n      <td>7 %</td>\n      <td>3</td>\n    </tr>\n    <tr>\n      <th>15</th>\n      <td>7b</td>\n      <td>Greek Gift</td>\n      <td>Trebenna West</td>\n      <td>430</td>\n      <td>49 %</td>\n      <td>15 %</td>\n      <td>4</td>\n    </tr>\n    <tr>\n      <th>16</th>\n      <td>6b+</td>\n      <td>Turkish standard</td>\n      <td>Turkish Standard</td>\n      <td>424</td>\n      <td>75 %</td>\n      <td>16 %</td>\n      <td>4</td>\n    </tr>\n    <tr>\n      <th>17</th>\n      <td>7a</td>\n      <td>Bartabas</td>\n      <td>Mevlana</td>\n      <td>415</td>\n      <td>69 %</td>\n      <td>12 %</td>\n      <td>4</td>\n    </tr>\n    <tr>\n      <th>18</th>\n      <td>6c+</td>\n      <td>Mission to Mars</td>\n      <td>Turkish Standard</td>\n      <td>414</td>\n      <td>71 %</td>\n      <td>11 %</td>\n      <td>3</td>\n    </tr>\n    <tr>\n      <th>19</th>\n      <td>7a+</td>\n      <td>Amele</td>\n      <td>Magara</td>\n      <td>409</td>\n      <td>51 %</td>\n      <td>9 %</td>\n      <td>3</td>\n    </tr>\n  </tbody>\n</table>\n</div>"
     },
     "execution_count": 105,
     "metadata": {},
     "output_type": "execute_result"
    }
   ],
   "source": [
    "data_container"
   ],
   "metadata": {
    "collapsed": false,
    "ExecuteTime": {
     "end_time": "2024-01-09T14:18:59.875834900Z",
     "start_time": "2024-01-09T14:18:59.855542700Z"
    }
   },
   "id": "f86cc585795c7ced"
  },
  {
   "cell_type": "code",
   "execution_count": null,
   "outputs": [],
   "source": [],
   "metadata": {
    "collapsed": false
   },
   "id": "4ca4aff6f2e39969"
  },
  {
   "cell_type": "code",
   "execution_count": null,
   "outputs": [],
   "source": [],
   "metadata": {
    "collapsed": false
   },
   "id": "4603e609e2e3b439"
  },
  {
   "cell_type": "code",
   "execution_count": 25,
   "outputs": [],
   "source": [],
   "metadata": {
    "collapsed": false,
    "ExecuteTime": {
     "end_time": "2024-01-09T10:33:14.879065500Z",
     "start_time": "2024-01-09T10:33:14.879065500Z"
    }
   },
   "id": "9f70b0f50943a6f3"
  },
  {
   "cell_type": "code",
   "execution_count": null,
   "outputs": [],
   "source": [],
   "metadata": {
    "collapsed": false
   },
   "id": "62e9b14dd0f87a99"
  },
  {
   "cell_type": "code",
   "execution_count": null,
   "outputs": [],
   "source": [],
   "metadata": {
    "collapsed": false
   },
   "id": "a777c87567ba918b"
  }
 ],
 "metadata": {
  "kernelspec": {
   "display_name": "Python 3",
   "language": "python",
   "name": "python3"
  },
  "language_info": {
   "codemirror_mode": {
    "name": "ipython",
    "version": 2
   },
   "file_extension": ".py",
   "mimetype": "text/x-python",
   "name": "python",
   "nbconvert_exporter": "python",
   "pygments_lexer": "ipython2",
   "version": "2.7.6"
  }
 },
 "nbformat": 4,
 "nbformat_minor": 5
}
