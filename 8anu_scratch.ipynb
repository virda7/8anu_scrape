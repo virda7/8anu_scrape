{
 "cells": [
  {
   "cell_type": "markdown",
   "source": [
    "### Import libraries."
   ],
   "metadata": {
    "collapsed": false
   },
   "id": "72014b1a697050ff"
  },
  {
   "cell_type": "code",
   "execution_count": 1,
   "outputs": [],
   "source": [
    "import pandas as pd\n",
    "\n",
    "from bs4 import BeautifulSoup\n",
    "import time\n",
    "from selenium import webdriver\n",
    "from selenium.webdriver.common.by import By"
   ],
   "metadata": {
    "collapsed": false,
    "ExecuteTime": {
     "end_time": "2024-01-10T09:49:16.897360500Z",
     "start_time": "2024-01-10T09:49:16.435747800Z"
    }
   },
   "id": "c5df7f0082a16385"
  },
  {
   "cell_type": "markdown",
   "source": [
    "### Use Selenium to open sourse."
   ],
   "metadata": {
    "collapsed": false
   },
   "id": "543db6c8d8c7ab75"
  },
  {
   "cell_type": "code",
   "execution_count": 2,
   "outputs": [],
   "source": [
    "driver = webdriver.Chrome()"
   ],
   "metadata": {
    "collapsed": false,
    "ExecuteTime": {
     "end_time": "2024-01-10T09:49:18.145924700Z",
     "start_time": "2024-01-10T09:49:16.899487200Z"
    }
   },
   "id": "ba4e7f90988ea136"
  },
  {
   "cell_type": "code",
   "execution_count": 3,
   "outputs": [],
   "source": [
    "url = 'https://www.8a.nu/crags/sportclimbing/turkey/geyik-bayiri/routes'"
   ],
   "metadata": {
    "collapsed": false,
    "ExecuteTime": {
     "end_time": "2024-01-10T09:49:18.145924700Z",
     "start_time": "2024-01-10T09:49:18.131359300Z"
    }
   },
   "id": "53d31b40810af312"
  },
  {
   "cell_type": "code",
   "execution_count": 4,
   "outputs": [],
   "source": [
    "driver.get(url)\n",
    "\n",
    "time.sleep(3)"
   ],
   "metadata": {
    "collapsed": false,
    "ExecuteTime": {
     "end_time": "2024-01-10T09:49:22.112634900Z",
     "start_time": "2024-01-10T09:49:18.135929Z"
    }
   },
   "id": "6bda094ae2f7dc10"
  },
  {
   "cell_type": "markdown",
   "source": [
    "### Create dataframe for saving parsing info.\n",
    "\n",
    "* *grade* — grade of the route;\n",
    "* *name* — name of the route;\n",
    "* *sector* — route's sector;\n",
    "* *ascents* — count of tops of the route;\n",
    "* *fos_ratio* — ratio of flash and onsight ascents (from first try);\n",
    "* *recommendation* — percent of recommendation of the route;\n",
    "* *stars* — route's rating (0 to 5 stars). \n"
   ],
   "metadata": {
    "collapsed": false
   },
   "id": "45ff12ddcb50ce91"
  },
  {
   "cell_type": "code",
   "execution_count": 5,
   "outputs": [
    {
     "data": {
      "text/plain": "Empty DataFrame\nColumns: [grade, name, sector, ascents, fos_ratio, recommendations, stars]\nIndex: []",
      "text/html": "<div>\n<style scoped>\n    .dataframe tbody tr th:only-of-type {\n        vertical-align: middle;\n    }\n\n    .dataframe tbody tr th {\n        vertical-align: top;\n    }\n\n    .dataframe thead th {\n        text-align: right;\n    }\n</style>\n<table border=\"1\" class=\"dataframe\">\n  <thead>\n    <tr style=\"text-align: right;\">\n      <th></th>\n      <th>grade</th>\n      <th>name</th>\n      <th>sector</th>\n      <th>ascents</th>\n      <th>fos_ratio</th>\n      <th>recommendations</th>\n      <th>stars</th>\n    </tr>\n  </thead>\n  <tbody>\n  </tbody>\n</table>\n</div>"
     },
     "execution_count": 5,
     "metadata": {},
     "output_type": "execute_result"
    }
   ],
   "source": [
    "data_container = pd.DataFrame(\n",
    "    columns = ['grade',\n",
    "               'name',\n",
    "               'sector',\n",
    "               'ascents',\n",
    "               'fos_ratio',\n",
    "               'recommendations',\n",
    "               'stars']\n",
    ")\n",
    "\n",
    "data_container"
   ],
   "metadata": {
    "collapsed": false,
    "ExecuteTime": {
     "end_time": "2024-01-10T09:49:22.132555800Z",
     "start_time": "2024-01-10T09:49:22.114638300Z"
    }
   },
   "id": "f6f30cc0a8c90da1"
  },
  {
   "cell_type": "markdown",
   "source": [
    "### Use BeautifulSoup for parsing."
   ],
   "metadata": {
    "collapsed": false
   },
   "id": "7934411b5e460192"
  },
  {
   "cell_type": "code",
   "execution_count": 6,
   "outputs": [
    {
     "name": "stdout",
     "output_type": "stream",
     "text": [
      "FREE!\n"
     ]
    }
   ],
   "source": [
    "while True:\n",
    "\n",
    "    # add our page into soup of html objects\n",
    "    \n",
    "    html = driver.page_source\n",
    "    soup = BeautifulSoup(html)\n",
    "\n",
    "    # take whole table with routes info from page\n",
    "    \n",
    "    elem_full_table = soup.find('table', class_='main-table zlags-table').find('tbody').find_all('tr')\n",
    "\n",
    "    # read <tr> information row by row, adding it to our\n",
    "    # DataFrame container\n",
    "    \n",
    "    for item in elem_full_table:\n",
    "        grade = item.find('div', class_='grade').get_text()\n",
    "        name = item.find('p', class_='name-link').get_text()\n",
    "        sector = item.find('p', class_='sub-link').find_next('a').find_next('a').get_text()\n",
    "        ascents = item.find(class_='col-ascents number').get_text()\n",
    "        fos_ratio = item.find(class_='col-ratio').get_text()\n",
    "        recommendations = item.find(class_='col-recommend').get_text()\n",
    "    \n",
    "        # counting stars of the route (5 — max value)\n",
    "        stars = item.find(class_='star-rating').find_all('label', class_='is-selected')\n",
    "    \n",
    "        # creating new row with one route info\n",
    "        new_row = \\\n",
    "            {'grade': grade.strip(),\n",
    "             'name': name.strip(),\n",
    "             'sector': sector.strip(),\n",
    "             'ascents': ascents.strip(),\n",
    "             'fos_ratio': fos_ratio.strip(),\n",
    "             'recommendations': recommendations.strip(),\n",
    "             'stars': len(stars)}\n",
    "    \n",
    "        # rewrite data in dataframe\n",
    "        data_container = pd.concat(\n",
    "            [data_container, pd.DataFrame([new_row])], ignore_index=True\n",
    "        )\n",
    "   \n",
    "    try:\n",
    "        # going to the next page link's text\n",
    "    \n",
    "        driver.find_element(By.LINK_TEXT, 'NEXT').click()\n",
    "        time.sleep(2)\n",
    "        \n",
    "    except:\n",
    "        break\n",
    "        \n",
    "print(\"FREE!\")"
   ],
   "metadata": {
    "collapsed": false,
    "ExecuteTime": {
     "end_time": "2024-01-10T09:53:33.592850900Z",
     "start_time": "2024-01-10T09:49:22.128557200Z"
    }
   },
   "id": "b64ee1ef25f95162"
  },
  {
   "cell_type": "code",
   "execution_count": 7,
   "outputs": [
    {
     "data": {
      "text/plain": "     grade                 name          sector ascents fos_ratio  \\\n0       7a  Freedom is a Battle   Trebenna West     781      66 %   \n1       7a              Karınca          Magara     699      55 %   \n2       7b       Lycian Highway   Trebenna West     645      70 %   \n3      6b+              Saxafon          Sarkit     591      66 %   \n4       6b              Nirvana          Magara     589      78 %   \n...    ...                  ...             ...     ...       ...   \n2100   6a+  Session of Hapiness    Anatolia Sag       1       0 %   \n2101   6b+            Comftably          Echoes       1     100 %   \n2102    6a    En Iyisi o (Neco)        Poseidon       1     100 %   \n2103   7c+           Sunatorium           Cesme       1       0 %   \n2104    8a             Big Foot  Unknown Sector       0       0 %   \n\n     recommendations stars  \n0               10 %     3  \n1               16 %     4  \n2               13 %     4  \n3               20 %     4  \n4               10 %     3  \n...              ...   ...  \n2100             0 %     0  \n2101             0 %     0  \n2102             0 %     0  \n2103             0 %     4  \n2104             0 %     0  \n\n[2105 rows x 7 columns]",
      "text/html": "<div>\n<style scoped>\n    .dataframe tbody tr th:only-of-type {\n        vertical-align: middle;\n    }\n\n    .dataframe tbody tr th {\n        vertical-align: top;\n    }\n\n    .dataframe thead th {\n        text-align: right;\n    }\n</style>\n<table border=\"1\" class=\"dataframe\">\n  <thead>\n    <tr style=\"text-align: right;\">\n      <th></th>\n      <th>grade</th>\n      <th>name</th>\n      <th>sector</th>\n      <th>ascents</th>\n      <th>fos_ratio</th>\n      <th>recommendations</th>\n      <th>stars</th>\n    </tr>\n  </thead>\n  <tbody>\n    <tr>\n      <th>0</th>\n      <td>7a</td>\n      <td>Freedom is a Battle</td>\n      <td>Trebenna West</td>\n      <td>781</td>\n      <td>66 %</td>\n      <td>10 %</td>\n      <td>3</td>\n    </tr>\n    <tr>\n      <th>1</th>\n      <td>7a</td>\n      <td>Karınca</td>\n      <td>Magara</td>\n      <td>699</td>\n      <td>55 %</td>\n      <td>16 %</td>\n      <td>4</td>\n    </tr>\n    <tr>\n      <th>2</th>\n      <td>7b</td>\n      <td>Lycian Highway</td>\n      <td>Trebenna West</td>\n      <td>645</td>\n      <td>70 %</td>\n      <td>13 %</td>\n      <td>4</td>\n    </tr>\n    <tr>\n      <th>3</th>\n      <td>6b+</td>\n      <td>Saxafon</td>\n      <td>Sarkit</td>\n      <td>591</td>\n      <td>66 %</td>\n      <td>20 %</td>\n      <td>4</td>\n    </tr>\n    <tr>\n      <th>4</th>\n      <td>6b</td>\n      <td>Nirvana</td>\n      <td>Magara</td>\n      <td>589</td>\n      <td>78 %</td>\n      <td>10 %</td>\n      <td>3</td>\n    </tr>\n    <tr>\n      <th>...</th>\n      <td>...</td>\n      <td>...</td>\n      <td>...</td>\n      <td>...</td>\n      <td>...</td>\n      <td>...</td>\n      <td>...</td>\n    </tr>\n    <tr>\n      <th>2100</th>\n      <td>6a+</td>\n      <td>Session of Hapiness</td>\n      <td>Anatolia Sag</td>\n      <td>1</td>\n      <td>0 %</td>\n      <td>0 %</td>\n      <td>0</td>\n    </tr>\n    <tr>\n      <th>2101</th>\n      <td>6b+</td>\n      <td>Comftably</td>\n      <td>Echoes</td>\n      <td>1</td>\n      <td>100 %</td>\n      <td>0 %</td>\n      <td>0</td>\n    </tr>\n    <tr>\n      <th>2102</th>\n      <td>6a</td>\n      <td>En Iyisi o (Neco)</td>\n      <td>Poseidon</td>\n      <td>1</td>\n      <td>100 %</td>\n      <td>0 %</td>\n      <td>0</td>\n    </tr>\n    <tr>\n      <th>2103</th>\n      <td>7c+</td>\n      <td>Sunatorium</td>\n      <td>Cesme</td>\n      <td>1</td>\n      <td>0 %</td>\n      <td>0 %</td>\n      <td>4</td>\n    </tr>\n    <tr>\n      <th>2104</th>\n      <td>8a</td>\n      <td>Big Foot</td>\n      <td>Unknown Sector</td>\n      <td>0</td>\n      <td>0 %</td>\n      <td>0 %</td>\n      <td>0</td>\n    </tr>\n  </tbody>\n</table>\n<p>2105 rows × 7 columns</p>\n</div>"
     },
     "execution_count": 7,
     "metadata": {},
     "output_type": "execute_result"
    }
   ],
   "source": [
    "data_container"
   ],
   "metadata": {
    "collapsed": false,
    "ExecuteTime": {
     "end_time": "2024-01-10T09:53:33.593852500Z",
     "start_time": "2024-01-10T09:53:33.582814700Z"
    }
   },
   "id": "4ed23a1a86b17607"
  },
  {
   "cell_type": "code",
   "execution_count": 8,
   "outputs": [],
   "source": [
    "data_container.to_csv('routes_info_raw.csv', encoding='utf-8', index=False)"
   ],
   "metadata": {
    "collapsed": false,
    "ExecuteTime": {
     "end_time": "2024-01-10T09:53:48.507592600Z",
     "start_time": "2024-01-10T09:53:48.498767700Z"
    }
   },
   "id": "e53a8b0e7a8ec192"
  }
 ],
 "metadata": {
  "kernelspec": {
   "display_name": "Python 3",
   "language": "python",
   "name": "python3"
  },
  "language_info": {
   "codemirror_mode": {
    "name": "ipython",
    "version": 2
   },
   "file_extension": ".py",
   "mimetype": "text/x-python",
   "name": "python",
   "nbconvert_exporter": "python",
   "pygments_lexer": "ipython2",
   "version": "2.7.6"
  }
 },
 "nbformat": 4,
 "nbformat_minor": 5
}
