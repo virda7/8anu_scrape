{
 "cells": [
  {
   "cell_type": "markdown",
   "source": [
    "## Import labraries"
   ],
   "metadata": {
    "collapsed": false
   },
   "id": "704ad340774cbcdc"
  },
  {
   "cell_type": "code",
   "execution_count": 1,
   "outputs": [],
   "source": [
    "import pandas as pd\n",
    "import numpy as np\n",
    "\n",
    "import jellyfish\n",
    "\n",
    "import seaborn as sns"
   ],
   "metadata": {
    "collapsed": false,
    "ExecuteTime": {
     "end_time": "2024-02-01T12:49:31.376883400Z",
     "start_time": "2024-02-01T12:49:31.370979700Z"
    }
   },
   "id": "89c37de81c39b692"
  },
  {
   "cell_type": "markdown",
   "source": [
    "## Import database with clean sectors name and raw routes' name"
   ],
   "metadata": {
    "collapsed": false
   },
   "id": "41069823d79c4cbb"
  },
  {
   "cell_type": "code",
   "execution_count": 2,
   "outputs": [
    {
     "data": {
      "text/plain": "  grade                 name  name_clean         sector   sector_clean  \\\n0    7a  Freedom is a Battle         NaN  Trebenna West  Trebenna West   \n1    7a              Karınca         NaN         Magara         Magara   \n2    7b       Lycian Highway         NaN  Trebenna West  Trebenna West   \n3   6b+              Saxafon         NaN         Sarkit         Sarkit   \n4    6b              Nirvana         NaN         Magara         Magara   \n\n   ascents fos_ratio recommendations  stars  \n0      781      66 %            10 %      3  \n1      699      55 %            16 %      4  \n2      645      70 %            13 %      4  \n3      591      66 %            20 %      4  \n4      589      78 %            10 %      3  ",
      "text/html": "<div>\n<style scoped>\n    .dataframe tbody tr th:only-of-type {\n        vertical-align: middle;\n    }\n\n    .dataframe tbody tr th {\n        vertical-align: top;\n    }\n\n    .dataframe thead th {\n        text-align: right;\n    }\n</style>\n<table border=\"1\" class=\"dataframe\">\n  <thead>\n    <tr style=\"text-align: right;\">\n      <th></th>\n      <th>grade</th>\n      <th>name</th>\n      <th>name_clean</th>\n      <th>sector</th>\n      <th>sector_clean</th>\n      <th>ascents</th>\n      <th>fos_ratio</th>\n      <th>recommendations</th>\n      <th>stars</th>\n    </tr>\n  </thead>\n  <tbody>\n    <tr>\n      <th>0</th>\n      <td>7a</td>\n      <td>Freedom is a Battle</td>\n      <td>NaN</td>\n      <td>Trebenna West</td>\n      <td>Trebenna West</td>\n      <td>781</td>\n      <td>66 %</td>\n      <td>10 %</td>\n      <td>3</td>\n    </tr>\n    <tr>\n      <th>1</th>\n      <td>7a</td>\n      <td>Karınca</td>\n      <td>NaN</td>\n      <td>Magara</td>\n      <td>Magara</td>\n      <td>699</td>\n      <td>55 %</td>\n      <td>16 %</td>\n      <td>4</td>\n    </tr>\n    <tr>\n      <th>2</th>\n      <td>7b</td>\n      <td>Lycian Highway</td>\n      <td>NaN</td>\n      <td>Trebenna West</td>\n      <td>Trebenna West</td>\n      <td>645</td>\n      <td>70 %</td>\n      <td>13 %</td>\n      <td>4</td>\n    </tr>\n    <tr>\n      <th>3</th>\n      <td>6b+</td>\n      <td>Saxafon</td>\n      <td>NaN</td>\n      <td>Sarkit</td>\n      <td>Sarkit</td>\n      <td>591</td>\n      <td>66 %</td>\n      <td>20 %</td>\n      <td>4</td>\n    </tr>\n    <tr>\n      <th>4</th>\n      <td>6b</td>\n      <td>Nirvana</td>\n      <td>NaN</td>\n      <td>Magara</td>\n      <td>Magara</td>\n      <td>589</td>\n      <td>78 %</td>\n      <td>10 %</td>\n      <td>3</td>\n    </tr>\n  </tbody>\n</table>\n</div>"
     },
     "execution_count": 2,
     "metadata": {},
     "output_type": "execute_result"
    }
   ],
   "source": [
    "data_sector_clean = pd.read_csv('routes_info_sector_clean.csv')\n",
    "data_sector_clean.head()"
   ],
   "metadata": {
    "collapsed": false,
    "ExecuteTime": {
     "end_time": "2024-02-01T12:49:31.394087400Z",
     "start_time": "2024-02-01T12:49:31.376883400Z"
    }
   },
   "id": "54120183071159ea"
  },
  {
   "cell_type": "markdown",
   "source": [
    "## Dataset analysis"
   ],
   "metadata": {
    "collapsed": false
   },
   "id": "d36f6b8037253e52"
  },
  {
   "cell_type": "markdown",
   "source": [
    "Because of troubles with parsing, data has lots of duplicates. We will solve this problem later."
   ],
   "metadata": {
    "collapsed": false
   },
   "id": "b0734e489d6b76ae"
  },
  {
   "cell_type": "code",
   "execution_count": 3,
   "outputs": [
    {
     "name": "stdout",
     "output_type": "stream",
     "text": [
      "Count of duplicates: 173\n"
     ]
    }
   ],
   "source": [
    "print('Count of duplicates:', data_sector_clean.duplicated().sum())"
   ],
   "metadata": {
    "collapsed": false,
    "ExecuteTime": {
     "end_time": "2024-02-01T12:49:31.409685800Z",
     "start_time": "2024-02-01T12:49:31.394087400Z"
    }
   },
   "id": "afe24df208f0b221"
  },
  {
   "cell_type": "code",
   "execution_count": 4,
   "outputs": [],
   "source": [
    "data_sector_clean.drop_duplicates(inplace=True)"
   ],
   "metadata": {
    "collapsed": false,
    "ExecuteTime": {
     "end_time": "2024-02-01T12:49:31.409685800Z",
     "start_time": "2024-02-01T12:49:31.403457900Z"
    }
   },
   "id": "b3ab926d2db06d0b"
  },
  {
   "cell_type": "code",
   "execution_count": 5,
   "outputs": [
    {
     "data": {
      "text/plain": "     grade                 name  name_clean          sector    sector_clean  \\\n0       7a  Freedom is a Battle         NaN   Trebenna West   Trebenna West   \n1       7a              Karınca         NaN          Magara          Magara   \n2       7b       Lycian Highway         NaN   Trebenna West   Trebenna West   \n3      6b+              Saxafon         NaN          Sarkit          Sarkit   \n4       6b              Nirvana         NaN          Magara          Magara   \n...    ...                  ...         ...             ...             ...   \n2100   6a+  Session of Hapiness         NaN    Anatolia Sag        Anatolia   \n2101   6b+            Comftably         NaN          Echoes          Echoes   \n2102    6a    En Iyisi o (Neco)         NaN        Poseidon        Poseidon   \n2103   7c+           Sunatorium         NaN           Cesme           Cesme   \n2104    8a             Big Foot         NaN  Unknown Sector  Unknown Sector   \n\n      ascents fos_ratio recommendations  stars  \n0         781      66 %            10 %      3  \n1         699      55 %            16 %      4  \n2         645      70 %            13 %      4  \n3         591      66 %            20 %      4  \n4         589      78 %            10 %      3  \n...       ...       ...             ...    ...  \n2100        1       0 %             0 %      0  \n2101        1     100 %             0 %      0  \n2102        1     100 %             0 %      0  \n2103        1       0 %             0 %      4  \n2104        0       0 %             0 %      0  \n\n[1932 rows x 9 columns]",
      "text/html": "<div>\n<style scoped>\n    .dataframe tbody tr th:only-of-type {\n        vertical-align: middle;\n    }\n\n    .dataframe tbody tr th {\n        vertical-align: top;\n    }\n\n    .dataframe thead th {\n        text-align: right;\n    }\n</style>\n<table border=\"1\" class=\"dataframe\">\n  <thead>\n    <tr style=\"text-align: right;\">\n      <th></th>\n      <th>grade</th>\n      <th>name</th>\n      <th>name_clean</th>\n      <th>sector</th>\n      <th>sector_clean</th>\n      <th>ascents</th>\n      <th>fos_ratio</th>\n      <th>recommendations</th>\n      <th>stars</th>\n    </tr>\n  </thead>\n  <tbody>\n    <tr>\n      <th>0</th>\n      <td>7a</td>\n      <td>Freedom is a Battle</td>\n      <td>NaN</td>\n      <td>Trebenna West</td>\n      <td>Trebenna West</td>\n      <td>781</td>\n      <td>66 %</td>\n      <td>10 %</td>\n      <td>3</td>\n    </tr>\n    <tr>\n      <th>1</th>\n      <td>7a</td>\n      <td>Karınca</td>\n      <td>NaN</td>\n      <td>Magara</td>\n      <td>Magara</td>\n      <td>699</td>\n      <td>55 %</td>\n      <td>16 %</td>\n      <td>4</td>\n    </tr>\n    <tr>\n      <th>2</th>\n      <td>7b</td>\n      <td>Lycian Highway</td>\n      <td>NaN</td>\n      <td>Trebenna West</td>\n      <td>Trebenna West</td>\n      <td>645</td>\n      <td>70 %</td>\n      <td>13 %</td>\n      <td>4</td>\n    </tr>\n    <tr>\n      <th>3</th>\n      <td>6b+</td>\n      <td>Saxafon</td>\n      <td>NaN</td>\n      <td>Sarkit</td>\n      <td>Sarkit</td>\n      <td>591</td>\n      <td>66 %</td>\n      <td>20 %</td>\n      <td>4</td>\n    </tr>\n    <tr>\n      <th>4</th>\n      <td>6b</td>\n      <td>Nirvana</td>\n      <td>NaN</td>\n      <td>Magara</td>\n      <td>Magara</td>\n      <td>589</td>\n      <td>78 %</td>\n      <td>10 %</td>\n      <td>3</td>\n    </tr>\n    <tr>\n      <th>...</th>\n      <td>...</td>\n      <td>...</td>\n      <td>...</td>\n      <td>...</td>\n      <td>...</td>\n      <td>...</td>\n      <td>...</td>\n      <td>...</td>\n      <td>...</td>\n    </tr>\n    <tr>\n      <th>2100</th>\n      <td>6a+</td>\n      <td>Session of Hapiness</td>\n      <td>NaN</td>\n      <td>Anatolia Sag</td>\n      <td>Anatolia</td>\n      <td>1</td>\n      <td>0 %</td>\n      <td>0 %</td>\n      <td>0</td>\n    </tr>\n    <tr>\n      <th>2101</th>\n      <td>6b+</td>\n      <td>Comftably</td>\n      <td>NaN</td>\n      <td>Echoes</td>\n      <td>Echoes</td>\n      <td>1</td>\n      <td>100 %</td>\n      <td>0 %</td>\n      <td>0</td>\n    </tr>\n    <tr>\n      <th>2102</th>\n      <td>6a</td>\n      <td>En Iyisi o (Neco)</td>\n      <td>NaN</td>\n      <td>Poseidon</td>\n      <td>Poseidon</td>\n      <td>1</td>\n      <td>100 %</td>\n      <td>0 %</td>\n      <td>0</td>\n    </tr>\n    <tr>\n      <th>2103</th>\n      <td>7c+</td>\n      <td>Sunatorium</td>\n      <td>NaN</td>\n      <td>Cesme</td>\n      <td>Cesme</td>\n      <td>1</td>\n      <td>0 %</td>\n      <td>0 %</td>\n      <td>4</td>\n    </tr>\n    <tr>\n      <th>2104</th>\n      <td>8a</td>\n      <td>Big Foot</td>\n      <td>NaN</td>\n      <td>Unknown Sector</td>\n      <td>Unknown Sector</td>\n      <td>0</td>\n      <td>0 %</td>\n      <td>0 %</td>\n      <td>0</td>\n    </tr>\n  </tbody>\n</table>\n<p>1932 rows × 9 columns</p>\n</div>"
     },
     "execution_count": 5,
     "metadata": {},
     "output_type": "execute_result"
    }
   ],
   "source": [
    "data_sector_clean"
   ],
   "metadata": {
    "collapsed": false,
    "ExecuteTime": {
     "end_time": "2024-02-01T12:49:31.466375900Z",
     "start_time": "2024-02-01T12:49:31.408605400Z"
    }
   },
   "id": "6ad6e05fea1f4faa"
  },
  {
   "cell_type": "code",
   "execution_count": 6,
   "outputs": [],
   "source": [
    "# change name_clean type to object\n",
    "\n",
    "data_sector_clean['name_clean'] = data_sector_clean['name_clean'].astype('object')"
   ],
   "metadata": {
    "collapsed": false,
    "ExecuteTime": {
     "end_time": "2024-02-01T12:49:31.490250400Z",
     "start_time": "2024-02-01T12:49:31.416772300Z"
    }
   },
   "id": "3a76f252c8b94c63"
  },
  {
   "cell_type": "markdown",
   "source": [
    "Info about sectors."
   ],
   "metadata": {
    "collapsed": false
   },
   "id": "d4a3e73647278d01"
  },
  {
   "cell_type": "code",
   "execution_count": 7,
   "outputs": [
    {
     "data": {
      "text/plain": "sector_clean\nUnknown Sector      336\nTrebenna West       249\nAlabalik            115\nSarkit              107\nKüllüin              79\n                   ... \nde que fas aqui?      1\ngüsel                 1\nKülüin Terras         1\nAkyalar               1\nokuzini cave          1\nName: name, Length: 65, dtype: int64"
     },
     "execution_count": 7,
     "metadata": {},
     "output_type": "execute_result"
    }
   ],
   "source": [
    "(\n",
    "    data_sector_clean\n",
    "    .groupby(['sector_clean'])['name']\n",
    "    .count()\n",
    "    .sort_values(ascending=False)\n",
    ")"
   ],
   "metadata": {
    "collapsed": false,
    "ExecuteTime": {
     "end_time": "2024-02-01T12:49:31.490250400Z",
     "start_time": "2024-02-01T12:49:31.420513900Z"
    }
   },
   "id": "1d5df45c7e894737"
  },
  {
   "cell_type": "markdown",
   "source": [
    "We can see Unknown Sector. Let's try to recover their names."
   ],
   "metadata": {
    "collapsed": false
   },
   "id": "f7364c03d9a4a860"
  },
  {
   "cell_type": "code",
   "execution_count": 8,
   "outputs": [],
   "source": [
    "name_with_several_sectors = (\n",
    "    data_sector_clean\n",
    "    .groupby(['name'])['sector_clean']\n",
    "    .count()\n",
    "    .sort_values(ascending=False)\n",
    ")\n",
    "\n",
    "name_with_several_sectors = (\n",
    "    name_with_several_sectors[name_with_several_sectors > 1]\n",
    ")"
   ],
   "metadata": {
    "collapsed": false,
    "ExecuteTime": {
     "end_time": "2024-02-01T12:49:31.490250400Z",
     "start_time": "2024-02-01T12:49:31.426443300Z"
    }
   },
   "id": "4bf995d06bc1f34c"
  },
  {
   "cell_type": "markdown",
   "source": [
    "New routes without names usually are down written like ‘n.n.’. But some time later they are given normal name with no rewriting old info. So I prefer to delete them."
   ],
   "metadata": {
    "collapsed": false
   },
   "id": "73cba082ff426edc"
  },
  {
   "cell_type": "code",
   "execution_count": 9,
   "outputs": [
    {
     "name": "stdout",
     "output_type": "stream",
     "text": [
      "Routes without name: \n"
     ]
    },
    {
     "data": {
      "text/plain": "72"
     },
     "execution_count": 9,
     "metadata": {},
     "output_type": "execute_result"
    }
   ],
   "source": [
    "print('Routes without name: ')\n",
    "(data_sector_clean['name'] == 'N.N.').sum()"
   ],
   "metadata": {
    "collapsed": false,
    "ExecuteTime": {
     "end_time": "2024-02-01T12:49:31.490250400Z",
     "start_time": "2024-02-01T12:49:31.431445900Z"
    }
   },
   "id": "f665dfde43c83c0f"
  },
  {
   "cell_type": "code",
   "execution_count": 10,
   "outputs": [],
   "source": [
    "# deleting\n",
    "\n",
    "data_sector_clean.drop(data_sector_clean.loc[data_sector_clean['name']=='N.N.'].index, inplace=True)"
   ],
   "metadata": {
    "collapsed": false,
    "ExecuteTime": {
     "end_time": "2024-02-01T12:49:31.490250400Z",
     "start_time": "2024-02-01T12:49:31.435960900Z"
    }
   },
   "id": "74172a59bb0683a1"
  },
  {
   "cell_type": "code",
   "execution_count": 11,
   "outputs": [
    {
     "name": "stdout",
     "output_type": "stream",
     "text": [
      "Routes without name: \n"
     ]
    },
    {
     "data": {
      "text/plain": "0"
     },
     "execution_count": 11,
     "metadata": {},
     "output_type": "execute_result"
    }
   ],
   "source": [
    "print('Routes without name: ')\n",
    "(data_sector_clean['name'] == 'N.N.').sum()"
   ],
   "metadata": {
    "collapsed": false,
    "ExecuteTime": {
     "end_time": "2024-02-01T12:49:31.505867300Z",
     "start_time": "2024-02-01T12:49:31.441567Z"
    }
   },
   "id": "50a6f5cf89b6c658"
  },
  {
   "cell_type": "markdown",
   "source": [
    "Also, we may have routes without ascent. It’s not interesting info, ’cause we are trying to find the most popular routes."
   ],
   "metadata": {
    "collapsed": false
   },
   "id": "498efb2738c11c89"
  },
  {
   "cell_type": "code",
   "execution_count": 12,
   "outputs": [],
   "source": [
    "data_sector_clean.drop(data_sector_clean.loc[data_sector_clean['ascents']==0].index, inplace=True)"
   ],
   "metadata": {
    "collapsed": false,
    "ExecuteTime": {
     "end_time": "2024-02-01T12:49:31.505867300Z",
     "start_time": "2024-02-01T12:49:31.446374400Z"
    }
   },
   "id": "bf3090a889d644dc"
  },
  {
   "cell_type": "markdown",
   "source": [
    "After deleting we can work with routes with several sectors. Let's recover some unknown sectors."
   ],
   "metadata": {
    "collapsed": false
   },
   "id": "d32e2f1918087a75"
  },
  {
   "cell_type": "code",
   "execution_count": 13,
   "outputs": [
    {
     "data": {
      "text/plain": "     grade       name name_clean           sector    sector_clean  ascents  \\\n50     6b+  Triologie        NaN    Trebenna West   Trebenna West      276   \n460     7a  Triologie        NaN          Trebene   Trebenna West       44   \n627     5b  Triologie        NaN    Trebenna West   Trebenna West       23   \n895     7a  Triologie        NaN    Trebenna West   Trebenna West        8   \n1218    6a  Triologie        NaN  Trebenna West 4   Trebenna West        3   \n1797   6b+  Triologie        NaN   Unknown Sector  Unknown Sector        1   \n\n     fos_ratio recommendations  stars  \n50        84 %             5 %      3  \n460       73 %            16 %      3  \n627       91 %             4 %      4  \n895       88 %             0 %      3  \n1218      67 %            33 %      0  \n1797     100 %             0 %      3  ",
      "text/html": "<div>\n<style scoped>\n    .dataframe tbody tr th:only-of-type {\n        vertical-align: middle;\n    }\n\n    .dataframe tbody tr th {\n        vertical-align: top;\n    }\n\n    .dataframe thead th {\n        text-align: right;\n    }\n</style>\n<table border=\"1\" class=\"dataframe\">\n  <thead>\n    <tr style=\"text-align: right;\">\n      <th></th>\n      <th>grade</th>\n      <th>name</th>\n      <th>name_clean</th>\n      <th>sector</th>\n      <th>sector_clean</th>\n      <th>ascents</th>\n      <th>fos_ratio</th>\n      <th>recommendations</th>\n      <th>stars</th>\n    </tr>\n  </thead>\n  <tbody>\n    <tr>\n      <th>50</th>\n      <td>6b+</td>\n      <td>Triologie</td>\n      <td>NaN</td>\n      <td>Trebenna West</td>\n      <td>Trebenna West</td>\n      <td>276</td>\n      <td>84 %</td>\n      <td>5 %</td>\n      <td>3</td>\n    </tr>\n    <tr>\n      <th>460</th>\n      <td>7a</td>\n      <td>Triologie</td>\n      <td>NaN</td>\n      <td>Trebene</td>\n      <td>Trebenna West</td>\n      <td>44</td>\n      <td>73 %</td>\n      <td>16 %</td>\n      <td>3</td>\n    </tr>\n    <tr>\n      <th>627</th>\n      <td>5b</td>\n      <td>Triologie</td>\n      <td>NaN</td>\n      <td>Trebenna West</td>\n      <td>Trebenna West</td>\n      <td>23</td>\n      <td>91 %</td>\n      <td>4 %</td>\n      <td>4</td>\n    </tr>\n    <tr>\n      <th>895</th>\n      <td>7a</td>\n      <td>Triologie</td>\n      <td>NaN</td>\n      <td>Trebenna West</td>\n      <td>Trebenna West</td>\n      <td>8</td>\n      <td>88 %</td>\n      <td>0 %</td>\n      <td>3</td>\n    </tr>\n    <tr>\n      <th>1218</th>\n      <td>6a</td>\n      <td>Triologie</td>\n      <td>NaN</td>\n      <td>Trebenna West 4</td>\n      <td>Trebenna West</td>\n      <td>3</td>\n      <td>67 %</td>\n      <td>33 %</td>\n      <td>0</td>\n    </tr>\n    <tr>\n      <th>1797</th>\n      <td>6b+</td>\n      <td>Triologie</td>\n      <td>NaN</td>\n      <td>Unknown Sector</td>\n      <td>Unknown Sector</td>\n      <td>1</td>\n      <td>100 %</td>\n      <td>0 %</td>\n      <td>3</td>\n    </tr>\n  </tbody>\n</table>\n</div>"
     },
     "execution_count": 13,
     "metadata": {},
     "output_type": "execute_result"
    }
   ],
   "source": [
    "# analyse one route\n",
    "\n",
    "data_sector_clean[data_sector_clean['name']=='Triologie']"
   ],
   "metadata": {
    "collapsed": false,
    "ExecuteTime": {
     "end_time": "2024-02-01T12:49:31.577456700Z",
     "start_time": "2024-02-01T12:49:31.450732900Z"
    }
   },
   "id": "f490caa70b415275"
  },
  {
   "cell_type": "markdown",
   "source": [
    "As we can see, route Triologie has several grades. That the reason of several sectors name, but it still has UNKNOWN sector that can be recovered."
   ],
   "metadata": {
    "collapsed": false
   },
   "id": "ae24ce3bd6436914"
  },
  {
   "cell_type": "code",
   "execution_count": 14,
   "outputs": [],
   "source": [
    "names_set = set(name_with_several_sectors.index.tolist()) - {'N.N.'}"
   ],
   "metadata": {
    "collapsed": false,
    "ExecuteTime": {
     "end_time": "2024-02-01T12:49:31.577456700Z",
     "start_time": "2024-02-01T12:49:31.471000500Z"
    }
   },
   "id": "2e651c49c4cb86c1"
  },
  {
   "cell_type": "code",
   "execution_count": 15,
   "outputs": [],
   "source": [
    "for name_with_unknown in names_set:\n",
    "    index_to_recover = (\n",
    "        data_sector_clean[\n",
    "            (data_sector_clean['name']==name_with_unknown) &\n",
    "            (data_sector_clean['sector_clean']=='Unknown Sector')\n",
    "        ].index.tolist()\n",
    "    )\n",
    "\n",
    "    index_with_right_info = (\n",
    "        data_sector_clean[\n",
    "            (data_sector_clean['name']==name_with_unknown) &\n",
    "            (data_sector_clean['sector_clean']!='Unknown Sector')\n",
    "            ].index.tolist()\n",
    "    )\n",
    "    \n",
    "    if len(index_with_right_info) != 0:\n",
    "        data_sector_clean.loc[index_to_recover, 'sector_clean'] = (\n",
    "            data_sector_clean.loc[index_with_right_info[0], 'sector_clean']\n",
    "        )"
   ],
   "metadata": {
    "collapsed": false,
    "ExecuteTime": {
     "end_time": "2024-02-01T12:49:31.685257900Z",
     "start_time": "2024-02-01T12:49:31.474603800Z"
    }
   },
   "id": "e93a1194e4c9bacd"
  },
  {
   "cell_type": "markdown",
   "source": [
    "Checking result."
   ],
   "metadata": {
    "collapsed": false
   },
   "id": "aedef5dad53187e4"
  },
  {
   "cell_type": "code",
   "execution_count": 16,
   "outputs": [
    {
     "data": {
      "text/plain": "sector_clean\nTrebenna West       260\nUnknown Sector      219\nAlabalik            121\nSarkit              111\nKüllüin              83\n                   ... \nde que fas aqui?      1\ngüsel                 1\nFunky Chicken         1\nAlcyone               1\nokuzini cave          1\nName: name, Length: 62, dtype: int64"
     },
     "execution_count": 16,
     "metadata": {},
     "output_type": "execute_result"
    }
   ],
   "source": [
    "(\n",
    "    data_sector_clean\n",
    "    .groupby(['sector_clean'])['name']\n",
    "    .count()\n",
    "    .sort_values(ascending=False)\n",
    ")"
   ],
   "metadata": {
    "collapsed": false,
    "ExecuteTime": {
     "end_time": "2024-02-01T12:49:31.701415900Z",
     "start_time": "2024-02-01T12:49:31.652764600Z"
    }
   },
   "id": "35db85b8f4564050"
  },
  {
   "cell_type": "markdown",
   "source": [
    "Were recovered about a hundred routes. Another routes better to delete, because we don't know their location. Also, as routes with no ascents."
   ],
   "metadata": {
    "collapsed": false
   },
   "id": "c6fadb271d1f3123"
  },
  {
   "cell_type": "code",
   "execution_count": 17,
   "outputs": [],
   "source": [
    "data_sector_clean.drop(data_sector_clean.loc[data_sector_clean['ascents']==0].index, inplace=True)"
   ],
   "metadata": {
    "collapsed": false,
    "ExecuteTime": {
     "end_time": "2024-02-01T12:49:31.701415900Z",
     "start_time": "2024-02-01T12:49:31.659194Z"
    }
   },
   "id": "ee0fbc0e04384f3c"
  },
  {
   "cell_type": "markdown",
   "source": [
    "\n",
    "## Grouping by sectors and clean names"
   ],
   "metadata": {
    "collapsed": false
   },
   "id": "c944c78fc31b28fc"
  },
  {
   "cell_type": "markdown",
   "source": [
    "Function for future routes' name correction."
   ],
   "metadata": {
    "collapsed": false
   },
   "id": "f2b00bda054a08e7"
  },
  {
   "cell_type": "code",
   "execution_count": 18,
   "outputs": [],
   "source": [
    "def routes_name_revers (similar_pairs, column_name):\n",
    "    \"\"\"\n",
    "    Function for changing wrong names in routes' name column.\n",
    "    :param similar_pairs: list of tuples with similar names of routes\n",
    "    :return: None\n",
    "    \"\"\"\n",
    "    # Creating dictionary with 'wrong_value': ['true_value', ascents'_different]}\n",
    "    \n",
    "    # ATTENTION! Searching will be organized in pivot table\n",
    "    # grouping by sectors, but cleaning will be realized in origin table \n",
    "\n",
    "    similar_pairs_dict = {}\n",
    "\n",
    "    for pair_names in similar_pairs:\n",
    "        x = pair_names[0]\n",
    "        y = pair_names[1]\n",
    "\n",
    "        x_ascents = (\n",
    "            data_by_sector[data_by_sector[column_name] == x]['ascents']\n",
    "            .sum())\n",
    "        y_ascents = (\n",
    "            data_by_sector[data_by_sector[column_name] == y]['ascents']\n",
    "            .sum())\n",
    "\n",
    "        difference = abs(x_ascents - y_ascents)\n",
    "\n",
    "        # if x-name is more popular than y-name,\n",
    "        # it has more ascents, and we will remember in dict\n",
    "        # y-name as a key and x-name as right name\n",
    "\n",
    "        if x_ascents > y_ascents:\n",
    "\n",
    "            try:\n",
    "                # if dict already has this sector as a key,\n",
    "                # we should check more popular route name variation\n",
    "\n",
    "                if difference > similar_pairs_dict[y][1]:\n",
    "                    similar_pairs_dict[y] = [x, difference]\n",
    "            except:\n",
    "                # if not, just write new key and value\n",
    "\n",
    "                similar_pairs_dict[y] = [x, difference]\n",
    "\n",
    "        else:\n",
    "\n",
    "            try:\n",
    "                if difference > similar_pairs_dict[x][1]:\n",
    "                    similar_pairs_dict[x] = [y, difference]\n",
    "            except:\n",
    "                similar_pairs_dict[x] = [y, difference]\n",
    "\n",
    "\n",
    "        # cleaning-part of function\n",
    "\n",
    "        for index, row in data_by_sector.iterrows():\n",
    "            route_old_name = row[column_name]\n",
    "\n",
    "            if route_old_name in similar_pairs_dict:\n",
    "                data_sector_clean.loc[index, 'name_clean'] = similar_pairs_dict[route_old_name][0]\n",
    "            else:\n",
    "                data_sector_clean.loc[index, 'name_clean'] = route_old_name"
   ],
   "metadata": {
    "collapsed": false,
    "ExecuteTime": {
     "end_time": "2024-02-01T12:49:31.732136800Z",
     "start_time": "2024-02-01T12:49:31.663307600Z"
    }
   },
   "id": "aa95ab97f479468d"
  },
  {
   "cell_type": "markdown",
   "source": [
    "Grouping by sectors."
   ],
   "metadata": {
    "collapsed": false
   },
   "id": "d3380693870ac684"
  },
  {
   "cell_type": "code",
   "execution_count": 19,
   "outputs": [],
   "source": [
    "for sector in data_sector_clean['sector_clean'].unique().tolist():\n",
    "    data_by_sector = (\n",
    "        data_sector_clean[data_sector_clean['sector_clean'] == sector]\n",
    "    )\n",
    "\n",
    "    # Create list with unique names.\n",
    "\n",
    "    list_names = (data_by_sector['name'].sort_values().unique()).tolist()\n",
    "\n",
    "    # Searching misspells. Using # levenshtein_distance — 2\n",
    "    # creating cross-table with names and levin dist value\n",
    "    \n",
    "    df_names_similarity = (\n",
    "        pd.DataFrame(columns=list_names, index=list_names, dtype='float')\n",
    "    )\n",
    "    \n",
    "    # fill this cross-table\n",
    "\n",
    "    for i in range(len(list_names)):\n",
    "        for j in range(len(list_names)):\n",
    "            if i >= j:\n",
    "                df_names_similarity.iloc[i, j] = (\n",
    "                    jellyfish.levenshtein_distance(\n",
    "                        list_names[i].lower(),\n",
    "                        list_names[j].lower())\n",
    "                )\n",
    "            else:\n",
    "                df_names_similarity.iloc[i, j] = np.nan\n",
    "\n",
    "    # Collecting similar pairs in tuple with levenshtein_distance value.\n",
    "\n",
    "    LOW_EDGE = 2\n",
    "\n",
    "    jellyfish_filter = (df_names_similarity.values <= LOW_EDGE) \n",
    "                        # & (df_names_similarity.values != 0))\n",
    "    \n",
    "    similar_pairs_leven_dist = [\n",
    "        (\n",
    "            df_names_similarity.index[x],\n",
    "            df_names_similarity.columns[y],\n",
    "            df_names_similarity.iloc[x, y]\n",
    "        )\n",
    "        for x, y in zip(*np.where(jellyfish_filter))\n",
    "    ]\n",
    "\n",
    "    # use function to find the most popular sectors name variation\n",
    "\n",
    "    routes_name_revers(similar_pairs_leven_dist, 'name')"
   ],
   "metadata": {
    "collapsed": false,
    "ExecuteTime": {
     "end_time": "2024-02-01T12:49:55.852441Z",
     "start_time": "2024-02-01T12:49:31.669607500Z"
    }
   },
   "id": "e5a17a7ece53c981"
  },
  {
   "cell_type": "code",
   "execution_count": 20,
   "outputs": [
    {
     "data": {
      "text/plain": "  grade                 name           name_clean         sector  \\\n0    7a  Freedom is a Battle  Freedom is a Battle  Trebenna West   \n1    7a              Karınca              Karınca         Magara   \n2    7b       Lycian Highway       Lycian Highway  Trebenna West   \n3   6b+              Saxafon              Saxafon         Sarkit   \n4    6b              Nirvana              Nirvana         Magara   \n\n    sector_clean  ascents fos_ratio recommendations  stars  \n0  Trebenna West      781      66 %            10 %      3  \n1         Magara      699      55 %            16 %      4  \n2  Trebenna West      645      70 %            13 %      4  \n3         Sarkit      591      66 %            20 %      4  \n4         Magara      589      78 %            10 %      3  ",
      "text/html": "<div>\n<style scoped>\n    .dataframe tbody tr th:only-of-type {\n        vertical-align: middle;\n    }\n\n    .dataframe tbody tr th {\n        vertical-align: top;\n    }\n\n    .dataframe thead th {\n        text-align: right;\n    }\n</style>\n<table border=\"1\" class=\"dataframe\">\n  <thead>\n    <tr style=\"text-align: right;\">\n      <th></th>\n      <th>grade</th>\n      <th>name</th>\n      <th>name_clean</th>\n      <th>sector</th>\n      <th>sector_clean</th>\n      <th>ascents</th>\n      <th>fos_ratio</th>\n      <th>recommendations</th>\n      <th>stars</th>\n    </tr>\n  </thead>\n  <tbody>\n    <tr>\n      <th>0</th>\n      <td>7a</td>\n      <td>Freedom is a Battle</td>\n      <td>Freedom is a Battle</td>\n      <td>Trebenna West</td>\n      <td>Trebenna West</td>\n      <td>781</td>\n      <td>66 %</td>\n      <td>10 %</td>\n      <td>3</td>\n    </tr>\n    <tr>\n      <th>1</th>\n      <td>7a</td>\n      <td>Karınca</td>\n      <td>Karınca</td>\n      <td>Magara</td>\n      <td>Magara</td>\n      <td>699</td>\n      <td>55 %</td>\n      <td>16 %</td>\n      <td>4</td>\n    </tr>\n    <tr>\n      <th>2</th>\n      <td>7b</td>\n      <td>Lycian Highway</td>\n      <td>Lycian Highway</td>\n      <td>Trebenna West</td>\n      <td>Trebenna West</td>\n      <td>645</td>\n      <td>70 %</td>\n      <td>13 %</td>\n      <td>4</td>\n    </tr>\n    <tr>\n      <th>3</th>\n      <td>6b+</td>\n      <td>Saxafon</td>\n      <td>Saxafon</td>\n      <td>Sarkit</td>\n      <td>Sarkit</td>\n      <td>591</td>\n      <td>66 %</td>\n      <td>20 %</td>\n      <td>4</td>\n    </tr>\n    <tr>\n      <th>4</th>\n      <td>6b</td>\n      <td>Nirvana</td>\n      <td>Nirvana</td>\n      <td>Magara</td>\n      <td>Magara</td>\n      <td>589</td>\n      <td>78 %</td>\n      <td>10 %</td>\n      <td>3</td>\n    </tr>\n  </tbody>\n</table>\n</div>"
     },
     "execution_count": 20,
     "metadata": {},
     "output_type": "execute_result"
    }
   ],
   "source": [
    "data_sector_clean.head()"
   ],
   "metadata": {
    "collapsed": false,
    "ExecuteTime": {
     "end_time": "2024-02-01T12:49:55.864761Z",
     "start_time": "2024-02-01T12:49:55.852441Z"
    }
   },
   "id": "3d6c2f1ca2d1e99d"
  },
  {
   "cell_type": "markdown",
   "source": [
    "Let's check the result."
   ],
   "metadata": {
    "collapsed": false
   },
   "id": "b265b69d6275241b"
  },
  {
   "cell_type": "code",
   "execution_count": 21,
   "outputs": [
    {
     "name": "stdout",
     "output_type": "stream",
     "text": [
      "Routes before cleaning: 1665\n",
      "Routes after cleaning: 1370\n"
     ]
    }
   ],
   "source": [
    "print(\n",
    "    f\"Routes before cleaning: {data_sector_clean['name'].nunique()}\\n\"\n",
    "    f\"Routes after cleaning: {data_sector_clean['name_clean'].nunique()}\"\n",
    ")"
   ],
   "metadata": {
    "collapsed": false,
    "ExecuteTime": {
     "end_time": "2024-02-01T12:49:55.865271700Z",
     "start_time": "2024-02-01T12:49:55.860532700Z"
    }
   },
   "id": "785a6be71c8ccefa"
  },
  {
   "cell_type": "markdown",
   "source": [
    "## Union duplicates"
   ],
   "metadata": {
    "collapsed": false
   },
   "id": "683a33e9a68e04b7"
  },
  {
   "cell_type": "markdown",
   "source": [
    "Transform percent's columns to numeric."
   ],
   "metadata": {
    "collapsed": false
   },
   "id": "69b59562fdb03861"
  },
  {
   "cell_type": "code",
   "execution_count": 22,
   "outputs": [],
   "source": [
    "fos_ratio_count = (\n",
    "        data_sector_clean['fos_ratio'].str.replace('%', '').astype(int) / 100 * data_sector_clean['ascents']\n",
    ")\n",
    "\n",
    "recom_count = (\n",
    "        data_sector_clean['recommendations'].str.replace('%', '').astype(int) / 100 * data_sector_clean['ascents']\n",
    ")"
   ],
   "metadata": {
    "collapsed": false,
    "ExecuteTime": {
     "end_time": "2024-02-01T12:49:55.875291500Z",
     "start_time": "2024-02-01T12:49:55.865271700Z"
    }
   },
   "id": "d776a0dcb9dbe02c"
  },
  {
   "cell_type": "markdown",
   "source": [
    "\n",
    "Paste info in new columns."
   ],
   "metadata": {
    "collapsed": false
   },
   "id": "f9509e04a7dda926"
  },
  {
   "cell_type": "code",
   "execution_count": 23,
   "outputs": [],
   "source": [
    "data_sector_clean.insert(loc=7, column='fos_ratio_count', value=fos_ratio_count)\n",
    "\n",
    "data_sector_clean.insert(loc=9, column='recom_count', value=recom_count)"
   ],
   "metadata": {
    "collapsed": false,
    "ExecuteTime": {
     "end_time": "2024-02-01T12:49:55.875291500Z",
     "start_time": "2024-02-01T12:49:55.870886800Z"
    }
   },
   "id": "30dc66c028a70cd"
  },
  {
   "cell_type": "code",
   "execution_count": 24,
   "outputs": [
    {
     "data": {
      "text/plain": "  grade                 name           name_clean         sector  \\\n0    7a  Freedom is a Battle  Freedom is a Battle  Trebenna West   \n1    7a              Karınca              Karınca         Magara   \n2    7b       Lycian Highway       Lycian Highway  Trebenna West   \n3   6b+              Saxafon              Saxafon         Sarkit   \n4    6b              Nirvana              Nirvana         Magara   \n\n    sector_clean  ascents fos_ratio  fos_ratio_count recommendations  \\\n0  Trebenna West      781      66 %           515.46            10 %   \n1         Magara      699      55 %           384.45            16 %   \n2  Trebenna West      645      70 %           451.50            13 %   \n3         Sarkit      591      66 %           390.06            20 %   \n4         Magara      589      78 %           459.42            10 %   \n\n   recom_count  stars  \n0        78.10      3  \n1       111.84      4  \n2        83.85      4  \n3       118.20      4  \n4        58.90      3  ",
      "text/html": "<div>\n<style scoped>\n    .dataframe tbody tr th:only-of-type {\n        vertical-align: middle;\n    }\n\n    .dataframe tbody tr th {\n        vertical-align: top;\n    }\n\n    .dataframe thead th {\n        text-align: right;\n    }\n</style>\n<table border=\"1\" class=\"dataframe\">\n  <thead>\n    <tr style=\"text-align: right;\">\n      <th></th>\n      <th>grade</th>\n      <th>name</th>\n      <th>name_clean</th>\n      <th>sector</th>\n      <th>sector_clean</th>\n      <th>ascents</th>\n      <th>fos_ratio</th>\n      <th>fos_ratio_count</th>\n      <th>recommendations</th>\n      <th>recom_count</th>\n      <th>stars</th>\n    </tr>\n  </thead>\n  <tbody>\n    <tr>\n      <th>0</th>\n      <td>7a</td>\n      <td>Freedom is a Battle</td>\n      <td>Freedom is a Battle</td>\n      <td>Trebenna West</td>\n      <td>Trebenna West</td>\n      <td>781</td>\n      <td>66 %</td>\n      <td>515.46</td>\n      <td>10 %</td>\n      <td>78.10</td>\n      <td>3</td>\n    </tr>\n    <tr>\n      <th>1</th>\n      <td>7a</td>\n      <td>Karınca</td>\n      <td>Karınca</td>\n      <td>Magara</td>\n      <td>Magara</td>\n      <td>699</td>\n      <td>55 %</td>\n      <td>384.45</td>\n      <td>16 %</td>\n      <td>111.84</td>\n      <td>4</td>\n    </tr>\n    <tr>\n      <th>2</th>\n      <td>7b</td>\n      <td>Lycian Highway</td>\n      <td>Lycian Highway</td>\n      <td>Trebenna West</td>\n      <td>Trebenna West</td>\n      <td>645</td>\n      <td>70 %</td>\n      <td>451.50</td>\n      <td>13 %</td>\n      <td>83.85</td>\n      <td>4</td>\n    </tr>\n    <tr>\n      <th>3</th>\n      <td>6b+</td>\n      <td>Saxafon</td>\n      <td>Saxafon</td>\n      <td>Sarkit</td>\n      <td>Sarkit</td>\n      <td>591</td>\n      <td>66 %</td>\n      <td>390.06</td>\n      <td>20 %</td>\n      <td>118.20</td>\n      <td>4</td>\n    </tr>\n    <tr>\n      <th>4</th>\n      <td>6b</td>\n      <td>Nirvana</td>\n      <td>Nirvana</td>\n      <td>Magara</td>\n      <td>Magara</td>\n      <td>589</td>\n      <td>78 %</td>\n      <td>459.42</td>\n      <td>10 %</td>\n      <td>58.90</td>\n      <td>3</td>\n    </tr>\n  </tbody>\n</table>\n</div>"
     },
     "execution_count": 24,
     "metadata": {},
     "output_type": "execute_result"
    }
   ],
   "source": [
    "data_sector_clean.head()"
   ],
   "metadata": {
    "collapsed": false,
    "ExecuteTime": {
     "end_time": "2024-02-01T12:49:55.921977500Z",
     "start_time": "2024-02-01T12:49:55.875291500Z"
    }
   },
   "id": "9297e31ad51b41b9"
  },
  {
   "cell_type": "markdown",
   "source": [
    "Create pivot table by sector, name and grade. Sum ascents and recalculate percent’s columns."
   ],
   "metadata": {
    "collapsed": false
   },
   "id": "6d77872184555c61"
  },
  {
   "cell_type": "code",
   "execution_count": 25,
   "outputs": [],
   "source": [
    "data_routes_union = (\n",
    "    data_sector_clean\n",
    "    .sort_values(by=['ascents'], ascending=False)\n",
    "    .groupby(['sector_clean', 'name_clean', 'grade'])\n",
    "    .agg(\n",
    "        {\n",
    "            'sector': 'first',\n",
    "            'ascents': 'sum',\n",
    "            'fos_ratio_count': 'sum',\n",
    "            'recom_count': 'sum',\n",
    "            'stars': 'first' \n",
    "        }\n",
    "    )\n",
    "    .reset_index()\n",
    ")"
   ],
   "metadata": {
    "collapsed": false,
    "ExecuteTime": {
     "end_time": "2024-02-01T12:49:55.921977500Z",
     "start_time": "2024-02-01T12:49:55.884294100Z"
    }
   },
   "id": "c30e0f8824093794"
  },
  {
   "cell_type": "code",
   "execution_count": 26,
   "outputs": [
    {
     "data": {
      "text/plain": "      sector_clean    name_clean grade        sector  ascents  \\\n0          Akdeniz           4X4    8b       Akdeniz       12   \n1          Akdeniz       Akdeniz   7b+       Akdeniz       13   \n2          Akdeniz       Atatürk   7a+       Akdeniz        2   \n3          Akdeniz  Bebe Biskuvi    6c       Akdeniz       34   \n4          Akdeniz        Django   7c+       Akdeniz        5   \n...            ...           ...   ...           ...      ...   \n1511           new         hmmm1    6c           new        1   \n1512           new         hmmm1   6c+           new        1   \n1513           new         hmmm1    7a           new        1   \n1514           new         hmmm1    7b           new        1   \n1515  okuzini cave       rido 20   8a+  okuzini cave        3   \n\n      fos_ratio_count  recom_count  stars  \n0                0.00         0.00      3  \n1                4.03         1.95      4  \n2                1.00         0.00      3  \n3               23.12         1.02      3  \n4                0.00         0.00      4  \n...               ...          ...    ...  \n1511             1.00         0.00      0  \n1512             1.00         0.00      0  \n1513             0.00         0.00      0  \n1514             0.00         0.00      0  \n1515             0.00         2.01      3  \n\n[1516 rows x 8 columns]",
      "text/html": "<div>\n<style scoped>\n    .dataframe tbody tr th:only-of-type {\n        vertical-align: middle;\n    }\n\n    .dataframe tbody tr th {\n        vertical-align: top;\n    }\n\n    .dataframe thead th {\n        text-align: right;\n    }\n</style>\n<table border=\"1\" class=\"dataframe\">\n  <thead>\n    <tr style=\"text-align: right;\">\n      <th></th>\n      <th>sector_clean</th>\n      <th>name_clean</th>\n      <th>grade</th>\n      <th>sector</th>\n      <th>ascents</th>\n      <th>fos_ratio_count</th>\n      <th>recom_count</th>\n      <th>stars</th>\n    </tr>\n  </thead>\n  <tbody>\n    <tr>\n      <th>0</th>\n      <td>Akdeniz</td>\n      <td>4X4</td>\n      <td>8b</td>\n      <td>Akdeniz</td>\n      <td>12</td>\n      <td>0.00</td>\n      <td>0.00</td>\n      <td>3</td>\n    </tr>\n    <tr>\n      <th>1</th>\n      <td>Akdeniz</td>\n      <td>Akdeniz</td>\n      <td>7b+</td>\n      <td>Akdeniz</td>\n      <td>13</td>\n      <td>4.03</td>\n      <td>1.95</td>\n      <td>4</td>\n    </tr>\n    <tr>\n      <th>2</th>\n      <td>Akdeniz</td>\n      <td>Atatürk</td>\n      <td>7a+</td>\n      <td>Akdeniz</td>\n      <td>2</td>\n      <td>1.00</td>\n      <td>0.00</td>\n      <td>3</td>\n    </tr>\n    <tr>\n      <th>3</th>\n      <td>Akdeniz</td>\n      <td>Bebe Biskuvi</td>\n      <td>6c</td>\n      <td>Akdeniz</td>\n      <td>34</td>\n      <td>23.12</td>\n      <td>1.02</td>\n      <td>3</td>\n    </tr>\n    <tr>\n      <th>4</th>\n      <td>Akdeniz</td>\n      <td>Django</td>\n      <td>7c+</td>\n      <td>Akdeniz</td>\n      <td>5</td>\n      <td>0.00</td>\n      <td>0.00</td>\n      <td>4</td>\n    </tr>\n    <tr>\n      <th>...</th>\n      <td>...</td>\n      <td>...</td>\n      <td>...</td>\n      <td>...</td>\n      <td>...</td>\n      <td>...</td>\n      <td>...</td>\n      <td>...</td>\n    </tr>\n    <tr>\n      <th>1511</th>\n      <td>new</td>\n      <td>hmmm1</td>\n      <td>6c</td>\n      <td>new</td>\n      <td>1</td>\n      <td>1.00</td>\n      <td>0.00</td>\n      <td>0</td>\n    </tr>\n    <tr>\n      <th>1512</th>\n      <td>new</td>\n      <td>hmmm1</td>\n      <td>6c+</td>\n      <td>new</td>\n      <td>1</td>\n      <td>1.00</td>\n      <td>0.00</td>\n      <td>0</td>\n    </tr>\n    <tr>\n      <th>1513</th>\n      <td>new</td>\n      <td>hmmm1</td>\n      <td>7a</td>\n      <td>new</td>\n      <td>1</td>\n      <td>0.00</td>\n      <td>0.00</td>\n      <td>0</td>\n    </tr>\n    <tr>\n      <th>1514</th>\n      <td>new</td>\n      <td>hmmm1</td>\n      <td>7b</td>\n      <td>new</td>\n      <td>1</td>\n      <td>0.00</td>\n      <td>0.00</td>\n      <td>0</td>\n    </tr>\n    <tr>\n      <th>1515</th>\n      <td>okuzini cave</td>\n      <td>rido 20</td>\n      <td>8a+</td>\n      <td>okuzini cave</td>\n      <td>3</td>\n      <td>0.00</td>\n      <td>2.01</td>\n      <td>3</td>\n    </tr>\n  </tbody>\n</table>\n<p>1516 rows × 8 columns</p>\n</div>"
     },
     "execution_count": 26,
     "metadata": {},
     "output_type": "execute_result"
    }
   ],
   "source": [
    "data_routes_union"
   ],
   "metadata": {
    "collapsed": false,
    "ExecuteTime": {
     "end_time": "2024-02-01T12:49:55.940428200Z",
     "start_time": "2024-02-01T12:49:55.897148Z"
    }
   },
   "id": "c361672cec1a859b"
  },
  {
   "cell_type": "markdown",
   "source": [
    "## Recalc ration back to percents"
   ],
   "metadata": {
    "collapsed": false
   },
   "id": "511475a15d4fc5bb"
  },
  {
   "cell_type": "code",
   "execution_count": 27,
   "outputs": [],
   "source": [
    "data_routes_union['fos_ratio'] = data_routes_union.apply(lambda row: round(row['fos_ratio_count'] / row['ascents'], 2), axis=1)\n",
    "\n",
    "data_routes_union['recommendation'] = data_routes_union.apply(lambda row: round(row['recom_count'] / row['ascents'], 2), axis=1)"
   ],
   "metadata": {
    "collapsed": false,
    "ExecuteTime": {
     "end_time": "2024-02-01T12:49:55.940428200Z",
     "start_time": "2024-02-01T12:49:55.906332900Z"
    }
   },
   "id": "eae2409328ed5f41"
  },
  {
   "cell_type": "code",
   "execution_count": 28,
   "outputs": [
    {
     "data": {
      "text/plain": "      sector_clean    name_clean grade        sector  ascents  \\\n0          Akdeniz           4X4    8b       Akdeniz       12   \n1          Akdeniz       Akdeniz   7b+       Akdeniz       13   \n2          Akdeniz       Atatürk   7a+       Akdeniz        2   \n3          Akdeniz  Bebe Biskuvi    6c       Akdeniz       34   \n4          Akdeniz        Django   7c+       Akdeniz        5   \n...            ...           ...   ...           ...      ...   \n1511           new         hmmm1    6c           new        1   \n1512           new         hmmm1   6c+           new        1   \n1513           new         hmmm1    7a           new        1   \n1514           new         hmmm1    7b           new        1   \n1515  okuzini cave       rido 20   8a+  okuzini cave        3   \n\n      fos_ratio_count  recom_count  stars  fos_ratio  recommendation  \n0                0.00         0.00      3       0.00            0.00  \n1                4.03         1.95      4       0.31            0.15  \n2                1.00         0.00      3       0.50            0.00  \n3               23.12         1.02      3       0.68            0.03  \n4                0.00         0.00      4       0.00            0.00  \n...               ...          ...    ...        ...             ...  \n1511             1.00         0.00      0       1.00            0.00  \n1512             1.00         0.00      0       1.00            0.00  \n1513             0.00         0.00      0       0.00            0.00  \n1514             0.00         0.00      0       0.00            0.00  \n1515             0.00         2.01      3       0.00            0.67  \n\n[1516 rows x 10 columns]",
      "text/html": "<div>\n<style scoped>\n    .dataframe tbody tr th:only-of-type {\n        vertical-align: middle;\n    }\n\n    .dataframe tbody tr th {\n        vertical-align: top;\n    }\n\n    .dataframe thead th {\n        text-align: right;\n    }\n</style>\n<table border=\"1\" class=\"dataframe\">\n  <thead>\n    <tr style=\"text-align: right;\">\n      <th></th>\n      <th>sector_clean</th>\n      <th>name_clean</th>\n      <th>grade</th>\n      <th>sector</th>\n      <th>ascents</th>\n      <th>fos_ratio_count</th>\n      <th>recom_count</th>\n      <th>stars</th>\n      <th>fos_ratio</th>\n      <th>recommendation</th>\n    </tr>\n  </thead>\n  <tbody>\n    <tr>\n      <th>0</th>\n      <td>Akdeniz</td>\n      <td>4X4</td>\n      <td>8b</td>\n      <td>Akdeniz</td>\n      <td>12</td>\n      <td>0.00</td>\n      <td>0.00</td>\n      <td>3</td>\n      <td>0.00</td>\n      <td>0.00</td>\n    </tr>\n    <tr>\n      <th>1</th>\n      <td>Akdeniz</td>\n      <td>Akdeniz</td>\n      <td>7b+</td>\n      <td>Akdeniz</td>\n      <td>13</td>\n      <td>4.03</td>\n      <td>1.95</td>\n      <td>4</td>\n      <td>0.31</td>\n      <td>0.15</td>\n    </tr>\n    <tr>\n      <th>2</th>\n      <td>Akdeniz</td>\n      <td>Atatürk</td>\n      <td>7a+</td>\n      <td>Akdeniz</td>\n      <td>2</td>\n      <td>1.00</td>\n      <td>0.00</td>\n      <td>3</td>\n      <td>0.50</td>\n      <td>0.00</td>\n    </tr>\n    <tr>\n      <th>3</th>\n      <td>Akdeniz</td>\n      <td>Bebe Biskuvi</td>\n      <td>6c</td>\n      <td>Akdeniz</td>\n      <td>34</td>\n      <td>23.12</td>\n      <td>1.02</td>\n      <td>3</td>\n      <td>0.68</td>\n      <td>0.03</td>\n    </tr>\n    <tr>\n      <th>4</th>\n      <td>Akdeniz</td>\n      <td>Django</td>\n      <td>7c+</td>\n      <td>Akdeniz</td>\n      <td>5</td>\n      <td>0.00</td>\n      <td>0.00</td>\n      <td>4</td>\n      <td>0.00</td>\n      <td>0.00</td>\n    </tr>\n    <tr>\n      <th>...</th>\n      <td>...</td>\n      <td>...</td>\n      <td>...</td>\n      <td>...</td>\n      <td>...</td>\n      <td>...</td>\n      <td>...</td>\n      <td>...</td>\n      <td>...</td>\n      <td>...</td>\n    </tr>\n    <tr>\n      <th>1511</th>\n      <td>new</td>\n      <td>hmmm1</td>\n      <td>6c</td>\n      <td>new</td>\n      <td>1</td>\n      <td>1.00</td>\n      <td>0.00</td>\n      <td>0</td>\n      <td>1.00</td>\n      <td>0.00</td>\n    </tr>\n    <tr>\n      <th>1512</th>\n      <td>new</td>\n      <td>hmmm1</td>\n      <td>6c+</td>\n      <td>new</td>\n      <td>1</td>\n      <td>1.00</td>\n      <td>0.00</td>\n      <td>0</td>\n      <td>1.00</td>\n      <td>0.00</td>\n    </tr>\n    <tr>\n      <th>1513</th>\n      <td>new</td>\n      <td>hmmm1</td>\n      <td>7a</td>\n      <td>new</td>\n      <td>1</td>\n      <td>0.00</td>\n      <td>0.00</td>\n      <td>0</td>\n      <td>0.00</td>\n      <td>0.00</td>\n    </tr>\n    <tr>\n      <th>1514</th>\n      <td>new</td>\n      <td>hmmm1</td>\n      <td>7b</td>\n      <td>new</td>\n      <td>1</td>\n      <td>0.00</td>\n      <td>0.00</td>\n      <td>0</td>\n      <td>0.00</td>\n      <td>0.00</td>\n    </tr>\n    <tr>\n      <th>1515</th>\n      <td>okuzini cave</td>\n      <td>rido 20</td>\n      <td>8a+</td>\n      <td>okuzini cave</td>\n      <td>3</td>\n      <td>0.00</td>\n      <td>2.01</td>\n      <td>3</td>\n      <td>0.00</td>\n      <td>0.67</td>\n    </tr>\n  </tbody>\n</table>\n<p>1516 rows × 10 columns</p>\n</div>"
     },
     "execution_count": 28,
     "metadata": {},
     "output_type": "execute_result"
    }
   ],
   "source": [
    "data_routes_union"
   ],
   "metadata": {
    "collapsed": false,
    "ExecuteTime": {
     "end_time": "2024-02-01T12:49:56.003055600Z",
     "start_time": "2024-02-01T12:49:55.925926400Z"
    }
   },
   "id": "e41674cac06e1d67"
  },
  {
   "cell_type": "code",
   "execution_count": 29,
   "outputs": [],
   "source": [
    "data_routes_union = data_routes_union[[\n",
    "    'grade', \n",
    "    'name_clean', \n",
    "    'sector',\n",
    "    'sector_clean',\n",
    "    'ascents',\n",
    "    'fos_ratio',\n",
    "    'recommendation',\n",
    "    'stars'\n",
    "]]"
   ],
   "metadata": {
    "collapsed": false,
    "ExecuteTime": {
     "end_time": "2024-02-01T12:49:56.003055600Z",
     "start_time": "2024-02-01T12:49:55.936736900Z"
    }
   },
   "id": "3ea3c5eaa3dd62f"
  },
  {
   "cell_type": "code",
   "execution_count": 30,
   "outputs": [
    {
     "data": {
      "text/plain": "     grade    name_clean        sector  sector_clean  ascents  fos_ratio  \\\n0       8b           4X4       Akdeniz       Akdeniz       12       0.00   \n1      7b+       Akdeniz       Akdeniz       Akdeniz       13       0.31   \n2      7a+       Atatürk       Akdeniz       Akdeniz        2       0.50   \n3       6c  Bebe Biskuvi       Akdeniz       Akdeniz       34       0.68   \n4      7c+        Django       Akdeniz       Akdeniz        5       0.00   \n...    ...           ...           ...           ...      ...        ...   \n1511    6c         hmmm1           new           new        1       1.00   \n1512   6c+         hmmm1           new           new        1       1.00   \n1513    7a         hmmm1           new           new        1       0.00   \n1514    7b         hmmm1           new           new        1       0.00   \n1515   8a+       rido 20  okuzini cave  okuzini cave        3       0.00   \n\n      recommendation  stars  \n0               0.00      3  \n1               0.15      4  \n2               0.00      3  \n3               0.03      3  \n4               0.00      4  \n...              ...    ...  \n1511            0.00      0  \n1512            0.00      0  \n1513            0.00      0  \n1514            0.00      0  \n1515            0.67      3  \n\n[1516 rows x 8 columns]",
      "text/html": "<div>\n<style scoped>\n    .dataframe tbody tr th:only-of-type {\n        vertical-align: middle;\n    }\n\n    .dataframe tbody tr th {\n        vertical-align: top;\n    }\n\n    .dataframe thead th {\n        text-align: right;\n    }\n</style>\n<table border=\"1\" class=\"dataframe\">\n  <thead>\n    <tr style=\"text-align: right;\">\n      <th></th>\n      <th>grade</th>\n      <th>name_clean</th>\n      <th>sector</th>\n      <th>sector_clean</th>\n      <th>ascents</th>\n      <th>fos_ratio</th>\n      <th>recommendation</th>\n      <th>stars</th>\n    </tr>\n  </thead>\n  <tbody>\n    <tr>\n      <th>0</th>\n      <td>8b</td>\n      <td>4X4</td>\n      <td>Akdeniz</td>\n      <td>Akdeniz</td>\n      <td>12</td>\n      <td>0.00</td>\n      <td>0.00</td>\n      <td>3</td>\n    </tr>\n    <tr>\n      <th>1</th>\n      <td>7b+</td>\n      <td>Akdeniz</td>\n      <td>Akdeniz</td>\n      <td>Akdeniz</td>\n      <td>13</td>\n      <td>0.31</td>\n      <td>0.15</td>\n      <td>4</td>\n    </tr>\n    <tr>\n      <th>2</th>\n      <td>7a+</td>\n      <td>Atatürk</td>\n      <td>Akdeniz</td>\n      <td>Akdeniz</td>\n      <td>2</td>\n      <td>0.50</td>\n      <td>0.00</td>\n      <td>3</td>\n    </tr>\n    <tr>\n      <th>3</th>\n      <td>6c</td>\n      <td>Bebe Biskuvi</td>\n      <td>Akdeniz</td>\n      <td>Akdeniz</td>\n      <td>34</td>\n      <td>0.68</td>\n      <td>0.03</td>\n      <td>3</td>\n    </tr>\n    <tr>\n      <th>4</th>\n      <td>7c+</td>\n      <td>Django</td>\n      <td>Akdeniz</td>\n      <td>Akdeniz</td>\n      <td>5</td>\n      <td>0.00</td>\n      <td>0.00</td>\n      <td>4</td>\n    </tr>\n    <tr>\n      <th>...</th>\n      <td>...</td>\n      <td>...</td>\n      <td>...</td>\n      <td>...</td>\n      <td>...</td>\n      <td>...</td>\n      <td>...</td>\n      <td>...</td>\n    </tr>\n    <tr>\n      <th>1511</th>\n      <td>6c</td>\n      <td>hmmm1</td>\n      <td>new</td>\n      <td>new</td>\n      <td>1</td>\n      <td>1.00</td>\n      <td>0.00</td>\n      <td>0</td>\n    </tr>\n    <tr>\n      <th>1512</th>\n      <td>6c+</td>\n      <td>hmmm1</td>\n      <td>new</td>\n      <td>new</td>\n      <td>1</td>\n      <td>1.00</td>\n      <td>0.00</td>\n      <td>0</td>\n    </tr>\n    <tr>\n      <th>1513</th>\n      <td>7a</td>\n      <td>hmmm1</td>\n      <td>new</td>\n      <td>new</td>\n      <td>1</td>\n      <td>0.00</td>\n      <td>0.00</td>\n      <td>0</td>\n    </tr>\n    <tr>\n      <th>1514</th>\n      <td>7b</td>\n      <td>hmmm1</td>\n      <td>new</td>\n      <td>new</td>\n      <td>1</td>\n      <td>0.00</td>\n      <td>0.00</td>\n      <td>0</td>\n    </tr>\n    <tr>\n      <th>1515</th>\n      <td>8a+</td>\n      <td>rido 20</td>\n      <td>okuzini cave</td>\n      <td>okuzini cave</td>\n      <td>3</td>\n      <td>0.00</td>\n      <td>0.67</td>\n      <td>3</td>\n    </tr>\n  </tbody>\n</table>\n<p>1516 rows × 8 columns</p>\n</div>"
     },
     "execution_count": 30,
     "metadata": {},
     "output_type": "execute_result"
    }
   ],
   "source": [
    "data_routes_union"
   ],
   "metadata": {
    "collapsed": false,
    "ExecuteTime": {
     "end_time": "2024-02-01T12:49:56.049940800Z",
     "start_time": "2024-02-01T12:49:55.940428200Z"
    }
   },
   "id": "d15fd6b2be7ce145"
  },
  {
   "cell_type": "markdown",
   "source": [
    "Check duplicates in name."
   ],
   "metadata": {
    "collapsed": false
   },
   "id": "98a51efe32f5eb2e"
  },
  {
   "cell_type": "code",
   "execution_count": 31,
   "outputs": [
    {
     "data": {
      "text/plain": "     grade       name_clean         sector   sector_clean  ascents  fos_ratio  \\\n244    6c+      Gekko Kebap     Deli Kasap     Deli Kasap       12       0.67   \n455    6c+      Gekko Kebap          Kebap          Kebap       35       0.49   \n515     7a            Atlas        Küllüin        Küllüin        9       0.89   \n546    6a+  No Reservations        Küllüin        Küllüin       41       0.95   \n571     7a            Atlas  Külüin Terras  Külüin Terras       35       0.71   \n575     7a         Camelita      Left Cave      Left Cave       21       0.62   \n650     7b       Blue Hotel        Mevlana        Mevlana      192       0.52   \n667     7b       Montenegro        Mevlana        Mevlana       83       0.30   \n676    6c+          Semazen        Mevlana        Mevlana      258       0.70   \n723     7b       Blue Hotel        Ottoman        Ottoman       16       0.38   \n740     7b       Montenegro        Ottoman        Ottoman       25       0.52   \n747    6c+          Semazen        Ottoman        Ottoman       26       0.58   \n984    6a+  No Reservations          Teras     Teras Left        8       0.88   \n1476    7a         Camelita          Yilan          Yilan      369       0.59   \n\n      recommendation  stars  \n244             0.00      1  \n455             0.09      3  \n515             0.11      3  \n546             0.03      3  \n571             0.00      3  \n575             0.14      3  \n650             0.13      4  \n667             0.17      3  \n676             0.12      4  \n723             0.25      4  \n740             0.12      3  \n747             0.31      4  \n984             0.00      1  \n1476            0.08      3  ",
      "text/html": "<div>\n<style scoped>\n    .dataframe tbody tr th:only-of-type {\n        vertical-align: middle;\n    }\n\n    .dataframe tbody tr th {\n        vertical-align: top;\n    }\n\n    .dataframe thead th {\n        text-align: right;\n    }\n</style>\n<table border=\"1\" class=\"dataframe\">\n  <thead>\n    <tr style=\"text-align: right;\">\n      <th></th>\n      <th>grade</th>\n      <th>name_clean</th>\n      <th>sector</th>\n      <th>sector_clean</th>\n      <th>ascents</th>\n      <th>fos_ratio</th>\n      <th>recommendation</th>\n      <th>stars</th>\n    </tr>\n  </thead>\n  <tbody>\n    <tr>\n      <th>244</th>\n      <td>6c+</td>\n      <td>Gekko Kebap</td>\n      <td>Deli Kasap</td>\n      <td>Deli Kasap</td>\n      <td>12</td>\n      <td>0.67</td>\n      <td>0.00</td>\n      <td>1</td>\n    </tr>\n    <tr>\n      <th>455</th>\n      <td>6c+</td>\n      <td>Gekko Kebap</td>\n      <td>Kebap</td>\n      <td>Kebap</td>\n      <td>35</td>\n      <td>0.49</td>\n      <td>0.09</td>\n      <td>3</td>\n    </tr>\n    <tr>\n      <th>515</th>\n      <td>7a</td>\n      <td>Atlas</td>\n      <td>Küllüin</td>\n      <td>Küllüin</td>\n      <td>9</td>\n      <td>0.89</td>\n      <td>0.11</td>\n      <td>3</td>\n    </tr>\n    <tr>\n      <th>546</th>\n      <td>6a+</td>\n      <td>No Reservations</td>\n      <td>Küllüin</td>\n      <td>Küllüin</td>\n      <td>41</td>\n      <td>0.95</td>\n      <td>0.03</td>\n      <td>3</td>\n    </tr>\n    <tr>\n      <th>571</th>\n      <td>7a</td>\n      <td>Atlas</td>\n      <td>Külüin Terras</td>\n      <td>Külüin Terras</td>\n      <td>35</td>\n      <td>0.71</td>\n      <td>0.00</td>\n      <td>3</td>\n    </tr>\n    <tr>\n      <th>575</th>\n      <td>7a</td>\n      <td>Camelita</td>\n      <td>Left Cave</td>\n      <td>Left Cave</td>\n      <td>21</td>\n      <td>0.62</td>\n      <td>0.14</td>\n      <td>3</td>\n    </tr>\n    <tr>\n      <th>650</th>\n      <td>7b</td>\n      <td>Blue Hotel</td>\n      <td>Mevlana</td>\n      <td>Mevlana</td>\n      <td>192</td>\n      <td>0.52</td>\n      <td>0.13</td>\n      <td>4</td>\n    </tr>\n    <tr>\n      <th>667</th>\n      <td>7b</td>\n      <td>Montenegro</td>\n      <td>Mevlana</td>\n      <td>Mevlana</td>\n      <td>83</td>\n      <td>0.30</td>\n      <td>0.17</td>\n      <td>3</td>\n    </tr>\n    <tr>\n      <th>676</th>\n      <td>6c+</td>\n      <td>Semazen</td>\n      <td>Mevlana</td>\n      <td>Mevlana</td>\n      <td>258</td>\n      <td>0.70</td>\n      <td>0.12</td>\n      <td>4</td>\n    </tr>\n    <tr>\n      <th>723</th>\n      <td>7b</td>\n      <td>Blue Hotel</td>\n      <td>Ottoman</td>\n      <td>Ottoman</td>\n      <td>16</td>\n      <td>0.38</td>\n      <td>0.25</td>\n      <td>4</td>\n    </tr>\n    <tr>\n      <th>740</th>\n      <td>7b</td>\n      <td>Montenegro</td>\n      <td>Ottoman</td>\n      <td>Ottoman</td>\n      <td>25</td>\n      <td>0.52</td>\n      <td>0.12</td>\n      <td>3</td>\n    </tr>\n    <tr>\n      <th>747</th>\n      <td>6c+</td>\n      <td>Semazen</td>\n      <td>Ottoman</td>\n      <td>Ottoman</td>\n      <td>26</td>\n      <td>0.58</td>\n      <td>0.31</td>\n      <td>4</td>\n    </tr>\n    <tr>\n      <th>984</th>\n      <td>6a+</td>\n      <td>No Reservations</td>\n      <td>Teras</td>\n      <td>Teras Left</td>\n      <td>8</td>\n      <td>0.88</td>\n      <td>0.00</td>\n      <td>1</td>\n    </tr>\n    <tr>\n      <th>1476</th>\n      <td>7a</td>\n      <td>Camelita</td>\n      <td>Yilan</td>\n      <td>Yilan</td>\n      <td>369</td>\n      <td>0.59</td>\n      <td>0.08</td>\n      <td>3</td>\n    </tr>\n  </tbody>\n</table>\n</div>"
     },
     "execution_count": 31,
     "metadata": {},
     "output_type": "execute_result"
    }
   ],
   "source": [
    "data_routes_union[data_routes_union[['name_clean', 'grade']].duplicated(keep=False)]"
   ],
   "metadata": {
    "collapsed": false,
    "ExecuteTime": {
     "end_time": "2024-02-01T12:49:56.049940800Z",
     "start_time": "2024-02-01T12:49:55.960629500Z"
    }
   },
   "id": "c514dcb3fc85e319"
  },
  {
   "cell_type": "markdown",
   "source": [
    "Some duplicates in name because of not perfect cleaning in sectors' name."
   ],
   "metadata": {
    "collapsed": false
   },
   "id": "bf0c945cd5619414"
  },
  {
   "cell_type": "code",
   "execution_count": 32,
   "outputs": [],
   "source": [
    "data_routes_union = data_routes_union[data_routes_union['sector_clean'] != 'Unknown Sector']"
   ],
   "metadata": {
    "collapsed": false,
    "ExecuteTime": {
     "end_time": "2024-02-01T12:49:56.049940800Z",
     "start_time": "2024-02-01T12:49:55.974603500Z"
    }
   },
   "id": "3b19854ff0f4ce86"
  },
  {
   "cell_type": "code",
   "execution_count": 33,
   "outputs": [],
   "source": [
    "data_routes_union.to_csv('routes_all_clean.csv', encoding='utf-8', index=False)"
   ],
   "metadata": {
    "collapsed": false,
    "ExecuteTime": {
     "end_time": "2024-02-01T12:49:56.049940800Z",
     "start_time": "2024-02-01T12:49:55.978728700Z"
    }
   },
   "id": "9dd4815b98901ed1"
  }
 ],
 "metadata": {
  "kernelspec": {
   "display_name": "Python 3",
   "language": "python",
   "name": "python3"
  },
  "language_info": {
   "codemirror_mode": {
    "name": "ipython",
    "version": 2
   },
   "file_extension": ".py",
   "mimetype": "text/x-python",
   "name": "python",
   "nbconvert_exporter": "python",
   "pygments_lexer": "ipython2",
   "version": "2.7.6"
  }
 },
 "nbformat": 4,
 "nbformat_minor": 5
}
