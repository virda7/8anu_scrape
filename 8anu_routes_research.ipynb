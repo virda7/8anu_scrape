{
 "cells": [
  {
   "cell_type": "markdown",
   "id": "7493e9f932308cb6",
   "metadata": {
    "collapsed": false
   },
   "source": [
    "# Check your route"
   ]
  },
  {
   "cell_type": "markdown",
   "id": "59878df7864de0b9",
   "metadata": {
    "collapsed": false
   },
   "source": [
    "## Technic part (don't touch this)"
   ]
  },
  {
   "cell_type": "markdown",
   "id": "fe5e4b7b27a6de4b",
   "metadata": {
    "collapsed": false
   },
   "source": [
    "### pip or import libraries"
   ]
  },
  {
   "cell_type": "code",
   "execution_count": 15,
   "id": "f88e1910b0652ae3",
   "metadata": {
    "collapsed": false,
    "ExecuteTime": {
     "end_time": "2024-02-01T13:00:26.981291900Z",
     "start_time": "2024-02-01T13:00:26.948555700Z"
    }
   },
   "outputs": [],
   "source": [
    "try:\n",
    "    import pandas as pd\n",
    "except:\n",
    "    !{sys.executable} -m pip install pandas\n",
    "    import pandas as pd\n",
    "    "
   ]
  },
  {
   "cell_type": "code",
   "execution_count": 16,
   "id": "b71e5fc3b9dcb02f",
   "metadata": {
    "collapsed": false,
    "ExecuteTime": {
     "end_time": "2024-02-01T13:00:26.988992900Z",
     "start_time": "2024-02-01T13:00:26.949279Z"
    }
   },
   "outputs": [],
   "source": [
    "try:\n",
    "    import plotly_express as px\n",
    "except:\n",
    "    !{sys.executable} -m pip install plotly-express\n",
    "    import plotly_express as px"
   ]
  },
  {
   "cell_type": "markdown",
   "id": "58fbb776363c23ac",
   "metadata": {
    "collapsed": false
   },
   "source": [
    "### Upload data"
   ]
  },
  {
   "cell_type": "code",
   "execution_count": 17,
   "id": "d314dba2a52495bc",
   "metadata": {
    "collapsed": false,
    "ExecuteTime": {
     "end_time": "2024-02-01T13:00:26.988992900Z",
     "start_time": "2024-02-01T13:00:26.964501400Z"
    }
   },
   "outputs": [],
   "source": [
    "data = pd.read_csv('routes_all_clean.csv')"
   ]
  },
  {
   "cell_type": "markdown",
   "id": "66c4312a1a7bca7",
   "metadata": {
    "collapsed": false
   },
   "source": [
    "### Function with plots and filters"
   ]
  },
  {
   "cell_type": "code",
   "execution_count": 18,
   "id": "327384ee8f0a534e",
   "metadata": {
    "collapsed": false,
    "ExecuteTime": {
     "end_time": "2024-02-01T13:00:26.988992900Z",
     "start_time": "2024-02-01T13:00:26.971158600Z"
    }
   },
   "outputs": [],
   "source": [
    "def route_info (grade, sector=None, table=False):\n",
    "    \"\"\"\n",
    "    \n",
    "    :param grade: what grade you wanna check. Use str style \"8a\" or '7a'\n",
    "    :param sector: if you need some sector to check, feel free. Use list style ['Mevlana'] or ['Mevlana', \"Sarkit\"]\n",
    "    :param table: True or False. If you need table info use True.\n",
    "    :return: plots\n",
    "    \"\"\"\n",
    "    if sector is None:\n",
    "        data_by_grade = data[\n",
    "            (data['grade'] == grade)\n",
    "            ]\n",
    "    else:\n",
    "        data_by_grade = data[\n",
    "            (data['grade'] == grade) & \n",
    "            (data['sector_clean'].isin(sector))\n",
    "        ]\n",
    "\n",
    "    for_plot = data_by_grade.sort_values(['sector_clean', 'ascents'], ascending=[True, False])\n",
    "\n",
    "    fig = px.bar(\n",
    "        for_plot,\n",
    "        x='sector_clean',\n",
    "        y='ascents',\n",
    "        hover_data=['name_clean', 'fos_ratio'],\n",
    "        color='fos_ratio'\n",
    "    )\n",
    "    fig.show()\n",
    "    \n",
    "    if table:\n",
    "        display(for_plot)"
   ]
  },
  {
   "cell_type": "markdown",
   "id": "67ad58af37cef4e2",
   "metadata": {
    "collapsed": false
   },
   "source": [
    "## Using function (can change something)"
   ]
  },
  {
   "cell_type": "markdown",
   "id": "549e8334ab1acee9",
   "metadata": {
    "collapsed": false
   },
   "source": [
    "**How to use:**\n",
    "\n",
    "Function `route_info(grade, sector, table)`.\n",
    "* grade - str type. This param is required. Use English keyboard layout like `\"4a\", '7a+', '8b'`.\n",
    "* sector - list type. If you want to find info about grade in several sectors. Example, `['Magara', \"Trebenna\"]`.\n",
    "* table - boolean type. If you want to see table after plot, use `table=True`. \n",
    "\n",
    "For example, \n",
    "```\n",
    "route_info(grade='7c')\n",
    "```\n",
    "This request return only one plot about 7c grade through ALL sectors without table info. \n",
    "\n",
    "\n",
    "For example, \n",
    "```\n",
    "route_info(grade='7a+', sector=['Magara'], table=True)\n",
    "```\n",
    "This request return one plot about 7a+ grade in sector <i>Magara</i> with table info. "
   ]
  },
  {
   "cell_type": "markdown",
   "id": "ac3e0e9cb5ab0a09",
   "metadata": {
    "collapsed": false
   },
   "source": [
    "**About table**\n",
    "* grade — easy.\n",
    "* name_clean — name of route after auto cleaning from typo.\n",
    "* sector — name of sector before typo cleaning.\n",
    "* sector_clean — name of sector after typo cleaning.\n",
    "* ascents — sum of ascents of certain route.\n",
    "* fos_ratio — percent (from 0 to 1) of flash or onsight ascents. \n",
    "* recommendation — percent of recommendation (from 0 to 1).\n",
    "* stars — easy. More likes, more stars. From 0 to 5."
   ]
  },
  {
   "cell_type": "markdown",
   "id": "f97d3b4294e77742",
   "metadata": {
    "collapsed": false
   },
   "source": [
    "**Grades and Sectors list**"
   ]
  },
  {
   "cell_type": "markdown",
   "id": "d167a0990d3d03a0",
   "metadata": {
    "collapsed": false
   },
   "source": [
    "Copy those grades and sectors if you doubt.  "
   ]
  },
  {
   "cell_type": "code",
   "execution_count": 19,
   "id": "8b448dd7135a63d4",
   "metadata": {
    "collapsed": false,
    "ExecuteTime": {
     "end_time": "2024-02-01T13:00:27.028647Z",
     "start_time": "2024-02-01T13:00:26.976298100Z"
    }
   },
   "outputs": [
    {
     "data": {
      "text/plain": "['4a',\n '4b',\n '4c',\n '5a',\n '5b',\n '5c',\n '5c+',\n '6a',\n '6a+',\n '6b',\n '6b+',\n '6c',\n '6c+',\n '7a',\n '7a+',\n '7b',\n '7b+',\n '7c',\n '7c+',\n '8a',\n '8a+',\n '8b',\n '8b+',\n '8c',\n '8c+']"
     },
     "execution_count": 19,
     "metadata": {},
     "output_type": "execute_result"
    }
   ],
   "source": [
    "sorted(data['grade'].unique().tolist())"
   ]
  },
  {
   "cell_type": "code",
   "execution_count": 20,
   "id": "884e31f6b155ef08",
   "metadata": {
    "collapsed": false,
    "ExecuteTime": {
     "end_time": "2024-02-01T13:00:27.028647Z",
     "start_time": "2024-02-01T13:00:26.981291900Z"
    }
   },
   "outputs": [
    {
     "data": {
      "text/plain": "                    ascents\nsector_clean               \nTrebenna West         15622\nSarkit                 8825\nMagara                 5119\nAlabalik               5115\nMevlana                4645\n...                     ...\nTrebenna/Patagonya        2\nReverrance                2\nde que fas aqui?          1\nAlcyone                   1\nSikret Sektor             1\n\n[61 rows x 1 columns]",
      "text/html": "<div>\n<style scoped>\n    .dataframe tbody tr th:only-of-type {\n        vertical-align: middle;\n    }\n\n    .dataframe tbody tr th {\n        vertical-align: top;\n    }\n\n    .dataframe thead th {\n        text-align: right;\n    }\n</style>\n<table border=\"1\" class=\"dataframe\">\n  <thead>\n    <tr style=\"text-align: right;\">\n      <th></th>\n      <th>ascents</th>\n    </tr>\n    <tr>\n      <th>sector_clean</th>\n      <th></th>\n    </tr>\n  </thead>\n  <tbody>\n    <tr>\n      <th>Trebenna West</th>\n      <td>15622</td>\n    </tr>\n    <tr>\n      <th>Sarkit</th>\n      <td>8825</td>\n    </tr>\n    <tr>\n      <th>Magara</th>\n      <td>5119</td>\n    </tr>\n    <tr>\n      <th>Alabalik</th>\n      <td>5115</td>\n    </tr>\n    <tr>\n      <th>Mevlana</th>\n      <td>4645</td>\n    </tr>\n    <tr>\n      <th>...</th>\n      <td>...</td>\n    </tr>\n    <tr>\n      <th>Trebenna/Patagonya</th>\n      <td>2</td>\n    </tr>\n    <tr>\n      <th>Reverrance</th>\n      <td>2</td>\n    </tr>\n    <tr>\n      <th>de que fas aqui?</th>\n      <td>1</td>\n    </tr>\n    <tr>\n      <th>Alcyone</th>\n      <td>1</td>\n    </tr>\n    <tr>\n      <th>Sikret Sektor</th>\n      <td>1</td>\n    </tr>\n  </tbody>\n</table>\n<p>61 rows × 1 columns</p>\n</div>"
     },
     "execution_count": 20,
     "metadata": {},
     "output_type": "execute_result"
    }
   ],
   "source": [
    "# sectors sorted by ascents\n",
    "\n",
    "(\n",
    "    data\n",
    "    .groupby(['sector_clean'])\n",
    "    .agg({'ascents': 'sum'})\n",
    "    .sort_values(by=['ascents'], ascending=False)\n",
    ")"
   ]
  },
  {
   "cell_type": "markdown",
   "id": "9178f39637a04266",
   "metadata": {
    "collapsed": false
   },
   "source": [
    "### Your turn"
   ]
  },
  {
   "cell_type": "markdown",
   "source": [
    "**Additional sectors' lists**\n",
    "Grouped by location. Not all sectors here (mostly old and popular)."
   ],
   "metadata": {
    "collapsed": false
   },
   "id": "68412eb01f8d6c6a"
  },
  {
   "cell_type": "code",
   "execution_count": 23,
   "outputs": [],
   "source": [
    "north_sectors = [\n",
    "    'Gizlibahce',\n",
    "    'laboratuvar',\n",
    "    'Cesme',\n",
    "    'Sarkit',\n",
    "    'Magara',\n",
    "    'Anatolia',\n",
    "    'Geyik',\n",
    "    'Dragon',\n",
    "    'Güzel Manzara'\n",
    "]\n",
    "\n",
    "south_sectors = [\n",
    "    'Right cave',\n",
    "    'Yenicay',\n",
    "    'Turkish Standard',\n",
    "    'Yilan',\n",
    "    'Left Cave',\n",
    "    'Heart',\n",
    "    'Deli Kasap',\n",
    "    'Sincap',\n",
    "    'Trebenna West',\n",
    "    'Trebenna/Patagonya',\n",
    "    'Sandal',\n",
    "    'Patagonia'\n",
    "]\n",
    "\n",
    "east_sectors = [\n",
    "    'Mandela',\n",
    "    'Kebap',\n",
    "    'Gizmo',\n",
    "    'Kanyon',\n",
    "    'Zeytinlik',\n",
    "    'Pasa',\n",
    "    'Mevlana',\n",
    "    'Ottoman',\n",
    "    'Poseidon',\n",
    "    'Echoes',\n",
    "    'Akdeniz',\n",
    "    'Alaaddin',\n",
    "    'Barbarossa',\n",
    "    'Toki',\n",
    "    'Alabalik'\n",
    "]\n",
    "\n",
    "west_sectors = [\n",
    "    'Rüzgarli Bahçe',\n",
    "    'Kulluin Taras',\n",
    "    'Külüin Terras',\n",
    "    'Küllüin',\n",
    "    'Moon'\n",
    "]"
   ],
   "metadata": {
    "collapsed": false,
    "ExecuteTime": {
     "end_time": "2024-02-01T13:22:02.032587900Z",
     "start_time": "2024-02-01T13:22:02.032077900Z"
    }
   },
   "id": "36db45cc72eb10b8"
  },
  {
   "cell_type": "code",
   "execution_count": 25,
   "id": "6df1eb5f87142bfa",
   "metadata": {
    "collapsed": false,
    "ExecuteTime": {
     "end_time": "2024-02-01T13:24:18.322946100Z",
     "start_time": "2024-02-01T13:24:18.277635900Z"
    }
   },
   "outputs": [
    {
     "data": {
      "application/vnd.plotly.v1+json": {
       "data": [
        {
         "alignmentgroup": "True",
         "customdata": [
          [
           "Toxic Gravity",
           0.18
          ],
          [
           "Luna Park Perseus",
           0.0
          ],
          [
           "Künefe",
           0.13
          ],
          [
           "Lycian Highway",
           0.7
          ],
          [
           "Diplomarbeit",
           0.3
          ],
          [
           "Rattle Snake Saloon",
           0.42
          ],
          [
           "Greek Gift",
           0.49
          ],
          [
           "Pink power",
           0.66
          ],
          [
           "Matbaim",
           0.88
          ],
          [
           "Judas",
           0.54
          ],
          [
           "Kalhi cat",
           0.52
          ],
          [
           "Pharao's curse",
           0.39
          ],
          [
           "Eclipse",
           1.0
          ],
          [
           "Gathering",
           1.0
          ],
          [
           "N.N. (Some roof with jamming at top)",
           1.0
          ],
          [
           "Soldan 12.",
           0.0
          ],
          [
           "Pathfinder",
           0.33
          ],
          [
           "Pipis & Popos",
           0.32
          ],
          [
           "Hunting Love",
           0.47
          ],
          [
           "Julia & Romeo",
           0.33
          ],
          [
           "pipis and popos",
           1.0
          ],
          [
           "Showdown",
           0.14
          ]
         ],
         "hovertemplate": "sector_clean=%{x}<br>ascents=%{y}<br>name_clean=%{customdata[0]}<br>fos_ratio=%{marker.color}<extra></extra>",
         "legendgroup": "",
         "marker": {
          "color": [
           0.18,
           0.0,
           0.13,
           0.7,
           0.3,
           0.42,
           0.49,
           0.66,
           0.88,
           0.54,
           0.52,
           0.39,
           1.0,
           1.0,
           1.0,
           0.0,
           0.33,
           0.32,
           0.47,
           0.33,
           1.0,
           0.14
          ],
          "coloraxis": "coloraxis",
          "pattern": {
           "shape": ""
          }
         },
         "name": "",
         "offsetgroup": "",
         "orientation": "v",
         "showlegend": false,
         "textposition": "auto",
         "x": [
          "Left Cave",
          "Left Cave",
          "Sandal",
          "Trebenna West",
          "Trebenna West",
          "Trebenna West",
          "Trebenna West",
          "Trebenna West",
          "Trebenna West",
          "Trebenna West",
          "Trebenna West",
          "Trebenna West",
          "Trebenna West",
          "Trebenna West",
          "Trebenna West",
          "Trebenna/Patagonya",
          "Turkish Standard",
          "Turkish Standard",
          "Turkish Standard",
          "Turkish Standard",
          "Turkish Standard",
          "Yilan"
         ],
         "xaxis": "x",
         "y": [
          172,
          1,
          8,
          653,
          519,
          519,
          433,
          201,
          187,
          80,
          31,
          13,
          1,
          1,
          1,
          1,
          159,
          104,
          19,
          12,
          1,
          73
         ],
         "yaxis": "y",
         "type": "bar"
        }
       ],
       "layout": {
        "template": {
         "data": {
          "histogram2dcontour": [
           {
            "type": "histogram2dcontour",
            "colorbar": {
             "outlinewidth": 0,
             "ticks": ""
            },
            "colorscale": [
             [
              0.0,
              "#0d0887"
             ],
             [
              0.1111111111111111,
              "#46039f"
             ],
             [
              0.2222222222222222,
              "#7201a8"
             ],
             [
              0.3333333333333333,
              "#9c179e"
             ],
             [
              0.4444444444444444,
              "#bd3786"
             ],
             [
              0.5555555555555556,
              "#d8576b"
             ],
             [
              0.6666666666666666,
              "#ed7953"
             ],
             [
              0.7777777777777778,
              "#fb9f3a"
             ],
             [
              0.8888888888888888,
              "#fdca26"
             ],
             [
              1.0,
              "#f0f921"
             ]
            ]
           }
          ],
          "choropleth": [
           {
            "type": "choropleth",
            "colorbar": {
             "outlinewidth": 0,
             "ticks": ""
            }
           }
          ],
          "histogram2d": [
           {
            "type": "histogram2d",
            "colorbar": {
             "outlinewidth": 0,
             "ticks": ""
            },
            "colorscale": [
             [
              0.0,
              "#0d0887"
             ],
             [
              0.1111111111111111,
              "#46039f"
             ],
             [
              0.2222222222222222,
              "#7201a8"
             ],
             [
              0.3333333333333333,
              "#9c179e"
             ],
             [
              0.4444444444444444,
              "#bd3786"
             ],
             [
              0.5555555555555556,
              "#d8576b"
             ],
             [
              0.6666666666666666,
              "#ed7953"
             ],
             [
              0.7777777777777778,
              "#fb9f3a"
             ],
             [
              0.8888888888888888,
              "#fdca26"
             ],
             [
              1.0,
              "#f0f921"
             ]
            ]
           }
          ],
          "heatmap": [
           {
            "type": "heatmap",
            "colorbar": {
             "outlinewidth": 0,
             "ticks": ""
            },
            "colorscale": [
             [
              0.0,
              "#0d0887"
             ],
             [
              0.1111111111111111,
              "#46039f"
             ],
             [
              0.2222222222222222,
              "#7201a8"
             ],
             [
              0.3333333333333333,
              "#9c179e"
             ],
             [
              0.4444444444444444,
              "#bd3786"
             ],
             [
              0.5555555555555556,
              "#d8576b"
             ],
             [
              0.6666666666666666,
              "#ed7953"
             ],
             [
              0.7777777777777778,
              "#fb9f3a"
             ],
             [
              0.8888888888888888,
              "#fdca26"
             ],
             [
              1.0,
              "#f0f921"
             ]
            ]
           }
          ],
          "heatmapgl": [
           {
            "type": "heatmapgl",
            "colorbar": {
             "outlinewidth": 0,
             "ticks": ""
            },
            "colorscale": [
             [
              0.0,
              "#0d0887"
             ],
             [
              0.1111111111111111,
              "#46039f"
             ],
             [
              0.2222222222222222,
              "#7201a8"
             ],
             [
              0.3333333333333333,
              "#9c179e"
             ],
             [
              0.4444444444444444,
              "#bd3786"
             ],
             [
              0.5555555555555556,
              "#d8576b"
             ],
             [
              0.6666666666666666,
              "#ed7953"
             ],
             [
              0.7777777777777778,
              "#fb9f3a"
             ],
             [
              0.8888888888888888,
              "#fdca26"
             ],
             [
              1.0,
              "#f0f921"
             ]
            ]
           }
          ],
          "contourcarpet": [
           {
            "type": "contourcarpet",
            "colorbar": {
             "outlinewidth": 0,
             "ticks": ""
            }
           }
          ],
          "contour": [
           {
            "type": "contour",
            "colorbar": {
             "outlinewidth": 0,
             "ticks": ""
            },
            "colorscale": [
             [
              0.0,
              "#0d0887"
             ],
             [
              0.1111111111111111,
              "#46039f"
             ],
             [
              0.2222222222222222,
              "#7201a8"
             ],
             [
              0.3333333333333333,
              "#9c179e"
             ],
             [
              0.4444444444444444,
              "#bd3786"
             ],
             [
              0.5555555555555556,
              "#d8576b"
             ],
             [
              0.6666666666666666,
              "#ed7953"
             ],
             [
              0.7777777777777778,
              "#fb9f3a"
             ],
             [
              0.8888888888888888,
              "#fdca26"
             ],
             [
              1.0,
              "#f0f921"
             ]
            ]
           }
          ],
          "surface": [
           {
            "type": "surface",
            "colorbar": {
             "outlinewidth": 0,
             "ticks": ""
            },
            "colorscale": [
             [
              0.0,
              "#0d0887"
             ],
             [
              0.1111111111111111,
              "#46039f"
             ],
             [
              0.2222222222222222,
              "#7201a8"
             ],
             [
              0.3333333333333333,
              "#9c179e"
             ],
             [
              0.4444444444444444,
              "#bd3786"
             ],
             [
              0.5555555555555556,
              "#d8576b"
             ],
             [
              0.6666666666666666,
              "#ed7953"
             ],
             [
              0.7777777777777778,
              "#fb9f3a"
             ],
             [
              0.8888888888888888,
              "#fdca26"
             ],
             [
              1.0,
              "#f0f921"
             ]
            ]
           }
          ],
          "mesh3d": [
           {
            "type": "mesh3d",
            "colorbar": {
             "outlinewidth": 0,
             "ticks": ""
            }
           }
          ],
          "scatter": [
           {
            "fillpattern": {
             "fillmode": "overlay",
             "size": 10,
             "solidity": 0.2
            },
            "type": "scatter"
           }
          ],
          "parcoords": [
           {
            "type": "parcoords",
            "line": {
             "colorbar": {
              "outlinewidth": 0,
              "ticks": ""
             }
            }
           }
          ],
          "scatterpolargl": [
           {
            "type": "scatterpolargl",
            "marker": {
             "colorbar": {
              "outlinewidth": 0,
              "ticks": ""
             }
            }
           }
          ],
          "bar": [
           {
            "error_x": {
             "color": "#2a3f5f"
            },
            "error_y": {
             "color": "#2a3f5f"
            },
            "marker": {
             "line": {
              "color": "#E5ECF6",
              "width": 0.5
             },
             "pattern": {
              "fillmode": "overlay",
              "size": 10,
              "solidity": 0.2
             }
            },
            "type": "bar"
           }
          ],
          "scattergeo": [
           {
            "type": "scattergeo",
            "marker": {
             "colorbar": {
              "outlinewidth": 0,
              "ticks": ""
             }
            }
           }
          ],
          "scatterpolar": [
           {
            "type": "scatterpolar",
            "marker": {
             "colorbar": {
              "outlinewidth": 0,
              "ticks": ""
             }
            }
           }
          ],
          "histogram": [
           {
            "marker": {
             "pattern": {
              "fillmode": "overlay",
              "size": 10,
              "solidity": 0.2
             }
            },
            "type": "histogram"
           }
          ],
          "scattergl": [
           {
            "type": "scattergl",
            "marker": {
             "colorbar": {
              "outlinewidth": 0,
              "ticks": ""
             }
            }
           }
          ],
          "scatter3d": [
           {
            "type": "scatter3d",
            "line": {
             "colorbar": {
              "outlinewidth": 0,
              "ticks": ""
             }
            },
            "marker": {
             "colorbar": {
              "outlinewidth": 0,
              "ticks": ""
             }
            }
           }
          ],
          "scattermapbox": [
           {
            "type": "scattermapbox",
            "marker": {
             "colorbar": {
              "outlinewidth": 0,
              "ticks": ""
             }
            }
           }
          ],
          "scatterternary": [
           {
            "type": "scatterternary",
            "marker": {
             "colorbar": {
              "outlinewidth": 0,
              "ticks": ""
             }
            }
           }
          ],
          "scattercarpet": [
           {
            "type": "scattercarpet",
            "marker": {
             "colorbar": {
              "outlinewidth": 0,
              "ticks": ""
             }
            }
           }
          ],
          "carpet": [
           {
            "aaxis": {
             "endlinecolor": "#2a3f5f",
             "gridcolor": "white",
             "linecolor": "white",
             "minorgridcolor": "white",
             "startlinecolor": "#2a3f5f"
            },
            "baxis": {
             "endlinecolor": "#2a3f5f",
             "gridcolor": "white",
             "linecolor": "white",
             "minorgridcolor": "white",
             "startlinecolor": "#2a3f5f"
            },
            "type": "carpet"
           }
          ],
          "table": [
           {
            "cells": {
             "fill": {
              "color": "#EBF0F8"
             },
             "line": {
              "color": "white"
             }
            },
            "header": {
             "fill": {
              "color": "#C8D4E3"
             },
             "line": {
              "color": "white"
             }
            },
            "type": "table"
           }
          ],
          "barpolar": [
           {
            "marker": {
             "line": {
              "color": "#E5ECF6",
              "width": 0.5
             },
             "pattern": {
              "fillmode": "overlay",
              "size": 10,
              "solidity": 0.2
             }
            },
            "type": "barpolar"
           }
          ],
          "pie": [
           {
            "automargin": true,
            "type": "pie"
           }
          ]
         },
         "layout": {
          "autotypenumbers": "strict",
          "colorway": [
           "#636efa",
           "#EF553B",
           "#00cc96",
           "#ab63fa",
           "#FFA15A",
           "#19d3f3",
           "#FF6692",
           "#B6E880",
           "#FF97FF",
           "#FECB52"
          ],
          "font": {
           "color": "#2a3f5f"
          },
          "hovermode": "closest",
          "hoverlabel": {
           "align": "left"
          },
          "paper_bgcolor": "white",
          "plot_bgcolor": "#E5ECF6",
          "polar": {
           "bgcolor": "#E5ECF6",
           "angularaxis": {
            "gridcolor": "white",
            "linecolor": "white",
            "ticks": ""
           },
           "radialaxis": {
            "gridcolor": "white",
            "linecolor": "white",
            "ticks": ""
           }
          },
          "ternary": {
           "bgcolor": "#E5ECF6",
           "aaxis": {
            "gridcolor": "white",
            "linecolor": "white",
            "ticks": ""
           },
           "baxis": {
            "gridcolor": "white",
            "linecolor": "white",
            "ticks": ""
           },
           "caxis": {
            "gridcolor": "white",
            "linecolor": "white",
            "ticks": ""
           }
          },
          "coloraxis": {
           "colorbar": {
            "outlinewidth": 0,
            "ticks": ""
           }
          },
          "colorscale": {
           "sequential": [
            [
             0.0,
             "#0d0887"
            ],
            [
             0.1111111111111111,
             "#46039f"
            ],
            [
             0.2222222222222222,
             "#7201a8"
            ],
            [
             0.3333333333333333,
             "#9c179e"
            ],
            [
             0.4444444444444444,
             "#bd3786"
            ],
            [
             0.5555555555555556,
             "#d8576b"
            ],
            [
             0.6666666666666666,
             "#ed7953"
            ],
            [
             0.7777777777777778,
             "#fb9f3a"
            ],
            [
             0.8888888888888888,
             "#fdca26"
            ],
            [
             1.0,
             "#f0f921"
            ]
           ],
           "sequentialminus": [
            [
             0.0,
             "#0d0887"
            ],
            [
             0.1111111111111111,
             "#46039f"
            ],
            [
             0.2222222222222222,
             "#7201a8"
            ],
            [
             0.3333333333333333,
             "#9c179e"
            ],
            [
             0.4444444444444444,
             "#bd3786"
            ],
            [
             0.5555555555555556,
             "#d8576b"
            ],
            [
             0.6666666666666666,
             "#ed7953"
            ],
            [
             0.7777777777777778,
             "#fb9f3a"
            ],
            [
             0.8888888888888888,
             "#fdca26"
            ],
            [
             1.0,
             "#f0f921"
            ]
           ],
           "diverging": [
            [
             0,
             "#8e0152"
            ],
            [
             0.1,
             "#c51b7d"
            ],
            [
             0.2,
             "#de77ae"
            ],
            [
             0.3,
             "#f1b6da"
            ],
            [
             0.4,
             "#fde0ef"
            ],
            [
             0.5,
             "#f7f7f7"
            ],
            [
             0.6,
             "#e6f5d0"
            ],
            [
             0.7,
             "#b8e186"
            ],
            [
             0.8,
             "#7fbc41"
            ],
            [
             0.9,
             "#4d9221"
            ],
            [
             1,
             "#276419"
            ]
           ]
          },
          "xaxis": {
           "gridcolor": "white",
           "linecolor": "white",
           "ticks": "",
           "title": {
            "standoff": 15
           },
           "zerolinecolor": "white",
           "automargin": true,
           "zerolinewidth": 2
          },
          "yaxis": {
           "gridcolor": "white",
           "linecolor": "white",
           "ticks": "",
           "title": {
            "standoff": 15
           },
           "zerolinecolor": "white",
           "automargin": true,
           "zerolinewidth": 2
          },
          "scene": {
           "xaxis": {
            "backgroundcolor": "#E5ECF6",
            "gridcolor": "white",
            "linecolor": "white",
            "showbackground": true,
            "ticks": "",
            "zerolinecolor": "white",
            "gridwidth": 2
           },
           "yaxis": {
            "backgroundcolor": "#E5ECF6",
            "gridcolor": "white",
            "linecolor": "white",
            "showbackground": true,
            "ticks": "",
            "zerolinecolor": "white",
            "gridwidth": 2
           },
           "zaxis": {
            "backgroundcolor": "#E5ECF6",
            "gridcolor": "white",
            "linecolor": "white",
            "showbackground": true,
            "ticks": "",
            "zerolinecolor": "white",
            "gridwidth": 2
           }
          },
          "shapedefaults": {
           "line": {
            "color": "#2a3f5f"
           }
          },
          "annotationdefaults": {
           "arrowcolor": "#2a3f5f",
           "arrowhead": 0,
           "arrowwidth": 1
          },
          "geo": {
           "bgcolor": "white",
           "landcolor": "#E5ECF6",
           "subunitcolor": "white",
           "showland": true,
           "showlakes": true,
           "lakecolor": "white"
          },
          "title": {
           "x": 0.05
          },
          "mapbox": {
           "style": "light"
          }
         }
        },
        "xaxis": {
         "anchor": "y",
         "domain": [
          0.0,
          1.0
         ],
         "title": {
          "text": "sector_clean"
         }
        },
        "yaxis": {
         "anchor": "x",
         "domain": [
          0.0,
          1.0
         ],
         "title": {
          "text": "ascents"
         }
        },
        "coloraxis": {
         "colorbar": {
          "title": {
           "text": "fos_ratio"
          }
         },
         "colorscale": [
          [
           0.0,
           "#0d0887"
          ],
          [
           0.1111111111111111,
           "#46039f"
          ],
          [
           0.2222222222222222,
           "#7201a8"
          ],
          [
           0.3333333333333333,
           "#9c179e"
          ],
          [
           0.4444444444444444,
           "#bd3786"
          ],
          [
           0.5555555555555556,
           "#d8576b"
          ],
          [
           0.6666666666666666,
           "#ed7953"
          ],
          [
           0.7777777777777778,
           "#fb9f3a"
          ],
          [
           0.8888888888888888,
           "#fdca26"
          ],
          [
           1.0,
           "#f0f921"
          ]
         ]
        },
        "legend": {
         "tracegroupgap": 0
        },
        "margin": {
         "t": 60
        },
        "barmode": "relative"
       },
       "config": {
        "plotlyServerURL": "https://plot.ly"
       }
      },
      "text/html": "<div>                            <div id=\"eb35cc01-385f-4157-a52d-94bcb9b194bf\" class=\"plotly-graph-div\" style=\"height:525px; width:100%;\"></div>            <script type=\"text/javascript\">                require([\"plotly\"], function(Plotly) {                    window.PLOTLYENV=window.PLOTLYENV || {};                                    if (document.getElementById(\"eb35cc01-385f-4157-a52d-94bcb9b194bf\")) {                    Plotly.newPlot(                        \"eb35cc01-385f-4157-a52d-94bcb9b194bf\",                        [{\"alignmentgroup\":\"True\",\"customdata\":[[\"Toxic Gravity\",0.18],[\"Luna Park Perseus\",0.0],[\"K\\u00fcnefe\",0.13],[\"Lycian Highway\",0.7],[\"Diplomarbeit\",0.3],[\"Rattle Snake Saloon\",0.42],[\"Greek Gift\",0.49],[\"Pink power\",0.66],[\"Matbaim\",0.88],[\"Judas\",0.54],[\"Kalhi cat\",0.52],[\"Pharao's curse\",0.39],[\"Eclipse\",1.0],[\"Gathering\",1.0],[\"N.N. (Some roof with jamming at top)\",1.0],[\"Soldan 12.\",0.0],[\"Pathfinder\",0.33],[\"Pipis & Popos\",0.32],[\"Hunting Love\",0.47],[\"Julia & Romeo\",0.33],[\"pipis and popos\",1.0],[\"Showdown\",0.14]],\"hovertemplate\":\"sector_clean=%{x}\\u003cbr\\u003eascents=%{y}\\u003cbr\\u003ename_clean=%{customdata[0]}\\u003cbr\\u003efos_ratio=%{marker.color}\\u003cextra\\u003e\\u003c\\u002fextra\\u003e\",\"legendgroup\":\"\",\"marker\":{\"color\":[0.18,0.0,0.13,0.7,0.3,0.42,0.49,0.66,0.88,0.54,0.52,0.39,1.0,1.0,1.0,0.0,0.33,0.32,0.47,0.33,1.0,0.14],\"coloraxis\":\"coloraxis\",\"pattern\":{\"shape\":\"\"}},\"name\":\"\",\"offsetgroup\":\"\",\"orientation\":\"v\",\"showlegend\":false,\"textposition\":\"auto\",\"x\":[\"Left Cave\",\"Left Cave\",\"Sandal\",\"Trebenna West\",\"Trebenna West\",\"Trebenna West\",\"Trebenna West\",\"Trebenna West\",\"Trebenna West\",\"Trebenna West\",\"Trebenna West\",\"Trebenna West\",\"Trebenna West\",\"Trebenna West\",\"Trebenna West\",\"Trebenna\\u002fPatagonya\",\"Turkish Standard\",\"Turkish Standard\",\"Turkish Standard\",\"Turkish Standard\",\"Turkish Standard\",\"Yilan\"],\"xaxis\":\"x\",\"y\":[172,1,8,653,519,519,433,201,187,80,31,13,1,1,1,1,159,104,19,12,1,73],\"yaxis\":\"y\",\"type\":\"bar\"}],                        {\"template\":{\"data\":{\"histogram2dcontour\":[{\"type\":\"histogram2dcontour\",\"colorbar\":{\"outlinewidth\":0,\"ticks\":\"\"},\"colorscale\":[[0.0,\"#0d0887\"],[0.1111111111111111,\"#46039f\"],[0.2222222222222222,\"#7201a8\"],[0.3333333333333333,\"#9c179e\"],[0.4444444444444444,\"#bd3786\"],[0.5555555555555556,\"#d8576b\"],[0.6666666666666666,\"#ed7953\"],[0.7777777777777778,\"#fb9f3a\"],[0.8888888888888888,\"#fdca26\"],[1.0,\"#f0f921\"]]}],\"choropleth\":[{\"type\":\"choropleth\",\"colorbar\":{\"outlinewidth\":0,\"ticks\":\"\"}}],\"histogram2d\":[{\"type\":\"histogram2d\",\"colorbar\":{\"outlinewidth\":0,\"ticks\":\"\"},\"colorscale\":[[0.0,\"#0d0887\"],[0.1111111111111111,\"#46039f\"],[0.2222222222222222,\"#7201a8\"],[0.3333333333333333,\"#9c179e\"],[0.4444444444444444,\"#bd3786\"],[0.5555555555555556,\"#d8576b\"],[0.6666666666666666,\"#ed7953\"],[0.7777777777777778,\"#fb9f3a\"],[0.8888888888888888,\"#fdca26\"],[1.0,\"#f0f921\"]]}],\"heatmap\":[{\"type\":\"heatmap\",\"colorbar\":{\"outlinewidth\":0,\"ticks\":\"\"},\"colorscale\":[[0.0,\"#0d0887\"],[0.1111111111111111,\"#46039f\"],[0.2222222222222222,\"#7201a8\"],[0.3333333333333333,\"#9c179e\"],[0.4444444444444444,\"#bd3786\"],[0.5555555555555556,\"#d8576b\"],[0.6666666666666666,\"#ed7953\"],[0.7777777777777778,\"#fb9f3a\"],[0.8888888888888888,\"#fdca26\"],[1.0,\"#f0f921\"]]}],\"heatmapgl\":[{\"type\":\"heatmapgl\",\"colorbar\":{\"outlinewidth\":0,\"ticks\":\"\"},\"colorscale\":[[0.0,\"#0d0887\"],[0.1111111111111111,\"#46039f\"],[0.2222222222222222,\"#7201a8\"],[0.3333333333333333,\"#9c179e\"],[0.4444444444444444,\"#bd3786\"],[0.5555555555555556,\"#d8576b\"],[0.6666666666666666,\"#ed7953\"],[0.7777777777777778,\"#fb9f3a\"],[0.8888888888888888,\"#fdca26\"],[1.0,\"#f0f921\"]]}],\"contourcarpet\":[{\"type\":\"contourcarpet\",\"colorbar\":{\"outlinewidth\":0,\"ticks\":\"\"}}],\"contour\":[{\"type\":\"contour\",\"colorbar\":{\"outlinewidth\":0,\"ticks\":\"\"},\"colorscale\":[[0.0,\"#0d0887\"],[0.1111111111111111,\"#46039f\"],[0.2222222222222222,\"#7201a8\"],[0.3333333333333333,\"#9c179e\"],[0.4444444444444444,\"#bd3786\"],[0.5555555555555556,\"#d8576b\"],[0.6666666666666666,\"#ed7953\"],[0.7777777777777778,\"#fb9f3a\"],[0.8888888888888888,\"#fdca26\"],[1.0,\"#f0f921\"]]}],\"surface\":[{\"type\":\"surface\",\"colorbar\":{\"outlinewidth\":0,\"ticks\":\"\"},\"colorscale\":[[0.0,\"#0d0887\"],[0.1111111111111111,\"#46039f\"],[0.2222222222222222,\"#7201a8\"],[0.3333333333333333,\"#9c179e\"],[0.4444444444444444,\"#bd3786\"],[0.5555555555555556,\"#d8576b\"],[0.6666666666666666,\"#ed7953\"],[0.7777777777777778,\"#fb9f3a\"],[0.8888888888888888,\"#fdca26\"],[1.0,\"#f0f921\"]]}],\"mesh3d\":[{\"type\":\"mesh3d\",\"colorbar\":{\"outlinewidth\":0,\"ticks\":\"\"}}],\"scatter\":[{\"fillpattern\":{\"fillmode\":\"overlay\",\"size\":10,\"solidity\":0.2},\"type\":\"scatter\"}],\"parcoords\":[{\"type\":\"parcoords\",\"line\":{\"colorbar\":{\"outlinewidth\":0,\"ticks\":\"\"}}}],\"scatterpolargl\":[{\"type\":\"scatterpolargl\",\"marker\":{\"colorbar\":{\"outlinewidth\":0,\"ticks\":\"\"}}}],\"bar\":[{\"error_x\":{\"color\":\"#2a3f5f\"},\"error_y\":{\"color\":\"#2a3f5f\"},\"marker\":{\"line\":{\"color\":\"#E5ECF6\",\"width\":0.5},\"pattern\":{\"fillmode\":\"overlay\",\"size\":10,\"solidity\":0.2}},\"type\":\"bar\"}],\"scattergeo\":[{\"type\":\"scattergeo\",\"marker\":{\"colorbar\":{\"outlinewidth\":0,\"ticks\":\"\"}}}],\"scatterpolar\":[{\"type\":\"scatterpolar\",\"marker\":{\"colorbar\":{\"outlinewidth\":0,\"ticks\":\"\"}}}],\"histogram\":[{\"marker\":{\"pattern\":{\"fillmode\":\"overlay\",\"size\":10,\"solidity\":0.2}},\"type\":\"histogram\"}],\"scattergl\":[{\"type\":\"scattergl\",\"marker\":{\"colorbar\":{\"outlinewidth\":0,\"ticks\":\"\"}}}],\"scatter3d\":[{\"type\":\"scatter3d\",\"line\":{\"colorbar\":{\"outlinewidth\":0,\"ticks\":\"\"}},\"marker\":{\"colorbar\":{\"outlinewidth\":0,\"ticks\":\"\"}}}],\"scattermapbox\":[{\"type\":\"scattermapbox\",\"marker\":{\"colorbar\":{\"outlinewidth\":0,\"ticks\":\"\"}}}],\"scatterternary\":[{\"type\":\"scatterternary\",\"marker\":{\"colorbar\":{\"outlinewidth\":0,\"ticks\":\"\"}}}],\"scattercarpet\":[{\"type\":\"scattercarpet\",\"marker\":{\"colorbar\":{\"outlinewidth\":0,\"ticks\":\"\"}}}],\"carpet\":[{\"aaxis\":{\"endlinecolor\":\"#2a3f5f\",\"gridcolor\":\"white\",\"linecolor\":\"white\",\"minorgridcolor\":\"white\",\"startlinecolor\":\"#2a3f5f\"},\"baxis\":{\"endlinecolor\":\"#2a3f5f\",\"gridcolor\":\"white\",\"linecolor\":\"white\",\"minorgridcolor\":\"white\",\"startlinecolor\":\"#2a3f5f\"},\"type\":\"carpet\"}],\"table\":[{\"cells\":{\"fill\":{\"color\":\"#EBF0F8\"},\"line\":{\"color\":\"white\"}},\"header\":{\"fill\":{\"color\":\"#C8D4E3\"},\"line\":{\"color\":\"white\"}},\"type\":\"table\"}],\"barpolar\":[{\"marker\":{\"line\":{\"color\":\"#E5ECF6\",\"width\":0.5},\"pattern\":{\"fillmode\":\"overlay\",\"size\":10,\"solidity\":0.2}},\"type\":\"barpolar\"}],\"pie\":[{\"automargin\":true,\"type\":\"pie\"}]},\"layout\":{\"autotypenumbers\":\"strict\",\"colorway\":[\"#636efa\",\"#EF553B\",\"#00cc96\",\"#ab63fa\",\"#FFA15A\",\"#19d3f3\",\"#FF6692\",\"#B6E880\",\"#FF97FF\",\"#FECB52\"],\"font\":{\"color\":\"#2a3f5f\"},\"hovermode\":\"closest\",\"hoverlabel\":{\"align\":\"left\"},\"paper_bgcolor\":\"white\",\"plot_bgcolor\":\"#E5ECF6\",\"polar\":{\"bgcolor\":\"#E5ECF6\",\"angularaxis\":{\"gridcolor\":\"white\",\"linecolor\":\"white\",\"ticks\":\"\"},\"radialaxis\":{\"gridcolor\":\"white\",\"linecolor\":\"white\",\"ticks\":\"\"}},\"ternary\":{\"bgcolor\":\"#E5ECF6\",\"aaxis\":{\"gridcolor\":\"white\",\"linecolor\":\"white\",\"ticks\":\"\"},\"baxis\":{\"gridcolor\":\"white\",\"linecolor\":\"white\",\"ticks\":\"\"},\"caxis\":{\"gridcolor\":\"white\",\"linecolor\":\"white\",\"ticks\":\"\"}},\"coloraxis\":{\"colorbar\":{\"outlinewidth\":0,\"ticks\":\"\"}},\"colorscale\":{\"sequential\":[[0.0,\"#0d0887\"],[0.1111111111111111,\"#46039f\"],[0.2222222222222222,\"#7201a8\"],[0.3333333333333333,\"#9c179e\"],[0.4444444444444444,\"#bd3786\"],[0.5555555555555556,\"#d8576b\"],[0.6666666666666666,\"#ed7953\"],[0.7777777777777778,\"#fb9f3a\"],[0.8888888888888888,\"#fdca26\"],[1.0,\"#f0f921\"]],\"sequentialminus\":[[0.0,\"#0d0887\"],[0.1111111111111111,\"#46039f\"],[0.2222222222222222,\"#7201a8\"],[0.3333333333333333,\"#9c179e\"],[0.4444444444444444,\"#bd3786\"],[0.5555555555555556,\"#d8576b\"],[0.6666666666666666,\"#ed7953\"],[0.7777777777777778,\"#fb9f3a\"],[0.8888888888888888,\"#fdca26\"],[1.0,\"#f0f921\"]],\"diverging\":[[0,\"#8e0152\"],[0.1,\"#c51b7d\"],[0.2,\"#de77ae\"],[0.3,\"#f1b6da\"],[0.4,\"#fde0ef\"],[0.5,\"#f7f7f7\"],[0.6,\"#e6f5d0\"],[0.7,\"#b8e186\"],[0.8,\"#7fbc41\"],[0.9,\"#4d9221\"],[1,\"#276419\"]]},\"xaxis\":{\"gridcolor\":\"white\",\"linecolor\":\"white\",\"ticks\":\"\",\"title\":{\"standoff\":15},\"zerolinecolor\":\"white\",\"automargin\":true,\"zerolinewidth\":2},\"yaxis\":{\"gridcolor\":\"white\",\"linecolor\":\"white\",\"ticks\":\"\",\"title\":{\"standoff\":15},\"zerolinecolor\":\"white\",\"automargin\":true,\"zerolinewidth\":2},\"scene\":{\"xaxis\":{\"backgroundcolor\":\"#E5ECF6\",\"gridcolor\":\"white\",\"linecolor\":\"white\",\"showbackground\":true,\"ticks\":\"\",\"zerolinecolor\":\"white\",\"gridwidth\":2},\"yaxis\":{\"backgroundcolor\":\"#E5ECF6\",\"gridcolor\":\"white\",\"linecolor\":\"white\",\"showbackground\":true,\"ticks\":\"\",\"zerolinecolor\":\"white\",\"gridwidth\":2},\"zaxis\":{\"backgroundcolor\":\"#E5ECF6\",\"gridcolor\":\"white\",\"linecolor\":\"white\",\"showbackground\":true,\"ticks\":\"\",\"zerolinecolor\":\"white\",\"gridwidth\":2}},\"shapedefaults\":{\"line\":{\"color\":\"#2a3f5f\"}},\"annotationdefaults\":{\"arrowcolor\":\"#2a3f5f\",\"arrowhead\":0,\"arrowwidth\":1},\"geo\":{\"bgcolor\":\"white\",\"landcolor\":\"#E5ECF6\",\"subunitcolor\":\"white\",\"showland\":true,\"showlakes\":true,\"lakecolor\":\"white\"},\"title\":{\"x\":0.05},\"mapbox\":{\"style\":\"light\"}}},\"xaxis\":{\"anchor\":\"y\",\"domain\":[0.0,1.0],\"title\":{\"text\":\"sector_clean\"}},\"yaxis\":{\"anchor\":\"x\",\"domain\":[0.0,1.0],\"title\":{\"text\":\"ascents\"}},\"coloraxis\":{\"colorbar\":{\"title\":{\"text\":\"fos_ratio\"}},\"colorscale\":[[0.0,\"#0d0887\"],[0.1111111111111111,\"#46039f\"],[0.2222222222222222,\"#7201a8\"],[0.3333333333333333,\"#9c179e\"],[0.4444444444444444,\"#bd3786\"],[0.5555555555555556,\"#d8576b\"],[0.6666666666666666,\"#ed7953\"],[0.7777777777777778,\"#fb9f3a\"],[0.8888888888888888,\"#fdca26\"],[1.0,\"#f0f921\"]]},\"legend\":{\"tracegroupgap\":0},\"margin\":{\"t\":60},\"barmode\":\"relative\"},                        {\"responsive\": true}                    ).then(function(){\n                            \nvar gd = document.getElementById('eb35cc01-385f-4157-a52d-94bcb9b194bf');\nvar x = new MutationObserver(function (mutations, observer) {{\n        var display = window.getComputedStyle(gd).display;\n        if (!display || display === 'none') {{\n            console.log([gd, 'removed!']);\n            Plotly.purge(gd);\n            observer.disconnect();\n        }}\n}});\n\n// Listen for the removal of the full notebook cells\nvar notebookContainer = gd.closest('#notebook-container');\nif (notebookContainer) {{\n    x.observe(notebookContainer, {childList: true});\n}}\n\n// Listen for the clearing of the current output cell\nvar outputEl = gd.closest('.output');\nif (outputEl) {{\n    x.observe(outputEl, {childList: true});\n}}\n\n                        })                };                });            </script>        </div>"
     },
     "metadata": {},
     "output_type": "display_data"
    },
    {
     "data": {
      "text/plain": "     grade                            name_clean              sector  \\\n601     7b                         Toxic Gravity           Left Cave   \n590     7b                     Luna Park Perseus           Left Cave   \n867     7b                                Künefe              Sandal   \n1125    7b                        Lycian Highway       Trebenna West   \n1062    7b                          Diplomarbeit       Trebenna West   \n1166    7b                   Rattle Snake Saloon       Trebenna West   \n1088    7b                            Greek Gift       Trebenna West   \n1154    7b                            Pink power       Trebenna West   \n1129    7b                               Matbaim       Trebenna West   \n1104    7b                                 Judas       Trebenna West   \n1105    7b                             Kalhi cat       Trebenna east   \n1152    7b                        Pharao's curse       Trebenna east   \n1069    7b                               Eclipse       Trebenna West   \n1082    7b                             Gathering            Trebenna   \n1131    7b  N.N. (Some roof with jamming at top)       Trebenna West   \n1223    7b                            Soldan 12.  Trebenna/Patagonya   \n1245    7b                            Pathfinder    Turkish Standard   \n1247    7b                         Pipis & Popos    Turkish Standard   \n1232    7b                          Hunting Love    Turkish Standard   \n1236    7b                         Julia & Romeo    Turkish Standard   \n1256    7b                       pipis and popos    Turkish Standard   \n1280    7b                              Showdown               Yilan   \n\n            sector_clean  ascents  fos_ratio  recommendation  stars  \n601            Left Cave      172       0.18            0.04      3  \n590            Left Cave        1       0.00            0.00      5  \n867               Sandal        8       0.13            0.38      4  \n1125       Trebenna West      653       0.70            0.13      4  \n1062       Trebenna West      519       0.30            0.17      4  \n1166       Trebenna West      519       0.42            0.10      3  \n1088       Trebenna West      433       0.49            0.15      4  \n1154       Trebenna West      201       0.66            0.11      3  \n1129       Trebenna West      187       0.88            0.12      3  \n1104       Trebenna West       80       0.54            0.10      3  \n1105       Trebenna West       31       0.52            0.20      4  \n1152       Trebenna West       13       0.39            0.15      3  \n1069       Trebenna West        1       1.00            0.00      0  \n1082       Trebenna West        1       1.00            0.00      0  \n1131       Trebenna West        1       1.00            0.00      3  \n1223  Trebenna/Patagonya        1       0.00            0.00      0  \n1245    Turkish Standard      159       0.33            0.04      3  \n1247    Turkish Standard      104       0.32            0.10      3  \n1232    Turkish Standard       19       0.47            0.00      3  \n1236    Turkish Standard       12       0.33            0.00      2  \n1256    Turkish Standard        1       1.00            0.00      0  \n1280               Yilan       73       0.14            0.06      3  ",
      "text/html": "<div>\n<style scoped>\n    .dataframe tbody tr th:only-of-type {\n        vertical-align: middle;\n    }\n\n    .dataframe tbody tr th {\n        vertical-align: top;\n    }\n\n    .dataframe thead th {\n        text-align: right;\n    }\n</style>\n<table border=\"1\" class=\"dataframe\">\n  <thead>\n    <tr style=\"text-align: right;\">\n      <th></th>\n      <th>grade</th>\n      <th>name_clean</th>\n      <th>sector</th>\n      <th>sector_clean</th>\n      <th>ascents</th>\n      <th>fos_ratio</th>\n      <th>recommendation</th>\n      <th>stars</th>\n    </tr>\n  </thead>\n  <tbody>\n    <tr>\n      <th>601</th>\n      <td>7b</td>\n      <td>Toxic Gravity</td>\n      <td>Left Cave</td>\n      <td>Left Cave</td>\n      <td>172</td>\n      <td>0.18</td>\n      <td>0.04</td>\n      <td>3</td>\n    </tr>\n    <tr>\n      <th>590</th>\n      <td>7b</td>\n      <td>Luna Park Perseus</td>\n      <td>Left Cave</td>\n      <td>Left Cave</td>\n      <td>1</td>\n      <td>0.00</td>\n      <td>0.00</td>\n      <td>5</td>\n    </tr>\n    <tr>\n      <th>867</th>\n      <td>7b</td>\n      <td>Künefe</td>\n      <td>Sandal</td>\n      <td>Sandal</td>\n      <td>8</td>\n      <td>0.13</td>\n      <td>0.38</td>\n      <td>4</td>\n    </tr>\n    <tr>\n      <th>1125</th>\n      <td>7b</td>\n      <td>Lycian Highway</td>\n      <td>Trebenna West</td>\n      <td>Trebenna West</td>\n      <td>653</td>\n      <td>0.70</td>\n      <td>0.13</td>\n      <td>4</td>\n    </tr>\n    <tr>\n      <th>1062</th>\n      <td>7b</td>\n      <td>Diplomarbeit</td>\n      <td>Trebenna West</td>\n      <td>Trebenna West</td>\n      <td>519</td>\n      <td>0.30</td>\n      <td>0.17</td>\n      <td>4</td>\n    </tr>\n    <tr>\n      <th>1166</th>\n      <td>7b</td>\n      <td>Rattle Snake Saloon</td>\n      <td>Trebenna West</td>\n      <td>Trebenna West</td>\n      <td>519</td>\n      <td>0.42</td>\n      <td>0.10</td>\n      <td>3</td>\n    </tr>\n    <tr>\n      <th>1088</th>\n      <td>7b</td>\n      <td>Greek Gift</td>\n      <td>Trebenna West</td>\n      <td>Trebenna West</td>\n      <td>433</td>\n      <td>0.49</td>\n      <td>0.15</td>\n      <td>4</td>\n    </tr>\n    <tr>\n      <th>1154</th>\n      <td>7b</td>\n      <td>Pink power</td>\n      <td>Trebenna West</td>\n      <td>Trebenna West</td>\n      <td>201</td>\n      <td>0.66</td>\n      <td>0.11</td>\n      <td>3</td>\n    </tr>\n    <tr>\n      <th>1129</th>\n      <td>7b</td>\n      <td>Matbaim</td>\n      <td>Trebenna West</td>\n      <td>Trebenna West</td>\n      <td>187</td>\n      <td>0.88</td>\n      <td>0.12</td>\n      <td>3</td>\n    </tr>\n    <tr>\n      <th>1104</th>\n      <td>7b</td>\n      <td>Judas</td>\n      <td>Trebenna West</td>\n      <td>Trebenna West</td>\n      <td>80</td>\n      <td>0.54</td>\n      <td>0.10</td>\n      <td>3</td>\n    </tr>\n    <tr>\n      <th>1105</th>\n      <td>7b</td>\n      <td>Kalhi cat</td>\n      <td>Trebenna east</td>\n      <td>Trebenna West</td>\n      <td>31</td>\n      <td>0.52</td>\n      <td>0.20</td>\n      <td>4</td>\n    </tr>\n    <tr>\n      <th>1152</th>\n      <td>7b</td>\n      <td>Pharao's curse</td>\n      <td>Trebenna east</td>\n      <td>Trebenna West</td>\n      <td>13</td>\n      <td>0.39</td>\n      <td>0.15</td>\n      <td>3</td>\n    </tr>\n    <tr>\n      <th>1069</th>\n      <td>7b</td>\n      <td>Eclipse</td>\n      <td>Trebenna West</td>\n      <td>Trebenna West</td>\n      <td>1</td>\n      <td>1.00</td>\n      <td>0.00</td>\n      <td>0</td>\n    </tr>\n    <tr>\n      <th>1082</th>\n      <td>7b</td>\n      <td>Gathering</td>\n      <td>Trebenna</td>\n      <td>Trebenna West</td>\n      <td>1</td>\n      <td>1.00</td>\n      <td>0.00</td>\n      <td>0</td>\n    </tr>\n    <tr>\n      <th>1131</th>\n      <td>7b</td>\n      <td>N.N. (Some roof with jamming at top)</td>\n      <td>Trebenna West</td>\n      <td>Trebenna West</td>\n      <td>1</td>\n      <td>1.00</td>\n      <td>0.00</td>\n      <td>3</td>\n    </tr>\n    <tr>\n      <th>1223</th>\n      <td>7b</td>\n      <td>Soldan 12.</td>\n      <td>Trebenna/Patagonya</td>\n      <td>Trebenna/Patagonya</td>\n      <td>1</td>\n      <td>0.00</td>\n      <td>0.00</td>\n      <td>0</td>\n    </tr>\n    <tr>\n      <th>1245</th>\n      <td>7b</td>\n      <td>Pathfinder</td>\n      <td>Turkish Standard</td>\n      <td>Turkish Standard</td>\n      <td>159</td>\n      <td>0.33</td>\n      <td>0.04</td>\n      <td>3</td>\n    </tr>\n    <tr>\n      <th>1247</th>\n      <td>7b</td>\n      <td>Pipis &amp; Popos</td>\n      <td>Turkish Standard</td>\n      <td>Turkish Standard</td>\n      <td>104</td>\n      <td>0.32</td>\n      <td>0.10</td>\n      <td>3</td>\n    </tr>\n    <tr>\n      <th>1232</th>\n      <td>7b</td>\n      <td>Hunting Love</td>\n      <td>Turkish Standard</td>\n      <td>Turkish Standard</td>\n      <td>19</td>\n      <td>0.47</td>\n      <td>0.00</td>\n      <td>3</td>\n    </tr>\n    <tr>\n      <th>1236</th>\n      <td>7b</td>\n      <td>Julia &amp; Romeo</td>\n      <td>Turkish Standard</td>\n      <td>Turkish Standard</td>\n      <td>12</td>\n      <td>0.33</td>\n      <td>0.00</td>\n      <td>2</td>\n    </tr>\n    <tr>\n      <th>1256</th>\n      <td>7b</td>\n      <td>pipis and popos</td>\n      <td>Turkish Standard</td>\n      <td>Turkish Standard</td>\n      <td>1</td>\n      <td>1.00</td>\n      <td>0.00</td>\n      <td>0</td>\n    </tr>\n    <tr>\n      <th>1280</th>\n      <td>7b</td>\n      <td>Showdown</td>\n      <td>Yilan</td>\n      <td>Yilan</td>\n      <td>73</td>\n      <td>0.14</td>\n      <td>0.06</td>\n      <td>3</td>\n    </tr>\n  </tbody>\n</table>\n</div>"
     },
     "metadata": {},
     "output_type": "display_data"
    }
   ],
   "source": [
    "route_info(grade='7b', sector=south_sectors, table=True)"
   ]
  },
  {
   "cell_type": "code",
   "execution_count": 21,
   "outputs": [],
   "source": [],
   "metadata": {
    "collapsed": false,
    "ExecuteTime": {
     "end_time": "2024-02-01T13:00:27.042631500Z",
     "start_time": "2024-02-01T13:00:27.030015400Z"
    }
   },
   "id": "7d90dc127bfc12cf"
  }
 ],
 "metadata": {
  "kernelspec": {
   "display_name": "Python 3 (ipykernel)",
   "language": "python",
   "name": "python3"
  },
  "language_info": {
   "codemirror_mode": {
    "name": "ipython",
    "version": 3
   },
   "file_extension": ".py",
   "mimetype": "text/x-python",
   "name": "python",
   "nbconvert_exporter": "python",
   "pygments_lexer": "ipython3",
   "version": "3.12.0"
  }
 },
 "nbformat": 4,
 "nbformat_minor": 5
}
